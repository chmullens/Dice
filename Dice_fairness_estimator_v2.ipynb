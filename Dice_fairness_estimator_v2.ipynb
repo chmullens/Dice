{
 "cells": [
  {
   "cell_type": "markdown",
   "metadata": {},
   "source": [
    "## Dice fairness estimator for d20 dice\n",
    "\n",
    "In this project, I build a visualization to show the likelihood that a 20-sided dice is fair. \n",
    "\n",
    "For development and testing, I have relied on extensive data from two dice: one relatively fair, and one with visible face flaws that cause some sides to occur less often. These dice provide the test data to find the minimal number of rolls to determine bias. \n",
    "\n",
    "There are two primary outputs: an interactive visualization showing a dice's hot and cold spots (faces that come up more or less frequently), followed by a plot of whether a given distribution is likely to have occurred randomly, with a visualization of typical roll distributions in an unbiased dice and a chi-squared test of likelihood. \n",
    "\n",
    "There is also a third test output, in which I use an adjacency-error method to determine dice bias based on difference in frequency of adjacent dice sides. That should be useful to catch shape errors, and appears to give a fairly useful secondary estimate of bias likelihood. \n",
    "\n",
    "Tools: Monte Carlo statistical methods, vector geometry, sphere fitting, elliptic envelope\n",
    "\n",
    "I'm using Monte Carlo data simulation as the basis for the statistics, since I want to compare a dice against a perfectly random distribution. This wouldn't be great if you only care about very rare outliers, but I'm interested in common events here. "
   ]
  },
  {
   "cell_type": "code",
   "execution_count": 1,
   "metadata": {},
   "outputs": [],
   "source": [
    "#Calculate best-approximation of \"center\" of dice. Sum up number of \n",
    "#appearances for each face, treat as length of vector aiming toward\n",
    "#that face, and sum the vectors\n",
    "\n",
    "#1. Calculate the angle to each face, relative to top peak of '1':\n",
    "#    a. Calculate spherical coordinates of each vertex\n",
    "#    b. Calculate vector to center of each face (sum vertex vectors)\n",
    "#    c. Assign numbers appropriately\n",
    "#(Averaging angles means using circular statistics, found in scipy)\n",
    "\n",
    "\n",
    "#Calculating spherical coordinates of each vertex:\n",
    "\n",
    "#From Wikipedia \"Regular Icosahedron\":\n",
    "#https://en.wikipedia.org/wiki/Regular_icosahedron#Spherical_coordinates\n",
    "#    The locations of the vertices of a regular icosahedron can be described \n",
    "#    using spherical coordinates, for instance as latitude and longitude. If \n",
    "#    two vertices are taken to be at the north and south poles (latitude ±90°),\n",
    "#    then the other ten vertices are at latitude ±arctan(1/2) ≈ ±26.57°. These \n",
    "#    ten vertices are at evenly spaced longitudes (36° apart), alternating \n",
    "#    between north and south latitudes. \n",
    "#(Implemented below)\n",
    "\n",
    "\n",
    "#Calculating vector for the center of each face:\n",
    "\n",
    "#Select the three vertices (numbered as described below) that are associated\n",
    "#with each face. Sum the cartesian vectors for each vertex, then normalize to\n",
    "#vector amplitude of one. "
   ]
  },
  {
   "cell_type": "code",
   "execution_count": 2,
   "metadata": {},
   "outputs": [],
   "source": [
    "#Import libraries/functions:\n",
    "\n",
    "import numpy as np\n",
    "import pandas as pd\n",
    "from scipy.stats import circmean \n",
    "from sklearn.linear_model import LinearRegression\n",
    "import time\n",
    "\n",
    "import matplotlib.pyplot as plt\n",
    "import matplotlib.patches as patch\n",
    "from mpl_toolkits.mplot3d import Axes3D\n",
    "from mpl_toolkits.mplot3d.art3d import Poly3DCollection\n",
    "from matplotlib.transforms import Affine2D\n",
    "\n",
    "#OR, instead of struggling to make matplotlib do what it's not built to do,\n",
    "#I could just use plotly, which is built to handle 3D. \n",
    "import plotly.graph_objects as go\n"
   ]
  },
  {
   "cell_type": "code",
   "execution_count": 3,
   "metadata": {},
   "outputs": [],
   "source": [
    "%config Completer.use_jedi = False"
   ]
  },
  {
   "cell_type": "code",
   "execution_count": 4,
   "metadata": {},
   "outputs": [],
   "source": [
    "#Initialize an rng instance:\n",
    "rng = np.random.default_rng()"
   ]
  },
  {
   "cell_type": "code",
   "execution_count": 5,
   "metadata": {},
   "outputs": [],
   "source": [
    "#Convenience function: Convert from polar coordinates to cartesian coords\n",
    "def polar_to_cartesian(polarmat, thetatype='to_north'):\n",
    "    #polarmat format: If matrix, is rows of 3-var polar coordinates\n",
    "    #                 If list, is list of lists of 3-var polar coords\n",
    "    #                 (Probably works for list of 3-var vectors, too)\n",
    "    \n",
    "    #If it's not an array already, make it an array\n",
    "    if isinstance(polarmat, list):\n",
    "        polarmat = np.array(polarmat)\n",
    "        \n",
    "    if len(polarmat.shape)<=1:\n",
    "        one_row = True\n",
    "    else:\n",
    "        one_row = False\n",
    "    \n",
    "    #If the data doesn't include radius information, assume it's one\n",
    "    if one_row:    \n",
    "        if polarmat.shape[0]==2: \n",
    "            polarmat = np.insert(polarmat, 0, 1)\n",
    "    else:\n",
    "        if polarmat.shape[1]==2:\n",
    "            polarmat = np.insert(polarmat, 0, 1, axis=1)\n",
    "    \n",
    "    #Check the theta convention: 'to_north' or 'to_xy'\n",
    "    if thetatype=='to_north':\n",
    "        #No transformation needed:\n",
    "        polarmat = polarmat\n",
    "    elif thetatype=='to_xy':\n",
    "        #Convert theta values from \"angle from x/y plane\" to \"angle from\n",
    "        #north pole\" to fit slightly-more-standard spherical coord system\n",
    "        polarmat[:,1] = -1 * (polarmat[:,1] - pi/2)\n",
    "        \n",
    "    cartmat = np.zeros(polarmat.shape)\n",
    "    \n",
    "    if one_row:\n",
    "        cartmat[0] = polarmat[0] * np.sin(polarmat[1]) * np.cos(polarmat[2])\n",
    "        cartmat[1] = polarmat[0] * np.sin(polarmat[1]) * np.sin(polarmat[2])\n",
    "        cartmat[2] = polarmat[0] * np.cos(polarmat[1])\n",
    "    else:\n",
    "        cartmat[:,0] = polarmat[:,0] * np.sin(polarmat[:,1]) * np.cos(polarmat[:,2])\n",
    "        cartmat[:,1] = polarmat[:,0] * np.sin(polarmat[:,1]) * np.sin(polarmat[:,2])\n",
    "        cartmat[:,2] = polarmat[:,0] * np.cos(polarmat[:,1])\n",
    "    \n",
    "    return cartmat\n",
    "\n",
    "\n",
    "#Convenience function: Convert from cartesian to polar coords\n",
    "def cartesian_to_polar(cartmat, thetatype='to_north'):\n",
    "    #polarmat format: If matrix, is rows of 3-var polar coordinates\n",
    "    #                 If list, is list of lists of 3-var polar coords\n",
    "    #                 (Probably works with list of 3-var vectors, too)\n",
    "    \n",
    "    #If it's not an array already, make it an array\n",
    "    if isinstance(cartmat, list):\n",
    "        cartmat = np.array(cartmat)\n",
    "        \n",
    "    polarmat = np.zeros(cartmat.shape)\n",
    "    \n",
    "    if len(cartmat.shape)<=1:\n",
    "        one_row = True\n",
    "    else:\n",
    "        one_row = False\n",
    "    \n",
    "    #Radius:\n",
    "    if one_row:\n",
    "        polarmat[0] = np.sqrt(np.sum(np.square(cartmat)))\n",
    "        #Theta:\n",
    "        polarmat[1] = np.arccos(cartmat[2]/polarmat[0])\n",
    "        #Phi:\n",
    "        polarmat[2] = np.arctan(cartmat[1]/cartmat[0])\n",
    "    else:\n",
    "        polarmat[:,0] = np.sqrt(np.sum(np.square(cartmat), axis=1))\n",
    "        #Theta:\n",
    "        polarmat[:,1] = np.arccos(cartmat[:,2]/polarmat[:,0])\n",
    "        #Phi:\n",
    "        polarmat[:,2] = np.arctan(cartmat[:,1]/cartmat[:,0])\n",
    "    \n",
    "    #Check the theta convention: 'to_north' or 'to_xy'\n",
    "    if thetatype=='to_north':\n",
    "        #No transformation needed:\n",
    "        polarmat = polarmat\n",
    "    elif thetatype=='to_xy':\n",
    "        #Convert theta values from \"angle from x/y plane\" to \"angle from\n",
    "        #north pole\" to fit slightly-more-standard spherical coord system\n",
    "        polarmat[:,1] = -1 * (polarmat[:,1] - pi/2)\n",
    "    \n",
    "    return polarmat"
   ]
  },
  {
   "cell_type": "code",
   "execution_count": 6,
   "metadata": {},
   "outputs": [],
   "source": [
    "#Vertex numbering (this does not make sense unless following \n",
    "#along on a dice): Start at top vertex (v1), proceed to the lower\n",
    "#right vertex of '1' (v2), proceed counterclockwise (looking down\n",
    "#at v1) through the other nine non-pole vertices (v3-v11). That \n",
    "#ends on the 'top' vertex of the upside-down 13. v11 is taken as\n",
    "#the \"zero\" point for all longitude values. Then proceed to the\n",
    "#bottom vertex (v12).\n",
    "\n",
    "at_1 = np.arctan(1/2)\n",
    "pi = np.pi\n",
    "\n",
    "#v1-v12, in order, make up 'va' (vertex angles):\n",
    "va = [[ pi/2, 0],\n",
    "      [ 1*at_1, 1*36*pi/180],\n",
    "      [-1*at_1, 2*36*pi/180],\n",
    "      [ 1*at_1, 3*36*pi/180],\n",
    "      [-1*at_1, 4*36*pi/180],\n",
    "      [ 1*at_1, 5*36*pi/180],\n",
    "      [-1*at_1, 6*36*pi/180],\n",
    "      [ 1*at_1, 7*36*pi/180],\n",
    "      [-1*at_1, 8*36*pi/180],\n",
    "      [ 1*at_1, 9*36*pi/180],\n",
    "      [-1*at_1, 10*36*pi/180],\n",
    "      [-pi/2, 0]\n",
    "     ]\n",
    "\n",
    "#Convert vertices to cartesian for use later:\n",
    "va_cart = polar_to_cartesian(va, thetatype='to_xy')\n",
    "\n",
    "#Collect vertices associated with each face (f1-f20)\n",
    "#NOTE: THESE FACES ARE FOR THE STANDARD D&D DICE. OTHER\n",
    "#DICE SYSTEMS SOMETIMES USE DIFFERENT NUMBER LOCATIONS.\n",
    "fa_raw = [[va[0], va[1], va[9]],   #1\n",
    "          [va[6], va[8], va[11]],  #2\n",
    "          [va[0], va[3], va[5]],   #3\n",
    "          [va[2], va[10], va[11]], #4\n",
    "          [va[8], va[9], va[10]],  #5\n",
    "          [va[2], va[3], va[4]],   #6\n",
    "          [va[0], va[7], va[9]],   #7\n",
    "          [va[4], va[5], va[6]],   #8\n",
    "          [va[1], va[2], va[3]],   #9\n",
    "          [va[5], va[6], va[7]],   #10\n",
    "          [va[1], va[2], va[10]],  #11\n",
    "          [va[6], va[7], va[8]],   #12\n",
    "          [va[1], va[9], va[10]],  #13\n",
    "          [va[2], va[4], va[11]],  #14\n",
    "          [va[7], va[8], va[9]],   #15\n",
    "          [va[3], va[4], va[5]],   #16\n",
    "          [va[0], va[5], va[7]],   #17\n",
    "          [va[8], va[10], va[11]], #18\n",
    "          [va[0], va[1], va[3]],   #19\n",
    "          [va[4], va[6], va[11]]   #20\n",
    "         ]\n",
    "#Convert to 20x3x2 array (face, vect, theta/phi)\n",
    "fa_raw = np.array(fa_raw)\n",
    "\n",
    "#Build the vector version:\n",
    "fv_pre = np.zeros([20,3,3])\n",
    "for n in range(3):\n",
    "    fv_pre[:,n,0:3] = polar_to_cartesian(fa_raw[:,n,:], thetatype='to_xy')"
   ]
  },
  {
   "cell_type": "code",
   "execution_count": 7,
   "metadata": {},
   "outputs": [],
   "source": [
    "fv = np.sum(fv_pre, axis=1)\n",
    "vect_len = np.sqrt(np.sum(np.square(fv), axis=1)) \n",
    "#All vectors should have identical length at this point, but\n",
    "#left \"vect_len\" a vector for easy inspection. \n",
    "fv = np.divide(fv, vect_len[0])\n",
    "\n",
    "# #Double-check vector lengths (should be 1):\n",
    "# np.sqrt(np.sum(np.square(fv), axis=1))"
   ]
  },
  {
   "cell_type": "code",
   "execution_count": 8,
   "metadata": {},
   "outputs": [
    {
     "name": "stdout",
     "output_type": "stream",
     "text": [
      "In this set, the dice tended toward: \n",
      "[ 0.00633136 -0.00789851 -0.00847269]\n",
      "This is a relatively small bias, magnitude 0.013\n",
      "\n",
      "The bias vector points toward dice face 18\n"
     ]
    }
   ],
   "source": [
    "#Input a set of dice rolls. Get the frequency of each number, \n",
    "#then just multiply the frequency vector by the array vector\n",
    "#and sum it together to get the average vector that the dice\n",
    "#favors! Now that we have the 'fv' vector, it's super simple.\n",
    "\n",
    "#IMPORT DATA\n",
    "\n",
    "#Use an example set:\n",
    "test_dice = pd.read_excel('Dice_test.xlsx')\n",
    "test_dice_2 = pd.read_excel('Dice_test_2.xlsx', names=['Red','Aquamarine','Black','Purple'])\n",
    "test_dice_2_notes = test_dice_2.iloc[-1,:]\n",
    "test_dice_2 = test_dice_2[:-1].astype(int)\n",
    "# test_dice = test_dice[['Orange:','Blue:']]\n",
    "\n",
    "#Example test analysis:\n",
    "test_set = test_dice.iloc[:, 1]\n",
    "test_hist, test_bins = np.histogram(test_set, bins=np.arange(0.5,21.5))\n",
    "\n",
    "#This line is the key: Multiply the face vectors matrix by the\n",
    "#frequency vector. Gives you the next XYZ vector, then scale it\n",
    "#to the total number of rolls. \n",
    "outvec = np.matmul(test_hist.T, fv)/len(test_set)\n",
    "\n",
    "num_str = [str(tempnum) for tempnum in range(1,21)]\n",
    "ov_mag = np.sqrt(np.sum(np.square(outvec)))\n",
    "ov_big = outvec/ov_mag\n",
    "\n",
    "print('In this set, the dice tended toward: \\n' + str(outvec))\n",
    "if ov_mag < 0.05:\n",
    "    print('This is a relatively small bias, magnitude {0:.3f}'.format(ov_mag))\n",
    "else:\n",
    "    print('This is a relatively large bias, magnitude {0:.3f}'.format(ov_mag))\n",
    "text_outind = np.argmax(np.matmul(fv, outvec))\n",
    "print('\\nThe bias vector points toward dice face ' + num_str[text_outind])\n"
   ]
  },
  {
   "cell_type": "code",
   "execution_count": 9,
   "metadata": {},
   "outputs": [],
   "source": [
    "#ASSUMPTION: Any weight bias will result in an offset of likelihood\n",
    "#between the different numbers, and that offset approximates a sphere. \n",
    "\n",
    "#GOAL: Fit a sphere to the frequency vectors. \n",
    "#The idea here is to see how closely a sphere fits the data. If the\n",
    "#fit is poor, it's likely that any bias you're seeing is due to random\n",
    "#chance, or possibly small variations in the surface of the dice. Any\n",
    "#ellipsoid would probably also work, it's not clear to me that a sphere\n",
    "#is the optimal shape, but should approximate it reasonably well. Any \n",
    "#systematic error that DOES have a good sphere fit is likely to reflect\n",
    "#a weight imbalance.\n",
    "\n",
    "#Alternative: Could also achieve a similar end goal by testing a simple\n",
    "#correlation of how often the values for adjacent sides are similar. \n",
    "\n",
    "#Alternative 2: Could calculate \"slope\" from the direction pole to the\n",
    "#counter pole in roughly 6 directions, test slope fit. \n",
    "\n",
    "#If I wanted to get VERY fancy, I could simulate the effects of change\n",
    "#in the center of mass using a physics engine, but that's overkill.\n",
    "\n",
    "#Sphere:\n",
    "#Basic equation: (x+x0)^2 + (y+y0)^2 + (z+z0)^2 = R^2\n",
    "#Fitting variables: x0, y0, z0, R\n",
    "#Cost: (x+x0)^2 + (y+y0)^2 + (z+z0)^2 - R^2 (minimize radial distance)\n",
    "#I'd rather not do the partial derivatives and gradient myself, so I'm \n",
    "#cribbing the math from a MATLAB implementation of sphere fitting:\n",
    "\n",
    "#https://www.mathworks.com/matlabcentral/fileexchange/34129-sphere-fit-least-squared\n",
    "\n",
    "#which uses a normal equation solution. \n",
    "\n",
    "#Matlab code:\n",
    "# A=[mean(X(:,1).*(X(:,1)-mean(X(:,1)))), ...\n",
    "#     2*mean(X(:,1).*(X(:,2)-mean(X(:,2)))), ...\n",
    "#     2*mean(X(:,1).*(X(:,3)-mean(X(:,3)))); ...\n",
    "#     0, ...\n",
    "#     mean(X(:,2).*(X(:,2)-mean(X(:,2)))), ...\n",
    "#     2*mean(X(:,2).*(X(:,3)-mean(X(:,3)))); ...\n",
    "#     0, ...\n",
    "#     0, ...\n",
    "#     mean(X(:,3).*(X(:,3)-mean(X(:,3))))];\n",
    "# A=A+A.';\n",
    "# B=[mean((X(:,1).^2+X(:,2).^2+X(:,3).^2).*(X(:,1)-mean(X(:,1))));...\n",
    "#     mean((X(:,1).^2+X(:,2).^2+X(:,3).^2).*(X(:,2)-mean(X(:,2))));...\n",
    "#     mean((X(:,1).^2+X(:,2).^2+X(:,3).^2).*(X(:,3)-mean(X(:,3))))];\n",
    "# Center=(A\\B).';\n",
    "# Radius=sqrt(mean(sum([X(:,1)-Center(1),X(:,2)-Center(2),X(:,3)-Center(3)].^2,2)));\n",
    "\n",
    "#Translated to Python:\n",
    "def fit_sphere(X):\n",
    "    #Fits a sphere to a given set of Cartesian points. May fail\n",
    "    #at small numbers of points. If you're working with a small\n",
    "    #number of integer data points, like rolls, you may want to\n",
    "    #pre-process your data, since a pile of zeros does not work\n",
    "    #very well. I would recommend adding 0.05 times the vector,\n",
    "    #for example. \n",
    "    \n",
    "    #Might only need slight reworking if I wanted to try a sphere\n",
    "    #with fixed radius? Unclear. \n",
    "    \n",
    "    A = [[np.mean(X[:,0]*(X[:,0]-np.mean(X[:,0]))),\n",
    "          2*np.mean(X[:,0]*(X[:,1]-np.mean(X[:,1]))),\n",
    "          2*np.mean(X[:,0]*(X[:,2]-np.mean(X[:,2])))],\n",
    "         [0,\n",
    "          np.mean(X[:,1]*(X[:,1]-np.mean(X[:,1]))),\n",
    "          2*np.mean(X[:,1]*(X[:,2]-np.mean(X[:,2])))],\n",
    "         [0,\n",
    "          0,\n",
    "          np.mean(X[:,2]*(X[:,2]-np.mean(X[:,2])))]]\n",
    "    A = np.array(A)\n",
    "    A = A + A.T\n",
    "    B = [np.mean((X[:,0]*X[:,0] + X[:,1]*X[:,1] + X[:,2]*X[:,2]) * (X[:,0]-np.mean(X[:,0]))),\n",
    "         np.mean((X[:,0]*X[:,0] + X[:,1]*X[:,1] + X[:,2]*X[:,2]) * (X[:,1]-np.mean(X[:,1]))),\n",
    "         np.mean((X[:,0]*X[:,0] + X[:,1]*X[:,1] + X[:,2]*X[:,2]) * (X[:,2]-np.mean(X[:,2])))]\n",
    "    B = np.array(B).T\n",
    "    Center = np.linalg.lstsq(A,B, rcond=None)[0]\n",
    "    Radius = np.sqrt(np.mean(np.sum(\n",
    "        np.square(np.array([X[:,0]-Center[0],X[:,1]-Center[1],X[:,2]-Center[2]]).T), axis=1\n",
    "    )));\n",
    "    \n",
    "    return Center, Radius\n",
    "\n",
    "def sphere_error(X, Center, Radius):\n",
    "    #To calculate error, we want the distance between the\n",
    "    #sphere and the face endpoint along the face vector.\n",
    "    \n",
    "    #Calculate location on the sphere where the ratio between\n",
    "    #x, y, and z is the same as it is in the target vector:\n",
    "    \n",
    "    #Get the fixed ratio values between the elements, so we \n",
    "    #can express y & z as multiples of x:\n",
    "    yrat = X[:,1]/X[:,0] #ratio of y to x, elementwise\n",
    "    zrat = X[:,2]/X[:,0] #ratio of z to x, elementwise\n",
    "    #Plug into sphere equation, simplify to ax^2+bx+c=0:\n",
    "    a = 1 + np.square(yrat) + np.square(zrat)\n",
    "    b = 2*Center[0] + 2*yrat*Center[1] + 2*zrat*Center[2]\n",
    "    c = np.square(np.array([Center[0], Center[1], Center[2], Radius]))\n",
    "    c = c[0]+c[1]+c[2]-c[3]\n",
    "    #Ye olde Pythagorean Theorem:\n",
    "    try:\n",
    "        xint1 = (-b + np.sqrt(np.square(b) - 4*a*c))/(2*a)\n",
    "        xint2 = (-b - np.sqrt(np.square(b) - 4*a*c))/(2*a)\n",
    "    except:\n",
    "        xint1 = (-b + np.sqrt(np.square(b) - 4*a*c))/(2*a)\n",
    "        xint2 = (-b - np.sqrt(np.square(b) - 4*a*c))/(2*a)\n",
    "        print(X, np.square(b) - 4*a*c)\n",
    "    \n",
    "    #Xintercept is about the X array, not the x direction.\n",
    "    Xintercept1 = np.array([xint1, yrat*xint1, zrat*xint1]).T\n",
    "    Xintercept2 = np.array([xint2, yrat*xint2, zrat*xint2]).T\n",
    "\n",
    "    #Could do the math with least-squares distances, but this\n",
    "    #way is pretty fast. Only selecting between two points for\n",
    "    #each of 20 base coordinates.\n",
    "    #Error between each (two-element) sphere solution and X:\n",
    "    Xerror_pre = np.array([np.sum(X - Xintercept1, axis=1), np.sum(X - Xintercept2, axis=1)])\n",
    "    #Pick the smaller-amplitude of the two errors, then add \n",
    "    #the absolute values up for the whole dataset. \n",
    "    Xerror = np.sum(np.min(np.abs(Xerror_pre.T), axis=1))\n",
    "    \n",
    "    #Useful to have the raw individual-face errors:\n",
    "    tempinds = np.argmin(np.abs(Xerror_pre.T), axis=1)\n",
    "    Xerror_face = [Xerror_pre.T[n,tempinds[n]] for n in range(X.shape[0])]\n",
    "    \n",
    "    return Xerror, Xerror_face\n",
    "\n",
    "\n",
    "#Both functions are pretty efficient, run time a little under 1ms. "
   ]
  },
  {
   "cell_type": "code",
   "execution_count": 10,
   "metadata": {},
   "outputs": [
    {
     "name": "stdout",
     "output_type": "stream",
     "text": [
      "(array([ 1.01059182, -1.26978498, -0.02382767]), 10.725972801301026)\n",
      "Total sphere error across all faces: 46.34 / 200.00200000000004 rolls\n"
     ]
    }
   ],
   "source": [
    "#Can throw some warnings. Would be nice to clean them up,\n",
    "#but it's fine.\n",
    "\n",
    "#Pick a random subset of rolls from test_dice:\n",
    "test_set = test_dice.iloc[:,0]\n",
    "rng.shuffle(test_set.values)\n",
    "test_set = test_set[0:200]\n",
    "\n",
    "test_hist, test_bins = np.histogram(test_set, bins=np.arange(0.5,21.5))\n",
    "\n",
    "#Going to bias the histogram a tiny bit to avoid division\n",
    "#errors when using small sets of rolls. Errs VERY slightly\n",
    "#toward assuming the data is evenly distributed. \n",
    "test_hist = test_hist + 0.0001\n",
    "\n",
    "#Element-wise multiply the face vectors with how\n",
    "#many times each face was rolled\n",
    "X = (fv.T*test_hist.T).T\n",
    "\n",
    "dice_sphere = fit_sphere(X)\n",
    "\n",
    "print(dice_sphere)\n",
    "Center = dice_sphere[0]\n",
    "Radius = dice_sphere[1]\n",
    "\n",
    "Xerror = sphere_error(X, Center, Radius)\n",
    "\n",
    "print('Total sphere error across all faces: {0:.2f} / {1} rolls'.format(Xerror[0], sum(test_hist[0:20])))"
   ]
  },
  {
   "cell_type": "code",
   "execution_count": 11,
   "metadata": {},
   "outputs": [],
   "source": [
    "#Re-initialize rng for shuffling, etc.\n",
    "rng = np.random.default_rng()"
   ]
  },
  {
   "cell_type": "markdown",
   "metadata": {},
   "source": [
    "Looks good!\n",
    "\n",
    "And stats-wise... looking at Dice 0, when \"biasvec\" input is set to true, you can see the bias vector. It's the little green thing, and it doesn't seem to be a helpful indicator of which faces have more rolls. It's not wrong, but it's not helpful. Offsetting a sphere has the same problem. Either is *accurate*, but not very *useful*, because the dice is biased by face geometry, not weight. There is still enough bias toward one side that they do tell you something, like pointing away from the cold spot on Dice 0, but the displayed dice does better.\n",
    "\n",
    "I am reasonably sure that dice 0 (the Orange dice) is somewhat biased, given the large difference between the sides, and the fact that there is a clear order to it. However, that order is not what I was expecting. It looks like there's a cold spot, but instead of the corresponding higher areas being on the opposite side from the cold spot (like you might expect if the dice was heavier on one side), the hottest spots are right around the edge. This suggests that rather than having a weight imbalance, it has an edge imbalance. Perhaps the edges around 7 (opposite 14), may be less pronounced. This would lead to the dice tending to continue rolling, rather than stopping with that face down. \n",
    "\n",
    "\n",
    "Next steps: \n",
    "\n",
    "1) Use a sphere to display the likelihood instead of a dice? The smoothness might make the face bias and hot/cold spots easier to see, and it would be a good chance to learn how to map and smooth data onto a surface.  \n",
    "2) Histogram sorted by frequency, compare to randomly-generated sets of rolls. This will be a good way to distinguish visually between random error and systematic bias. Working now, see below."
   ]
  },
  {
   "cell_type": "code",
   "execution_count": 12,
   "metadata": {},
   "outputs": [],
   "source": [
    "#DISPLAY THE DICE, TRIMMED:\n",
    "\n",
    "#Does a fresh roll likelihood check using the number of rolls\n",
    "#found in the input, rather than using precomputed rolls. Avoids\n",
    "#the need to calculate histograms or number of expected rolls \n",
    "#based on a combination of two bracketing roll sets.\n",
    "\n",
    "def display_dice_v2(dice_set, use_offset=True, use_offsetvec=False, cmap='rdbu_r', biasvec=False):\n",
    "    '''Outputs the relative weight of each face for a given set of rolls'''\n",
    "\n",
    "    \n",
    "    # #Shuffle the dice (very handy for subsampling):\n",
    "    # rng.shuffle(dice_set.values)\n",
    "    \n",
    "    #Histogram the dice:\n",
    "    dice_hist, dice_bins = np.histogram(dice_set, bins=np.arange(0.5,21.5))\n",
    "    \n",
    "    #Make a list of the face options:\n",
    "    num_str = [str(tempnum) for tempnum in range(1,21)]\n",
    "\n",
    "    #Vectors for showing the data:\n",
    "\n",
    "    #Put in the vector of points in x,y,z; then put in the\n",
    "    #point indices (i.e. point 0, point 1, etc.) that make\n",
    "    #up the individual triangles. This is basically how I \n",
    "    #built the 'fa' face angles vector in the first place,\n",
    "    #so I just copied the 'va' indices from that.\n",
    "\n",
    "    #Draw the shape (color for frequency of face selection):\n",
    "    tri_i = [0,6,0,2,8,2,0,4,1,5,1,6,1,2,7,3,0,8,0,4]\n",
    "    tri_j = [1,8,3,10,9,3,7,5,2,6,2,7,9,4,8,4,5,10,1,6]\n",
    "    tri_k = [9,11,5,11,10,4,9,6,3,7,10,8,10,11,9,5,7,11,3,11]\n",
    "\n",
    "    tri_int = dice_hist\n",
    "    \n",
    "    #va_cart = polar_to_cartesian(va, thetatype='to_xy')\n",
    "    tri_x = va_cart[:,0]\n",
    "    tri_y = va_cart[:,1]\n",
    "    tri_z = va_cart[:,2]\n",
    "    \n",
    "    #Build the dice faces:\n",
    "    fig = go.Figure(data=[\n",
    "        go.Mesh3d(\n",
    "            x=tri_x, \n",
    "            y=tri_y, \n",
    "            z=tri_z,\n",
    "            colorscale=cmap,\n",
    "            cmax= 2*len(dice_set)/20, cmin=0,\n",
    "            #Max at double standard likelihood, \n",
    "            #min at zero for equal color weights\n",
    "            i=tri_i,\n",
    "            j=tri_j,\n",
    "            k=tri_k,\n",
    "            intensity = tri_int,\n",
    "            intensitymode = 'cell',\n",
    "            lighting=dict(ambient=1)\n",
    "        )])\n",
    "    \n",
    "    \n",
    "    #Set offset properties for all above-face markers:\n",
    "    scale_facevec = 20/len(dice_set)\n",
    "    scale_foffset = 0.7558/.9551 #distance to center of face / radius, as fraction of edge length\n",
    "    \n",
    "    #Add the expected-value markers:\n",
    "    \n",
    "    #Expected value endpoint locations:\n",
    "    temp_x3 = fv[:,0]*(scale_foffset+(len(dice_set)/20)*scale_facevec)\n",
    "    temp_y3 = fv[:,1]*(scale_foffset+(len(dice_set)/20)*scale_facevec)\n",
    "    temp_z3 = fv[:,2]*(scale_foffset+(len(dice_set)/20)*scale_facevec)\n",
    "    \n",
    "    #Expected value vectors:\n",
    "    temp_x = zip(fv[:,0]*(scale_foffset+len(dice_set)/20*scale_facevec), fv[:,0]*scale_foffset, [None] * 20)\n",
    "    temp_x4 = []\n",
    "    for temptup in temp_x:\n",
    "        temp_x4 = temp_x4 + list(temptup)\n",
    "    temp_x4 = np.array(temp_x4)\n",
    "    temp_y = zip(fv[:,1]*(scale_foffset+len(dice_set)/20*scale_facevec), fv[:,1]*scale_foffset, [None] * 20)\n",
    "    temp_y4 = []\n",
    "    for temptup in temp_y:\n",
    "        temp_y4 = temp_y4 + list(temptup)\n",
    "    temp_y4 = np.array(temp_y4)\n",
    "    temp_z = zip(fv[:,2]*(scale_foffset+len(dice_set)/20*scale_facevec), fv[:,2]*scale_foffset, [None] * 20)\n",
    "    temp_z4 = []\n",
    "    for temptup in temp_z:\n",
    "        temp_z4 = temp_z4 + list(temptup)\n",
    "    temp_z4 = np.array(temp_z4)\n",
    "    \n",
    "    #Plot expected value vectors if requested:\n",
    "    if use_offset:\n",
    "        fig.add_trace(go.Scatter3d(x=temp_x3, y=temp_y3, z=temp_z3,\n",
    "                                   mode='markers',\n",
    "                                   marker={'color':'darkgray',\n",
    "                                           'symbol':'circle',\n",
    "                                           'size':6}))\n",
    "        #Vectors don't work very well right now, end up showing on top.\n",
    "        #May have to redo, only drawing the vector from bar endpoint to\n",
    "        #expected value, and only where actual is less, so no overlap.\n",
    "        if use_offsetvec:\n",
    "            fig.add_trace(go.Scatter3d(x=temp_x4, y=temp_y4, z=temp_z4,\n",
    "                                       mode='lines',\n",
    "                                       line={'width':4,\n",
    "                                             'color':'darkgray',\n",
    "                                             'dash':'dot'}))\n",
    "\n",
    "    #Draw a path that goes along every edge:\n",
    "    all_edge_vertpath = [0,1,3,0,5,3,2,4,3,5,4,6,5,7,6,8,7,0,9,7,8,9,1,10,8,11,10,2,11,4,6,11,10,9,1,2]\n",
    "    tri_x_alledges = tri_x[all_edge_vertpath]\n",
    "    tri_y_alledges = tri_y[all_edge_vertpath]\n",
    "    tri_z_alledges = tri_z[all_edge_vertpath]\n",
    "\n",
    "    fig.add_trace(go.Scatter3d(x=tri_x_alledges, \n",
    "                               y=tri_y_alledges, \n",
    "                               z=tri_z_alledges,\n",
    "                               mode='lines',\n",
    "                               name='vertices',\n",
    "                               marker=dict(\n",
    "                                   size=12,\n",
    "                                   color=1,\n",
    "                                   opacity=1\n",
    "                               )\n",
    "                              ))\n",
    "\n",
    "\n",
    "    \n",
    "    #Build a vector to show frequency for each face:\n",
    "    \n",
    "    for n in range(20):\n",
    "        fig.add_trace(go.Scatter3d(x=[fv[n,0]*(scale_foffset+dice_hist[n]*scale_facevec), fv[n,0]*scale_foffset*0.92],\n",
    "                                   y=[fv[n,1]*(scale_foffset+dice_hist[n]*scale_facevec), fv[n,1]*scale_foffset*0.92],\n",
    "                                   z=[fv[n,2]*(scale_foffset+dice_hist[n]*scale_facevec), fv[n,2]*scale_foffset*0.92],\n",
    "                                   mode='markers',\n",
    "                                   #mode='lines+markers',\n",
    "                                   #line={'width': 2,\n",
    "                                   #     'color': 'black',\n",
    "                                   #    },\n",
    "                                   marker={'size': 4,\n",
    "                                           'color': [dice_hist[n]*scale_facevec,dice_hist[n]*scale_facevec],\n",
    "                                           'colorscale': cmap,\n",
    "                                           'cmax': 2,\n",
    "                                           'cmin': 0,\n",
    "                                           #'line':{'color':'black', 'width':4}\n",
    "                                          }\n",
    "                                  ))\n",
    "        fig.add_trace(go.Scatter3d(x=[fv[n,0]*(scale_foffset+dice_hist[n]*scale_facevec), fv[n,0]*scale_foffset*0.92],\n",
    "                                   y=[fv[n,1]*(scale_foffset+dice_hist[n]*scale_facevec), fv[n,1]*scale_foffset*0.92],\n",
    "                                   z=[fv[n,2]*(scale_foffset+dice_hist[n]*scale_facevec), fv[n,2]*scale_foffset*0.92],\n",
    "                                   mode='lines+markers',\n",
    "                                   line={'width': 16,\n",
    "                                         'color': [dice_hist[n]*scale_facevec,dice_hist[n]*scale_facevec],\n",
    "                                         'colorscale': cmap,\n",
    "                                         'cmax': 2,\n",
    "                                         'cmin': 0\n",
    "                                        },\n",
    "                                   marker={'size': 3,\n",
    "                                           'color': [dice_hist[n]*scale_facevec,dice_hist[n]*scale_facevec],\n",
    "                                           'colorscale': cmap,\n",
    "                                           'cmax': 2,\n",
    "                                           'cmin': 0\n",
    "                                          }\n",
    "                                  ))\n",
    "    \n",
    "    #Label the faces, on the end of each scale vec:\n",
    "    labels_scalevec = 0.2 + scale_foffset+dice_hist*scale_facevec\n",
    "    labelmin = 0.2 + scale_foffset+(len(dice_set)/20)*scale_facevec\n",
    "    labels_scalevec[labels_scalevec < labelmin] = labelmin\n",
    "    fig.add_trace(go.Scatter3d(x=fv[:,0]*labels_scalevec,\n",
    "                               y=fv[:,1]*labels_scalevec,\n",
    "                               z=fv[:,2]*labels_scalevec,\n",
    "                               text=num_str,\n",
    "                               textfont=dict(\n",
    "                                   family=\"sans serif\",\n",
    "                                   size=20,\n",
    "                                   color='darkblue'\n",
    "                               ),\n",
    "                               mode='text',\n",
    "                               textposition=\"middle center\"\n",
    "                              ))\n",
    "    \n",
    "    #     #Label the faces (on the face):\n",
    "    #     fig.add_trace(go.Scatter3d(x=fv[:,0]*1.1, y=fv[:,1]*1.1, z=fv[:,2]*1.1,\n",
    "    #                                text=num_str,\n",
    "    #                                textfont=dict(\n",
    "    #                                    family=\"sans serif\",\n",
    "    #                                    size=20,\n",
    "    #                                    color='darkblue'\n",
    "    #                                ),\n",
    "    #                                mode='text',\n",
    "    #                                textposition=\"middle center\"\n",
    "    #                               ))\n",
    "\n",
    "    fig.update_layout(showlegend=False)\n",
    "\n",
    "    fig.show()\n",
    "    "
   ]
  },
  {
   "cell_type": "code",
   "execution_count": 13,
   "metadata": {},
   "outputs": [],
   "source": [
    "#For a random dice, calculate adjacency likelihood \n",
    "#(will be part of \"display_dice_hist\" when complete)\n",
    "\n",
    "from sklearn.covariance import EllipticEnvelope\n",
    "\n",
    "def calculate_adjacency(dice_set, debug=False):\n",
    "    #Assuming DnD dice numbering. Could calculate\n",
    "    #these relationships based on known positioning, \n",
    "    #but this is faster, and a good spot to mess \n",
    "    #with dictionaries.\n",
    "    oneedge = {1:  [ 7,13,19],\n",
    "               2:  [12,18,20],\n",
    "               3:  [16,17,19],\n",
    "               4:  [11,14,18],\n",
    "               5:  [13,15,18],\n",
    "               6:  [ 9,14,16],\n",
    "               7:  [ 1,15,17],\n",
    "               8:  [10,16,20],\n",
    "               9:  [ 6,11,19],\n",
    "               10: [ 8,12,17],\n",
    "               11: [ 4, 9,13],\n",
    "               12: [ 2,10,15],\n",
    "               13: [ 1, 5,11],\n",
    "               14: [ 4, 6,20],\n",
    "               15: [ 5, 7,12],\n",
    "               16: [ 3, 6, 8],\n",
    "               17: [ 3, 7,10],\n",
    "               18: [ 2, 4, 5],\n",
    "               19: [ 1, 3, 9],\n",
    "               20: [ 2, 8,14]\n",
    "              }\n",
    "    #Good spot for a graph object. These are derivative of oneedge.\n",
    "    twoedge = {1:  [ 3, 5, 9,11,15,17],\n",
    "               2:  [ 4, 5, 8,10,14,15],\n",
    "               3:  [ 1, 6, 7, 8, 9,10],\n",
    "               4:  [ 2, 5, 6, 9,13,20],\n",
    "               5:  [ 1, 2, 4, 7,11,12],\n",
    "               6:  [ 3, 4, 8,11,19,20],\n",
    "               7:  [ 3, 5,10,12,13,19],\n",
    "               8:  [ 2, 3, 6,12,14,17],\n",
    "               9:  [ 1, 3, 4,13,14,16],\n",
    "               10: [ 2, 3, 7,15,16,20],\n",
    "               11: [ 1, 5, 6,14,18,19],\n",
    "               12: [ 5, 7, 8,17,18,20],\n",
    "               13: [ 4, 7, 9,15,18,19],\n",
    "               14: [ 2, 8, 9,11,16,18],\n",
    "               15: [ 1, 2,10,13,17,18],\n",
    "               16: [ 9,10,14,17,19,20],\n",
    "               17: [ 1, 8,12,15,16,19],\n",
    "               18: [11,12,13,14,15,20],\n",
    "               19: [ 6, 7,11,13,16,17],\n",
    "               20: [ 4, 6,10,12,16,18]\n",
    "              }\n",
    "    \n",
    "    tic = time.perf_counter()\n",
    "    #Need to redo for each dice set fed in.\n",
    "    dice_hist, dice_bins = np.histogram(dice_set, bins=np.arange(0.5,21.5))\n",
    "    toc1 = time.perf_counter()\n",
    "    \n",
    "    #Goal: Calculate how much adjacency predicts higher/lower values.\n",
    "\n",
    "    face_err1 = {}\n",
    "    face_err2 = {}\n",
    "    face_err3 = {}\n",
    "    face_expect = len(dice_set)/20\n",
    "    for key in oneedge:\n",
    "        #total RMSE for each face vs. 3 nearest or 6 next-nearest\n",
    "        face_err1[key] = np.sqrt(sum([(dice_hist[key-1] - dice_hist[item-1])**2 for item in oneedge[key]]))\n",
    "        face_err2[key] = np.sqrt(sum([(dice_hist[key-1] - dice_hist[item-1])**2 for item in twoedge[key]]))\n",
    "        face_err3[key] = (dice_hist[key-1] - face_expect)**2\n",
    "        \n",
    "    toc2 = time.perf_counter()\n",
    "    \n",
    "    if debug == True:\n",
    "        print(toc1-tic, toc2-toc1)\n",
    "    return face_err1, face_err2, face_err3\n",
    "\n",
    "\n",
    "def calculate_adjacency_mat(dice_set, debug=False):\n",
    "    #Assuming DnD dice numbering. Could calculate\n",
    "    #these relationships based on known positioning, \n",
    "    #but this is faster, and a good spot to mess \n",
    "    #with dictionaries.\n",
    "    numrolls = len(dice_set)\n",
    "    \n",
    "    oneedge = {1:  [ 7,13,19],\n",
    "               2:  [12,18,20],\n",
    "               3:  [16,17,19],\n",
    "               4:  [11,14,18],\n",
    "               5:  [13,15,18],\n",
    "               6:  [ 9,14,16],\n",
    "               7:  [ 1,15,17],\n",
    "               8:  [10,16,20],\n",
    "               9:  [ 6,11,19],\n",
    "               10: [ 8,12,17],\n",
    "               11: [ 4, 9,13],\n",
    "               12: [ 2,10,15],\n",
    "               13: [ 1, 5,11],\n",
    "               14: [ 4, 6,20],\n",
    "               15: [ 5, 7,12],\n",
    "               16: [ 3, 6, 8],\n",
    "               17: [ 3, 7,10],\n",
    "               18: [ 2, 4, 5],\n",
    "               19: [ 1, 3, 9],\n",
    "               20: [ 2, 8,14]\n",
    "              }\n",
    "    #Good spot for a graph object, in theory, since these\n",
    "    #are derived from oneedge, but recalculating which faces\n",
    "    #are two/three edges away every time would cost a bit, \n",
    "    #and this runs a lot.\n",
    "    twoedge = {1:  [ 3, 5, 9,11,15,17],\n",
    "               2:  [ 4, 5, 8,10,14,15],\n",
    "               3:  [ 1, 6, 7, 8, 9,10],\n",
    "               4:  [ 2, 5, 6, 9,13,20],\n",
    "               5:  [ 1, 2, 4, 7,11,12],\n",
    "               6:  [ 3, 4, 8,11,19,20],\n",
    "               7:  [ 3, 5,10,12,13,19],\n",
    "               8:  [ 2, 3, 6,12,14,17],\n",
    "               9:  [ 1, 3, 4,13,14,16],\n",
    "               10: [ 2, 3, 7,15,16,20],\n",
    "               11: [ 1, 5, 6,14,18,19],\n",
    "               12: [ 5, 7, 8,17,18,20],\n",
    "               13: [ 4, 7, 9,15,18,19],\n",
    "               14: [ 2, 8, 9,11,16,18],\n",
    "               15: [ 1, 2,10,13,17,18],\n",
    "               16: [ 9,10,14,17,19,20],\n",
    "               17: [ 1, 8,12,15,16,19],\n",
    "               18: [11,12,13,14,15,20],\n",
    "               19: [ 6, 7,11,13,16,17],\n",
    "               20: [ 4, 6,10,12,16,18]\n",
    "              }\n",
    "    \n",
    "    tic = time.perf_counter()\n",
    "    #Need to redo for each dice set fed in.\n",
    "    dice_hist, dice_bins = np.histogram(dice_set, bins=np.arange(0.5,21.5))\n",
    "    toc1 = time.perf_counter()\n",
    "    \n",
    "    #Goal: Calculate how much adjacency predicts higher/lower values.\n",
    "\n",
    "    face_err1 = np.zeros([20])\n",
    "    face_err2 = np.zeros([20])\n",
    "    face_err3 = np.zeros([20])\n",
    "    face_expect = len(dice_set)/20 #expected num times for each face\n",
    "    for key in oneedge:\n",
    "        #total RMSE for each face vs. 3 nearest faces\n",
    "        #(scaled by expected number of rolls, i.e. 2 is 2x the number you'd expect for 20 rolls)\n",
    "        face_err1[key-1] = np.sqrt(sum([(dice_hist[key-1] - dice_hist[item-1])**2 / (numrolls/20) for item in oneedge[key]]))\n",
    "        #vs. 6 further faces\n",
    "        face_err2[key-1] = np.sqrt(sum([(dice_hist[key-1] - dice_hist[item-1])**2 / (numrolls/20) for item in twoedge[key]]))\n",
    "        #error of each individual face versus mean (single value, RMSE unnecessary)\n",
    "        face_err3[key-1] = abs(dice_hist[key-1] - face_expect) / (numrolls/20)\n",
    "        \n",
    "    toc2 = time.perf_counter()\n",
    "    \n",
    "    if debug == True:\n",
    "        print('Hist: {:.6f}, err_calc: {.6f}, all {.6f}'.format(toc1-tic, toc2-toc1, toc2-tic))\n",
    "    return face_err1, face_err2, face_err3"
   ]
  },
  {
   "cell_type": "code",
   "execution_count": 14,
   "metadata": {},
   "outputs": [],
   "source": [
    "from matplotlib.lines import Line2D\n",
    "from scipy.stats import chisquare\n",
    "\n",
    "def plot_dice_stats_v2(dice_set, numsets=10000):\n",
    "\n",
    "    #Generate a matched set of random rolls:\n",
    "    rng = np.random.default_rng()\n",
    "    numrolls = len(dice_set)\n",
    "    test_hists = np.zeros([numsets, 20])\n",
    "    test_sets = np.zeros([numsets, len(dice_set)])\n",
    "    for n in range(numsets):\n",
    "        test_set = rng.integers(size=[numrolls,1], high=21, low=1)\n",
    "        test_sets[n,:] = test_set.squeeze()\n",
    "        temphist, tempbins = np.histogram(test_set, bins=np.arange(0.5,21.5))\n",
    "        test_hists[n,:] = temphist\n",
    "    \n",
    "    #Process the dice data:\n",
    "    dice_hist, dice_bins = np.histogram(dice_set, bins=np.arange(0.5,21.5))\n",
    "    dice_hist_inds = np.argsort(dice_hist) #Get which faces appeared, in what order\n",
    "    dice_hist = dice_hist[dice_hist_inds] #Get the (sorted) face frequencies\n",
    "    \n",
    "    #Set the max range of the histogram to 1/4 of total rolls:\n",
    "    #(any dice worse than that is so biased you don't need stats)\n",
    "    if numrolls < 100:\n",
    "        histrange = int(numrolls * 0.5) #If there are very few rolls, stay wider\n",
    "    else:\n",
    "        histrange = int(numrolls * 0.25)\n",
    "    \n",
    "    #Sort the randomized data by face frequency:\n",
    "    test_hists2 = np.sort(np.array(test_hists).squeeze(),axis=1)\n",
    "    test_hist = []\n",
    "    for n in range(20):\n",
    "        temphist = np.histogram(test_hists2[:,n], bins=np.arange(-0.5,histrange+1.5))\n",
    "        test_hist.append(temphist[0])\n",
    "    test_hist = np.array(test_hist).squeeze().astype(float)\n",
    "    #Reassign all zero values to NaN so they don't plot:\n",
    "    test_hist_nans = np.copy(test_hist)\n",
    "    test_hist_nans[test_hist_nans==0] = np.nan\n",
    "\n",
    "    chisq, p = chisquare(dice_hist)\n",
    "\n",
    "    plt.figure(figsize=[10,10])\n",
    "    ax = plt.subplot(111)\n",
    "    scaledhist1 = 0.5*test_hist_nans.T/(1.1*np.max(test_hist,axis=1)) + np.tile(np.arange(0.5,20.5),[histrange+1,1])\n",
    "    scaledhist2 = -0.5*test_hist_nans.T/(1.1*np.max(test_hist,axis=1)) + np.tile(np.arange(0.5,20.5),[histrange+1,1])\n",
    "    ax.set_ylim(-0.5,21)\n",
    "    minx = test_hists.min()\n",
    "    maxx = test_hists.max()\n",
    "    ax.set_xlim([-0.25*maxx, maxx*1.05]) #scaled to min: min([minx*.6, minx-5])\n",
    "    ax.plot([0,0],[-0.5,20.5], color='whitesmoke', linewidth=2) #Zero line\n",
    "    ax.plot([numrolls/20, numrolls/20],[-0.5,21], color='whitesmoke', linewidth=5) #Expected value line\n",
    "    ax.plot(scaledhist1,'gray')\n",
    "    ax.plot(scaledhist2,'gray')\n",
    "    ax.set_yticks(np.arange(20)+0.5)\n",
    "    ax.set_yticklabels(['Least   \\ncommon'] + ['']*18 + ['Most    \\ncommon'])\n",
    "    ax.set_ylabel('Dice face, ranked by how often it was rolled')\n",
    "    ax.set_xlabel('How often each face appeared in {} randomly generated sets of {} rolls'.format(numsets, numrolls))\n",
    "    #VERTICAL LINE:\n",
    "    #ax.plot(np.array([test_hist_1, test_hist_1]), np.array([np.arange(0,20), np.arange(1,21)]), 'r')\n",
    "    #SYMBOL:\n",
    "    ax.plot(dice_hist, np.arange(0,20)+0.5, 'rd')\n",
    "    \n",
    "    #Plot 5th percentile/95th percentile:\n",
    "    #SHOULD WEIGHT BETWEEN ADJACENT NUMBERS BY FRACTION\n",
    "    base_num_05 = np.percentile(test_hists2, 5, axis=0)\n",
    "    base_num_95 = np.percentile(test_hists2, 95, axis=0)\n",
    "    #print(list(zip(base_num_05, base_num_95)))\n",
    "    ax.plot([base_num_05, base_num_95],\n",
    "            [np.arange(0,20)+0.50, np.arange(0,20)+0.50], 'b+')\n",
    "    #ax.plot(, np.arange(0,20)+0.5, 'bx')\n",
    "    \n",
    "    temp_maxes = np.argmax(test_hist, axis=1)\n",
    "    temp_means = np.matmul(test_hist, np.arange(histrange+1))/np.nansum(test_hist_nans, axis=1)\n",
    "    plt.plot(np.array([temp_means, temp_means]), np.array([np.arange(0,20), np.arange(1,21)]), 'b')\n",
    "    #Label by likelihood:\n",
    "    ax.text(.015, .966, 'Face:',\n",
    "            verticalalignment='center', transform=ax.transAxes)\n",
    "    ax.text(.08, .966, 'You rolled the face at this rank\\nmore than X% of random sets:', \n",
    "            verticalalignment='center', transform=ax.transAxes)\n",
    "    n_likelihoods = []\n",
    "    for n in range(20):\n",
    "        offset_var = dice_hist[n] - temp_means[n]\n",
    "        offset_var = -1*histrange*(int(offset_var<0) - 0.25)*0.04\n",
    "        n_likelihood1 = np.sum(test_hist[n, :dice_hist[n]])/np.sum(test_hist[n,:])\n",
    "        n_likelihood2 = np.sum(test_hist[n, :dice_hist[n]+1])/np.sum(test_hist[n,:])\n",
    "        if np.abs(n_likelihood1 - 0.5) > np.abs(n_likelihood2 - 0.5):\n",
    "            n_likelihood = n_likelihood2\n",
    "        else:\n",
    "            n_likelihood = n_likelihood1\n",
    "        n_likelihoods.append(n_likelihood)\n",
    "        hmin = 0.042\n",
    "        hmax = 0.926\n",
    "        ax.text(0.03, hmin + n*(hmax-hmin)/19, num_str[dice_hist_inds[n]], transform=ax.transAxes)\n",
    "        ax.text(0.09, hmin + n*(hmax-hmin)/19, s='>{0:.2f}%'.format(n_likelihood*100), transform=ax.transAxes)\n",
    "\n",
    "\n",
    "    custom_lines = [Line2D([0], [0], color='b', lw=2),\n",
    "                    Line2D([0], [0], marker=\"+\", color='b',\n",
    "                          markerfacecolor='b', lw=0),\n",
    "                    Line2D([0], [0], marker='d', color='w', \n",
    "                          markerfacecolor='r', lw=2),\n",
    "                    Line2D([0], [0], color='gray', lw=2)\n",
    "                   ]\n",
    "    ax.legend(custom_lines, ['Typical number of\\nrolls for this rank', \n",
    "                             'How often it rolled\\nin 5%/95% of sets',\n",
    "                             'Your dice', \n",
    "                             'Distribution of\\nunbiased rolls', ], loc='lower right')    \n",
    "\n",
    "    dice_likelihood = min([1 - max(n_likelihoods), min(n_likelihoods)])\n",
    "\n",
    "    if p < 0.005:\n",
    "        titlelikelihood = 'Very likely biased.'\n",
    "    elif p < 0.05:\n",
    "        titlelikelihood = 'Possibly biased.'\n",
    "    elif p < 0.10:\n",
    "        titlelikelihood = 'Reply hazy, try rolling more.'\n",
    "    else:\n",
    "        titlelikelihood = 'May be fine!'\n",
    "\n",
    "    titletext = \"Dice verdict: Chance of happening at random ~{:.2f}%. {}\".format(p*100, titlelikelihood)\n",
    "\n",
    "    plt.title(titletext)\n",
    "    plt.show()\n",
    "\n",
    "    return dice_hist, test_hist, test_sets, numsets"
   ]
  },
  {
   "cell_type": "code",
   "execution_count": 15,
   "metadata": {},
   "outputs": [],
   "source": [
    "def get_adjacency_likelihood(dice_set, test_sets):\n",
    "    \n",
    "    face_err1_set = np.zeros([test_sets.shape[0], 20])\n",
    "    face_err2_set = np.zeros([test_sets.shape[0], 20])\n",
    "    face_err3_set = np.zeros([test_sets.shape[0], 20])\n",
    "    for n in range(test_sets.shape[0]):\n",
    "        face_err1_set[n,:], face_err2_set[n,:], face_err3_set[n,:] = calculate_adjacency_mat(test_sets[n,:])\n",
    "    \n",
    "    test_err1 = np.sqrt(np.sum(np.square(face_err1_set), axis=1))\n",
    "    test_err2 = np.sqrt(np.sum(np.square(face_err2_set), axis=1))\n",
    "    test_err3 = np.sqrt(np.sum(np.square(face_err3_set), axis=1))\n",
    "    \n",
    "    dice_err1_pre, dice_err2_pre, dice_err3_pre = calculate_adjacency_mat(dice_set)\n",
    "    dice_err1 = np.sqrt(np.sum(np.square(dice_err1_pre)))\n",
    "    dice_err2 = np.sqrt(np.sum(np.square(dice_err2_pre)))\n",
    "    dice_err3 = np.sqrt(np.sum(np.square(dice_err3_pre)))\n",
    "    \n",
    "    #Generate values for the 2D histogram (skip 3)\n",
    "    histbins = [np.linspace(min( [min(test_err1), dice_err1*0.9] )*0.9,\n",
    "                            max( [max(test_err1), dice_err1*1.1] )*1.1,num=30),\n",
    "                np.linspace(min( [min(test_err2), dice_err2*0.9] )*0.9,\n",
    "                            max( [max(test_err2), dice_err2*1.1] )*1.1,num=30),\n",
    "                #np.linspace(min( [min(test_err3), dice_err3*0.9] )*0.9,\n",
    "                #            max( [max(test_err3), dice_err3*1.1] )*1.1,num=30),\n",
    "               ]\n",
    "    \n",
    "    #Pretty standard anomaly detection method: Elliptic envelope fit\n",
    "    EllEnv = EllipticEnvelope(random_state=0, support_fraction=0.99, contamination=0.01)\n",
    "    EllEnv.fit(np.vstack([test_err1, test_err2, test_err3]).T)\n",
    "    inside_set = EllEnv.predict(np.vstack([dice_err1, dice_err2, dice_err3]).T)\n",
    "    if inside_set == 1:\n",
    "        inside_text = 'Same set'\n",
    "    else:\n",
    "        inside_text = 'Different set'\n",
    "    \n",
    "    fig = plt.figure(figsize=[10,10])\n",
    "    plt.hist2d(test_err1, test_err2, bins=histbins)\n",
    "    plt.plot(dice_err1, dice_err2, 'rd', label='Your dice')\n",
    "    plt.text(dice_err1, dice_err2*1.05, '3-error estimate: {}'.format(inside_text), \n",
    "             ha='center', va='bottom', backgroundcolor='gray')\n",
    "    plt.title('Face adjacency: Total difference between each face and its nearby faces')\n",
    "    plt.xlabel('Adjacency difference, vs. faces with a shared edge (3)')\n",
    "    plt.ylabel('Adjacency difference, vs. faces with a shared corner (6)')\n",
    "    plt.legend()\n",
    "    \n",
    "    #fig = plt.figure(figsize=[10,10])\n",
    "    #out = plt.hist(test_err1, bins=histbins[0])\n",
    "    #plt.plot(dice_err1, max(out[0])/2, 'rd', label='Your dice')\n",
    "    #plt.text(dice_err1, 1.05*max(out[0])/2, 'Same set? {}'.format(inside_text), ha='center', va='bottom')\n",
    "    #plt.title('Face adjacency: Total difference between each face and its nearby faces')\n",
    "    #plt.legend()\n",
    "    \n",
    "    plt.show()\n",
    "    return test_err1, test_err2, dice_err1, dice_err2"
   ]
  },
  {
   "cell_type": "code",
   "execution_count": 17,
   "metadata": {
    "scrolled": false
   },
   "outputs": [
    {
     "data": {
      "application/vnd.plotly.v1+json": {
       "config": {
        "plotlyServerURL": "https://plot.ly"
       },
       "data": [
        {
         "cmax": 50,
         "cmin": 0,
         "colorscale": [
          [
           0,
           "rgb(5,48,97)"
          ],
          [
           0.1,
           "rgb(33,102,172)"
          ],
          [
           0.2,
           "rgb(67,147,195)"
          ],
          [
           0.3,
           "rgb(146,197,222)"
          ],
          [
           0.4,
           "rgb(209,229,240)"
          ],
          [
           0.5,
           "rgb(247,247,247)"
          ],
          [
           0.6,
           "rgb(253,219,199)"
          ],
          [
           0.7,
           "rgb(244,165,130)"
          ],
          [
           0.8,
           "rgb(214,96,77)"
          ],
          [
           0.9,
           "rgb(178,24,43)"
          ],
          [
           1,
           "rgb(103,0,31)"
          ]
         ],
         "i": [
          0,
          6,
          0,
          2,
          8,
          2,
          0,
          4,
          1,
          5,
          1,
          6,
          1,
          2,
          7,
          3,
          0,
          8,
          0,
          4
         ],
         "intensity": [
          34,
          41,
          31,
          16,
          21,
          15,
          25,
          23,
          38,
          21,
          23,
          28,
          24,
          21,
          16,
          19,
          25,
          30,
          35,
          14
         ],
         "intensitymode": "cell",
         "j": [
          1,
          8,
          3,
          10,
          9,
          3,
          7,
          5,
          2,
          6,
          2,
          7,
          9,
          4,
          8,
          4,
          5,
          10,
          1,
          6
         ],
         "k": [
          9,
          11,
          5,
          11,
          10,
          4,
          9,
          6,
          3,
          7,
          10,
          8,
          10,
          11,
          9,
          5,
          7,
          11,
          3,
          11
         ],
         "lighting": {
          "ambient": 1
         },
         "type": "mesh3d",
         "x": [
          0,
          0.7236067977499789,
          0.27639320225002106,
          -0.27639320225002095,
          -0.7236067977499788,
          -0.8944271909999159,
          -0.7236067977499789,
          -0.2763932022500211,
          0.27639320225002084,
          0.7236067977499788,
          0.8944271909999159,
          1.2246467991473532e-16
         ],
         "y": [
          0,
          0.5257311121191336,
          0.8506508083520399,
          0.85065080835204,
          0.5257311121191337,
          1.0953573965284052e-16,
          -0.5257311121191335,
          -0.8506508083520399,
          -0.85065080835204,
          -0.5257311121191337,
          -2.1907147930568105e-16,
          0
         ],
         "z": [
          1,
          0.44721359549995804,
          -0.4472135954999579,
          0.44721359549995804,
          -0.4472135954999579,
          0.44721359549995804,
          -0.4472135954999579,
          0.44721359549995804,
          -0.4472135954999579,
          0.44721359549995804,
          -0.4472135954999579,
          -1
         ]
        },
        {
         "marker": {
          "color": "darkgray",
          "size": 6,
          "symbol": "circle"
         },
         "mode": "markers",
         "type": "scatter3d",
         "x": [
          1.087448824973112,
          -0.33604016742975945,
          -0.8797645799163154,
          0.8797645799163157,
          1.4234889924028713,
          -0.5437244124865559,
          0.33604016742975923,
          -1.7595291598326308,
          0.5437244124865561,
          -1.4234889924028717,
          1.4234889924028715,
          -0.5437244124865562,
          1.7595291598326308,
          -0.3360401674297592,
          0.5437244124865557,
          -1.4234889924028715,
          -0.8797645799163156,
          0.8797645799163154,
          0.33604016742975945,
          -1.087448824973112
         ],
         "y": [
          -8.342311925073095e-17,
          -1.0342252911281862,
          0.6391863819419743,
          0.639186381941974,
          -1.0342252911281866,
          1.6734116730701605,
          -1.0342252911281864,
          2.502693577521929e-16,
          1.6734116730701603,
          -1.0342252911281862,
          1.034225291128186,
          -1.6734116730701603,
          -2.4803532542184917e-16,
          1.0342252911281864,
          -1.6734116730701605,
          1.0342252911281864,
          -0.6391863819419741,
          -0.6391863819419744,
          1.0342252911281864,
          1.668462385014619e-16
         ],
         "z": [
          1.4234889924028717,
          -1.4234889924028715,
          1.4234889924028717,
          -1.4234889924028715,
          -0.3360401674297593,
          -0.3360401674297593,
          1.4234889924028717,
          -0.3360401674297593,
          0.3360401674297595,
          0.3360401674297595,
          -0.3360401674297593,
          -0.3360401674297593,
          0.3360401674297595,
          -1.4234889924028715,
          0.3360401674297595,
          0.3360401674297595,
          1.4234889924028717,
          -1.4234889924028715,
          1.4234889924028717,
          -1.4234889924028715
         ]
        },
        {
         "marker": {
          "color": 1,
          "opacity": 1,
          "size": 12
         },
         "mode": "lines",
         "name": "vertices",
         "type": "scatter3d",
         "x": [
          0,
          0.7236067977499789,
          -0.27639320225002095,
          0,
          -0.8944271909999159,
          -0.27639320225002095,
          0.27639320225002106,
          -0.7236067977499788,
          -0.27639320225002095,
          -0.8944271909999159,
          -0.7236067977499788,
          -0.7236067977499789,
          -0.8944271909999159,
          -0.2763932022500211,
          -0.7236067977499789,
          0.27639320225002084,
          -0.2763932022500211,
          0,
          0.7236067977499788,
          -0.2763932022500211,
          0.27639320225002084,
          0.7236067977499788,
          0.7236067977499789,
          0.8944271909999159,
          0.27639320225002084,
          1.2246467991473532e-16,
          0.8944271909999159,
          0.27639320225002106,
          1.2246467991473532e-16,
          -0.7236067977499788,
          -0.7236067977499789,
          1.2246467991473532e-16,
          0.8944271909999159,
          0.7236067977499788,
          0.7236067977499789,
          0.27639320225002106
         ],
         "y": [
          0,
          0.5257311121191336,
          0.85065080835204,
          0,
          1.0953573965284052e-16,
          0.85065080835204,
          0.8506508083520399,
          0.5257311121191337,
          0.85065080835204,
          1.0953573965284052e-16,
          0.5257311121191337,
          -0.5257311121191335,
          1.0953573965284052e-16,
          -0.8506508083520399,
          -0.5257311121191335,
          -0.85065080835204,
          -0.8506508083520399,
          0,
          -0.5257311121191337,
          -0.8506508083520399,
          -0.85065080835204,
          -0.5257311121191337,
          0.5257311121191336,
          -2.1907147930568105e-16,
          -0.85065080835204,
          0,
          -2.1907147930568105e-16,
          0.8506508083520399,
          0,
          0.5257311121191337,
          -0.5257311121191335,
          0,
          -2.1907147930568105e-16,
          -0.5257311121191337,
          0.5257311121191336,
          0.8506508083520399
         ],
         "z": [
          1,
          0.44721359549995804,
          0.44721359549995804,
          1,
          0.44721359549995804,
          0.44721359549995804,
          -0.4472135954999579,
          -0.4472135954999579,
          0.44721359549995804,
          0.44721359549995804,
          -0.4472135954999579,
          -0.4472135954999579,
          0.44721359549995804,
          0.44721359549995804,
          -0.4472135954999579,
          -0.4472135954999579,
          0.44721359549995804,
          1,
          0.44721359549995804,
          0.44721359549995804,
          -0.4472135954999579,
          0.44721359549995804,
          0.44721359549995804,
          -0.4472135954999579,
          -0.4472135954999579,
          -1,
          -0.4472135954999579,
          -0.4472135954999579,
          -1,
          -0.4472135954999579,
          -0.4472135954999579,
          -1,
          -0.4472135954999579,
          0.44721359549995804,
          0.44721359549995804,
          -0.4472135954999579
         ]
        },
        {
         "marker": {
          "cmax": 2,
          "cmin": 0,
          "color": [
           1.36,
           1.36
          ],
          "colorscale": [
           [
            0,
            "rgb(5,48,97)"
           ],
           [
            0.1,
            "rgb(33,102,172)"
           ],
           [
            0.2,
            "rgb(67,147,195)"
           ],
           [
            0.3,
            "rgb(146,197,222)"
           ],
           [
            0.4,
            "rgb(209,229,240)"
           ],
           [
            0.5,
            "rgb(247,247,247)"
           ],
           [
            0.6,
            "rgb(253,219,199)"
           ],
           [
            0.7,
            "rgb(244,165,130)"
           ],
           [
            0.8,
            "rgb(214,96,77)"
           ],
           [
            0.9,
            "rgb(178,24,43)"
           ],
           [
            1,
            "rgb(103,0,31)"
           ]
          ],
          "size": 4
         },
         "mode": "markers",
         "type": "scatter3d",
         "x": [
          1.3059911443275192,
          0.44195588062511193
         ],
         "y": [
          -1.001884893078321e-16,
          -3.390443512030292e-17
         ],
         "z": [
          1.7095646024279079,
          0.5785277585022172
         ]
        },
        {
         "line": {
          "cmax": 2,
          "cmin": 0,
          "color": [
           1.36,
           1.36
          ],
          "colorscale": [
           [
            0,
            "rgb(5,48,97)"
           ],
           [
            0.1,
            "rgb(33,102,172)"
           ],
           [
            0.2,
            "rgb(67,147,195)"
           ],
           [
            0.3,
            "rgb(146,197,222)"
           ],
           [
            0.4,
            "rgb(209,229,240)"
           ],
           [
            0.5,
            "rgb(247,247,247)"
           ],
           [
            0.6,
            "rgb(253,219,199)"
           ],
           [
            0.7,
            "rgb(244,165,130)"
           ],
           [
            0.8,
            "rgb(214,96,77)"
           ],
           [
            0.9,
            "rgb(178,24,43)"
           ],
           [
            1,
            "rgb(103,0,31)"
           ]
          ],
          "width": 16
         },
         "marker": {
          "cmax": 2,
          "cmin": 0,
          "color": [
           1.36,
           1.36
          ],
          "colorscale": [
           [
            0,
            "rgb(5,48,97)"
           ],
           [
            0.1,
            "rgb(33,102,172)"
           ],
           [
            0.2,
            "rgb(67,147,195)"
           ],
           [
            0.3,
            "rgb(146,197,222)"
           ],
           [
            0.4,
            "rgb(209,229,240)"
           ],
           [
            0.5,
            "rgb(247,247,247)"
           ],
           [
            0.6,
            "rgb(253,219,199)"
           ],
           [
            0.7,
            "rgb(244,165,130)"
           ],
           [
            0.8,
            "rgb(214,96,77)"
           ],
           [
            0.9,
            "rgb(178,24,43)"
           ],
           [
            1,
            "rgb(103,0,31)"
           ]
          ],
          "size": 3
         },
         "mode": "lines+markers",
         "type": "scatter3d",
         "x": [
          1.3059911443275192,
          0.44195588062511193
         ],
         "y": [
          -1.001884893078321e-16,
          -3.390443512030292e-17
         ],
         "z": [
          1.7095646024279079,
          0.5785277585022172
         ]
        },
        {
         "marker": {
          "cmax": 2,
          "cmin": 0,
          "color": [
           1.6400000000000001,
           1.6400000000000001
          ],
          "colorscale": [
           [
            0,
            "rgb(5,48,97)"
           ],
           [
            0.1,
            "rgb(33,102,172)"
           ],
           [
            0.2,
            "rgb(67,147,195)"
           ],
           [
            0.3,
            "rgb(146,197,222)"
           ],
           [
            0.4,
            "rgb(209,229,240)"
           ],
           [
            0.5,
            "rgb(247,247,247)"
           ],
           [
            0.6,
            "rgb(253,219,199)"
           ],
           [
            0.7,
            "rgb(244,165,130)"
           ],
           [
            0.8,
            "rgb(214,96,77)"
           ],
           [
            0.9,
            "rgb(178,24,43)"
           ],
           [
            1,
            "rgb(103,0,31)"
           ]
          ],
          "size": 4
         },
         "mode": "markers",
         "type": "scatter3d",
         "x": [
          -0.4560993508442106,
          -0.13657187787710517
         ],
         "y": [
          -1.4037294634095467,
          -0.4203250201834757
         ],
         "z": [
          -1.932067854669602,
          -0.5785277585022172
         ]
        },
        {
         "line": {
          "cmax": 2,
          "cmin": 0,
          "color": [
           1.6400000000000001,
           1.6400000000000001
          ],
          "colorscale": [
           [
            0,
            "rgb(5,48,97)"
           ],
           [
            0.1,
            "rgb(33,102,172)"
           ],
           [
            0.2,
            "rgb(67,147,195)"
           ],
           [
            0.3,
            "rgb(146,197,222)"
           ],
           [
            0.4,
            "rgb(209,229,240)"
           ],
           [
            0.5,
            "rgb(247,247,247)"
           ],
           [
            0.6,
            "rgb(253,219,199)"
           ],
           [
            0.7,
            "rgb(244,165,130)"
           ],
           [
            0.8,
            "rgb(214,96,77)"
           ],
           [
            0.9,
            "rgb(178,24,43)"
           ],
           [
            1,
            "rgb(103,0,31)"
           ]
          ],
          "width": 16
         },
         "marker": {
          "cmax": 2,
          "cmin": 0,
          "color": [
           1.6400000000000001,
           1.6400000000000001
          ],
          "colorscale": [
           [
            0,
            "rgb(5,48,97)"
           ],
           [
            0.1,
            "rgb(33,102,172)"
           ],
           [
            0.2,
            "rgb(67,147,195)"
           ],
           [
            0.3,
            "rgb(146,197,222)"
           ],
           [
            0.4,
            "rgb(209,229,240)"
           ],
           [
            0.5,
            "rgb(247,247,247)"
           ],
           [
            0.6,
            "rgb(253,219,199)"
           ],
           [
            0.7,
            "rgb(244,165,130)"
           ],
           [
            0.8,
            "rgb(214,96,77)"
           ],
           [
            0.9,
            "rgb(178,24,43)"
           ],
           [
            1,
            "rgb(103,0,31)"
           ]
          ],
          "size": 3
         },
         "mode": "lines+markers",
         "type": "scatter3d",
         "x": [
          -0.4560993508442106,
          -0.13657187787710517
         ],
         "y": [
          -1.4037294634095467,
          -0.4203250201834757
         ],
         "z": [
          -1.932067854669602,
          -0.5785277585022172
         ]
        },
        {
         "marker": {
          "cmax": 2,
          "cmin": 0,
          "color": [
           1.24,
           1.24
          ],
          "colorscale": [
           [
            0,
            "rgb(5,48,97)"
           ],
           [
            0.1,
            "rgb(33,102,172)"
           ],
           [
            0.2,
            "rgb(67,147,195)"
           ],
           [
            0.3,
            "rgb(146,197,222)"
           ],
           [
            0.4,
            "rgb(209,229,240)"
           ],
           [
            0.5,
            "rgb(247,247,247)"
           ],
           [
            0.6,
            "rgb(253,219,199)"
           ],
           [
            0.7,
            "rgb(244,165,130)"
           ],
           [
            0.8,
            "rgb(214,96,77)"
           ],
           [
            0.9,
            "rgb(178,24,43)"
           ],
           [
            1,
            "rgb(103,0,31)"
           ]
          ],
          "size": 4
         },
         "mode": "markers",
         "type": "scatter3d",
         "x": [
          -0.997634213481537,
          -0.3575498181896611
         ],
         "y": [
          0.7248236834875159,
          0.25977514879537356
         ],
         "z": [
          1.6142060657528958,
          0.5785277585022172
         ]
        },
        {
         "line": {
          "cmax": 2,
          "cmin": 0,
          "color": [
           1.24,
           1.24
          ],
          "colorscale": [
           [
            0,
            "rgb(5,48,97)"
           ],
           [
            0.1,
            "rgb(33,102,172)"
           ],
           [
            0.2,
            "rgb(67,147,195)"
           ],
           [
            0.3,
            "rgb(146,197,222)"
           ],
           [
            0.4,
            "rgb(209,229,240)"
           ],
           [
            0.5,
            "rgb(247,247,247)"
           ],
           [
            0.6,
            "rgb(253,219,199)"
           ],
           [
            0.7,
            "rgb(244,165,130)"
           ],
           [
            0.8,
            "rgb(214,96,77)"
           ],
           [
            0.9,
            "rgb(178,24,43)"
           ],
           [
            1,
            "rgb(103,0,31)"
           ]
          ],
          "width": 16
         },
         "marker": {
          "cmax": 2,
          "cmin": 0,
          "color": [
           1.24,
           1.24
          ],
          "colorscale": [
           [
            0,
            "rgb(5,48,97)"
           ],
           [
            0.1,
            "rgb(33,102,172)"
           ],
           [
            0.2,
            "rgb(67,147,195)"
           ],
           [
            0.3,
            "rgb(146,197,222)"
           ],
           [
            0.4,
            "rgb(209,229,240)"
           ],
           [
            0.5,
            "rgb(247,247,247)"
           ],
           [
            0.6,
            "rgb(253,219,199)"
           ],
           [
            0.7,
            "rgb(244,165,130)"
           ],
           [
            0.8,
            "rgb(214,96,77)"
           ],
           [
            0.9,
            "rgb(178,24,43)"
           ],
           [
            1,
            "rgb(103,0,31)"
           ]
          ],
          "size": 3
         },
         "mode": "lines+markers",
         "type": "scatter3d",
         "x": [
          -0.997634213481537,
          -0.3575498181896611
         ],
         "y": [
          0.7248236834875159,
          0.25977514879537356
         ],
         "z": [
          1.6142060657528958,
          0.5785277585022172
         ]
        },
        {
         "marker": {
          "cmax": 2,
          "cmin": 0,
          "color": [
           0.64,
           0.64
          ],
          "colorscale": [
           [
            0,
            "rgb(5,48,97)"
           ],
           [
            0.1,
            "rgb(33,102,172)"
           ],
           [
            0.2,
            "rgb(67,147,195)"
           ],
           [
            0.3,
            "rgb(146,197,222)"
           ],
           [
            0.4,
            "rgb(209,229,240)"
           ],
           [
            0.5,
            "rgb(247,247,247)"
           ],
           [
            0.6,
            "rgb(253,219,199)"
           ],
           [
            0.7,
            "rgb(244,165,130)"
           ],
           [
            0.8,
            "rgb(214,96,77)"
           ],
           [
            0.9,
            "rgb(178,24,43)"
           ],
           [
            1,
            "rgb(103,0,31)"
           ]
          ],
          "size": 4
         },
         "mode": "markers",
         "type": "scatter3d",
         "x": [
          0.7029601295684834,
          0.3575498181896612
         ],
         "y": [
          0.5107304296236617,
          0.2597751487953735
         ],
         "z": [
          -1.1374133823778358,
          -0.5785277585022172
         ]
        },
        {
         "line": {
          "cmax": 2,
          "cmin": 0,
          "color": [
           0.64,
           0.64
          ],
          "colorscale": [
           [
            0,
            "rgb(5,48,97)"
           ],
           [
            0.1,
            "rgb(33,102,172)"
           ],
           [
            0.2,
            "rgb(67,147,195)"
           ],
           [
            0.3,
            "rgb(146,197,222)"
           ],
           [
            0.4,
            "rgb(209,229,240)"
           ],
           [
            0.5,
            "rgb(247,247,247)"
           ],
           [
            0.6,
            "rgb(253,219,199)"
           ],
           [
            0.7,
            "rgb(244,165,130)"
           ],
           [
            0.8,
            "rgb(214,96,77)"
           ],
           [
            0.9,
            "rgb(178,24,43)"
           ],
           [
            1,
            "rgb(103,0,31)"
           ]
          ],
          "width": 16
         },
         "marker": {
          "cmax": 2,
          "cmin": 0,
          "color": [
           0.64,
           0.64
          ],
          "colorscale": [
           [
            0,
            "rgb(5,48,97)"
           ],
           [
            0.1,
            "rgb(33,102,172)"
           ],
           [
            0.2,
            "rgb(67,147,195)"
           ],
           [
            0.3,
            "rgb(146,197,222)"
           ],
           [
            0.4,
            "rgb(209,229,240)"
           ],
           [
            0.5,
            "rgb(247,247,247)"
           ],
           [
            0.6,
            "rgb(253,219,199)"
           ],
           [
            0.7,
            "rgb(244,165,130)"
           ],
           [
            0.8,
            "rgb(214,96,77)"
           ],
           [
            0.9,
            "rgb(178,24,43)"
           ],
           [
            1,
            "rgb(103,0,31)"
           ]
          ],
          "size": 3
         },
         "mode": "lines+markers",
         "type": "scatter3d",
         "x": [
          0.7029601295684834,
          0.3575498181896612
         ],
         "y": [
          0.5107304296236617,
          0.2597751487953735
         ],
         "z": [
          -1.1374133823778358,
          -0.5785277585022172
         ]
        },
        {
         "marker": {
          "cmax": 2,
          "cmin": 0,
          "color": [
           0.84,
           0.84
          ],
          "colorscale": [
           [
            0,
            "rgb(5,48,97)"
           ],
           [
            0.1,
            "rgb(33,102,172)"
           ],
           [
            0.2,
            "rgb(67,147,195)"
           ],
           [
            0.3,
            "rgb(146,197,222)"
           ],
           [
            0.4,
            "rgb(209,229,240)"
           ],
           [
            0.5,
            "rgb(247,247,247)"
           ],
           [
            0.6,
            "rgb(253,219,199)"
           ],
           [
            0.7,
            "rgb(244,165,130)"
           ],
           [
            0.8,
            "rgb(214,96,77)"
           ],
           [
            0.9,
            "rgb(178,24,43)"
           ],
           [
            1,
            "rgb(103,0,31)"
           ]
          ],
          "size": 4
         },
         "mode": "markers",
         "type": "scatter3d",
         "x": [
          1.2963442768361888,
          0.578527758502217
         ],
         "y": [
          -0.9418492480578464,
          -0.42032502018347584
         ],
         "z": [
          -0.3060253715761465,
          -0.13657187787710512
         ]
        },
        {
         "line": {
          "cmax": 2,
          "cmin": 0,
          "color": [
           0.84,
           0.84
          ],
          "colorscale": [
           [
            0,
            "rgb(5,48,97)"
           ],
           [
            0.1,
            "rgb(33,102,172)"
           ],
           [
            0.2,
            "rgb(67,147,195)"
           ],
           [
            0.3,
            "rgb(146,197,222)"
           ],
           [
            0.4,
            "rgb(209,229,240)"
           ],
           [
            0.5,
            "rgb(247,247,247)"
           ],
           [
            0.6,
            "rgb(253,219,199)"
           ],
           [
            0.7,
            "rgb(244,165,130)"
           ],
           [
            0.8,
            "rgb(214,96,77)"
           ],
           [
            0.9,
            "rgb(178,24,43)"
           ],
           [
            1,
            "rgb(103,0,31)"
           ]
          ],
          "width": 16
         },
         "marker": {
          "cmax": 2,
          "cmin": 0,
          "color": [
           0.84,
           0.84
          ],
          "colorscale": [
           [
            0,
            "rgb(5,48,97)"
           ],
           [
            0.1,
            "rgb(33,102,172)"
           ],
           [
            0.2,
            "rgb(67,147,195)"
           ],
           [
            0.3,
            "rgb(146,197,222)"
           ],
           [
            0.4,
            "rgb(209,229,240)"
           ],
           [
            0.5,
            "rgb(247,247,247)"
           ],
           [
            0.6,
            "rgb(253,219,199)"
           ],
           [
            0.7,
            "rgb(244,165,130)"
           ],
           [
            0.8,
            "rgb(214,96,77)"
           ],
           [
            0.9,
            "rgb(178,24,43)"
           ],
           [
            1,
            "rgb(103,0,31)"
           ]
          ],
          "size": 3
         },
         "mode": "lines+markers",
         "type": "scatter3d",
         "x": [
          1.2963442768361888,
          0.578527758502217
         ],
         "y": [
          -0.9418492480578464,
          -0.42032502018347584
         ],
         "z": [
          -0.3060253715761465,
          -0.13657187787710512
         ]
        },
        {
         "marker": {
          "cmax": 2,
          "cmin": 0,
          "color": [
           0.6,
           0.6
          ],
          "colorscale": [
           [
            0,
            "rgb(5,48,97)"
           ],
           [
            0.1,
            "rgb(33,102,172)"
           ],
           [
            0.2,
            "rgb(67,147,195)"
           ],
           [
            0.3,
            "rgb(146,197,222)"
           ],
           [
            0.4,
            "rgb(209,229,240)"
           ],
           [
            0.5,
            "rgb(247,247,247)"
           ],
           [
            0.6,
            "rgb(253,219,199)"
           ],
           [
            0.7,
            "rgb(244,165,130)"
           ],
           [
            0.8,
            "rgb(214,96,77)"
           ],
           [
            0.9,
            "rgb(178,24,43)"
           ],
           [
            1,
            "rgb(103,0,31)"
           ]
          ],
          "size": 4
         },
         "mode": "markers",
         "type": "scatter3d",
         "x": [
          -0.42231201284521874,
          -0.2209779403125559
         ],
         "y": [
          1.2997427294850743,
          0.6801001689788494
         ],
         "z": [
          -0.26100317779572735,
          -0.13657187787710512
         ]
        },
        {
         "line": {
          "cmax": 2,
          "cmin": 0,
          "color": [
           0.6,
           0.6
          ],
          "colorscale": [
           [
            0,
            "rgb(5,48,97)"
           ],
           [
            0.1,
            "rgb(33,102,172)"
           ],
           [
            0.2,
            "rgb(67,147,195)"
           ],
           [
            0.3,
            "rgb(146,197,222)"
           ],
           [
            0.4,
            "rgb(209,229,240)"
           ],
           [
            0.5,
            "rgb(247,247,247)"
           ],
           [
            0.6,
            "rgb(253,219,199)"
           ],
           [
            0.7,
            "rgb(244,165,130)"
           ],
           [
            0.8,
            "rgb(214,96,77)"
           ],
           [
            0.9,
            "rgb(178,24,43)"
           ],
           [
            1,
            "rgb(103,0,31)"
           ]
          ],
          "width": 16
         },
         "marker": {
          "cmax": 2,
          "cmin": 0,
          "color": [
           0.6,
           0.6
          ],
          "colorscale": [
           [
            0,
            "rgb(5,48,97)"
           ],
           [
            0.1,
            "rgb(33,102,172)"
           ],
           [
            0.2,
            "rgb(67,147,195)"
           ],
           [
            0.3,
            "rgb(146,197,222)"
           ],
           [
            0.4,
            "rgb(209,229,240)"
           ],
           [
            0.5,
            "rgb(247,247,247)"
           ],
           [
            0.6,
            "rgb(253,219,199)"
           ],
           [
            0.7,
            "rgb(244,165,130)"
           ],
           [
            0.8,
            "rgb(214,96,77)"
           ],
           [
            0.9,
            "rgb(178,24,43)"
           ],
           [
            1,
            "rgb(103,0,31)"
           ]
          ],
          "size": 3
         },
         "mode": "lines+markers",
         "type": "scatter3d",
         "x": [
          -0.42231201284521874,
          -0.2209779403125559
         ],
         "y": [
          1.2997427294850743,
          0.6801001689788494
         ],
         "z": [
          -0.26100317779572735,
          -0.13657187787710512
         ]
        },
        {
         "marker": {
          "cmax": 2,
          "cmin": 0,
          "color": [
           1,
           1
          ],
          "colorscale": [
           [
            0,
            "rgb(5,48,97)"
           ],
           [
            0.1,
            "rgb(33,102,172)"
           ],
           [
            0.2,
            "rgb(67,147,195)"
           ],
           [
            0.3,
            "rgb(146,197,222)"
           ],
           [
            0.4,
            "rgb(209,229,240)"
           ],
           [
            0.5,
            "rgb(247,247,247)"
           ],
           [
            0.6,
            "rgb(253,219,199)"
           ],
           [
            0.7,
            "rgb(244,165,130)"
           ],
           [
            0.8,
            "rgb(214,96,77)"
           ],
           [
            0.9,
            "rgb(178,24,43)"
           ],
           [
            1,
            "rgb(103,0,31)"
           ]
          ],
          "size": 4
         },
         "mode": "markers",
         "type": "scatter3d",
         "x": [
          0.33604016742975923,
          0.1365718778771051
         ],
         "y": [
          -1.0342252911281864,
          -0.4203250201834758
         ],
         "z": [
          1.4234889924028717,
          0.5785277585022172
         ]
        },
        {
         "line": {
          "cmax": 2,
          "cmin": 0,
          "color": [
           1,
           1
          ],
          "colorscale": [
           [
            0,
            "rgb(5,48,97)"
           ],
           [
            0.1,
            "rgb(33,102,172)"
           ],
           [
            0.2,
            "rgb(67,147,195)"
           ],
           [
            0.3,
            "rgb(146,197,222)"
           ],
           [
            0.4,
            "rgb(209,229,240)"
           ],
           [
            0.5,
            "rgb(247,247,247)"
           ],
           [
            0.6,
            "rgb(253,219,199)"
           ],
           [
            0.7,
            "rgb(244,165,130)"
           ],
           [
            0.8,
            "rgb(214,96,77)"
           ],
           [
            0.9,
            "rgb(178,24,43)"
           ],
           [
            1,
            "rgb(103,0,31)"
           ]
          ],
          "width": 16
         },
         "marker": {
          "cmax": 2,
          "cmin": 0,
          "color": [
           1,
           1
          ],
          "colorscale": [
           [
            0,
            "rgb(5,48,97)"
           ],
           [
            0.1,
            "rgb(33,102,172)"
           ],
           [
            0.2,
            "rgb(67,147,195)"
           ],
           [
            0.3,
            "rgb(146,197,222)"
           ],
           [
            0.4,
            "rgb(209,229,240)"
           ],
           [
            0.5,
            "rgb(247,247,247)"
           ],
           [
            0.6,
            "rgb(253,219,199)"
           ],
           [
            0.7,
            "rgb(244,165,130)"
           ],
           [
            0.8,
            "rgb(214,96,77)"
           ],
           [
            0.9,
            "rgb(178,24,43)"
           ],
           [
            1,
            "rgb(103,0,31)"
           ]
          ],
          "size": 3
         },
         "mode": "lines+markers",
         "type": "scatter3d",
         "x": [
          0.33604016742975923,
          0.1365718778771051
         ],
         "y": [
          -1.0342252911281864,
          -0.4203250201834758
         ],
         "z": [
          1.4234889924028717,
          0.5785277585022172
         ]
        },
        {
         "marker": {
          "cmax": 2,
          "cmin": 0,
          "color": [
           0.92,
           0.92
          ],
          "colorscale": [
           [
            0,
            "rgb(5,48,97)"
           ],
           [
            0.1,
            "rgb(33,102,172)"
           ],
           [
            0.2,
            "rgb(67,147,195)"
           ],
           [
            0.3,
            "rgb(146,197,222)"
           ],
           [
            0.4,
            "rgb(209,229,240)"
           ],
           [
            0.5,
            "rgb(247,247,247)"
           ],
           [
            0.6,
            "rgb(253,219,199)"
           ],
           [
            0.7,
            "rgb(244,165,130)"
           ],
           [
            0.8,
            "rgb(214,96,77)"
           ],
           [
            0.9,
            "rgb(178,24,43)"
           ],
           [
            1,
            "rgb(103,0,31)"
           ]
          ],
          "size": 4
         },
         "mode": "markers",
         "type": "scatter3d",
         "x": [
          -1.6809494041224833,
          -0.7150996363793222
         ],
         "y": [
          2.3909244438079217e-16,
          1.0171330536090877e-16
         ],
         "z": [
          -0.3210327695029529,
          -0.13657187787710512
         ]
        },
        {
         "line": {
          "cmax": 2,
          "cmin": 0,
          "color": [
           0.92,
           0.92
          ],
          "colorscale": [
           [
            0,
            "rgb(5,48,97)"
           ],
           [
            0.1,
            "rgb(33,102,172)"
           ],
           [
            0.2,
            "rgb(67,147,195)"
           ],
           [
            0.3,
            "rgb(146,197,222)"
           ],
           [
            0.4,
            "rgb(209,229,240)"
           ],
           [
            0.5,
            "rgb(247,247,247)"
           ],
           [
            0.6,
            "rgb(253,219,199)"
           ],
           [
            0.7,
            "rgb(244,165,130)"
           ],
           [
            0.8,
            "rgb(214,96,77)"
           ],
           [
            0.9,
            "rgb(178,24,43)"
           ],
           [
            1,
            "rgb(103,0,31)"
           ]
          ],
          "width": 16
         },
         "marker": {
          "cmax": 2,
          "cmin": 0,
          "color": [
           0.92,
           0.92
          ],
          "colorscale": [
           [
            0,
            "rgb(5,48,97)"
           ],
           [
            0.1,
            "rgb(33,102,172)"
           ],
           [
            0.2,
            "rgb(67,147,195)"
           ],
           [
            0.3,
            "rgb(146,197,222)"
           ],
           [
            0.4,
            "rgb(209,229,240)"
           ],
           [
            0.5,
            "rgb(247,247,247)"
           ],
           [
            0.6,
            "rgb(253,219,199)"
           ],
           [
            0.7,
            "rgb(244,165,130)"
           ],
           [
            0.8,
            "rgb(214,96,77)"
           ],
           [
            0.9,
            "rgb(178,24,43)"
           ],
           [
            1,
            "rgb(103,0,31)"
           ]
          ],
          "size": 3
         },
         "mode": "lines+markers",
         "type": "scatter3d",
         "x": [
          -1.6809494041224833,
          -0.7150996363793222
         ],
         "y": [
          2.3909244438079217e-16,
          1.0171330536090877e-16
         ],
         "z": [
          -0.3210327695029529,
          -0.13657187787710512
         ]
        },
        {
         "marker": {
          "cmax": 2,
          "cmin": 0,
          "color": [
           1.52,
           1.52
          ],
          "colorscale": [
           [
            0,
            "rgb(5,48,97)"
           ],
           [
            0.1,
            "rgb(33,102,172)"
           ],
           [
            0.2,
            "rgb(67,147,195)"
           ],
           [
            0.3,
            "rgb(146,197,222)"
           ],
           [
            0.4,
            "rgb(209,229,240)"
           ],
           [
            0.5,
            "rgb(247,247,247)"
           ],
           [
            0.6,
            "rgb(253,219,199)"
           ],
           [
            0.7,
            "rgb(244,165,130)"
           ],
           [
            0.8,
            "rgb(214,96,77)"
           ],
           [
            0.9,
            "rgb(178,24,43)"
           ],
           [
            1,
            "rgb(103,0,31)"
           ]
          ],
          "size": 4
         },
         "mode": "markers",
         "type": "scatter3d",
         "x": [
          0.7015605320202946,
          0.220977940312556
         ],
         "y": [
          2.1591812997307724,
          0.6801001689788493
         ],
         "z": [
          0.43358825395400113,
          0.1365718778771052
         ]
        },
        {
         "line": {
          "cmax": 2,
          "cmin": 0,
          "color": [
           1.52,
           1.52
          ],
          "colorscale": [
           [
            0,
            "rgb(5,48,97)"
           ],
           [
            0.1,
            "rgb(33,102,172)"
           ],
           [
            0.2,
            "rgb(67,147,195)"
           ],
           [
            0.3,
            "rgb(146,197,222)"
           ],
           [
            0.4,
            "rgb(209,229,240)"
           ],
           [
            0.5,
            "rgb(247,247,247)"
           ],
           [
            0.6,
            "rgb(253,219,199)"
           ],
           [
            0.7,
            "rgb(244,165,130)"
           ],
           [
            0.8,
            "rgb(214,96,77)"
           ],
           [
            0.9,
            "rgb(178,24,43)"
           ],
           [
            1,
            "rgb(103,0,31)"
           ]
          ],
          "width": 16
         },
         "marker": {
          "cmax": 2,
          "cmin": 0,
          "color": [
           1.52,
           1.52
          ],
          "colorscale": [
           [
            0,
            "rgb(5,48,97)"
           ],
           [
            0.1,
            "rgb(33,102,172)"
           ],
           [
            0.2,
            "rgb(67,147,195)"
           ],
           [
            0.3,
            "rgb(146,197,222)"
           ],
           [
            0.4,
            "rgb(209,229,240)"
           ],
           [
            0.5,
            "rgb(247,247,247)"
           ],
           [
            0.6,
            "rgb(253,219,199)"
           ],
           [
            0.7,
            "rgb(244,165,130)"
           ],
           [
            0.8,
            "rgb(214,96,77)"
           ],
           [
            0.9,
            "rgb(178,24,43)"
           ],
           [
            1,
            "rgb(103,0,31)"
           ]
          ],
          "size": 3
         },
         "mode": "lines+markers",
         "type": "scatter3d",
         "x": [
          0.7015605320202946,
          0.220977940312556
         ],
         "y": [
          2.1591812997307724,
          0.6801001689788493
         ],
         "z": [
          0.43358825395400113,
          0.1365718778771052
         ]
        },
        {
         "marker": {
          "cmax": 2,
          "cmin": 0,
          "color": [
           0.84,
           0.84
          ],
          "colorscale": [
           [
            0,
            "rgb(5,48,97)"
           ],
           [
            0.1,
            "rgb(33,102,172)"
           ],
           [
            0.2,
            "rgb(67,147,195)"
           ],
           [
            0.3,
            "rgb(146,197,222)"
           ],
           [
            0.4,
            "rgb(209,229,240)"
           ],
           [
            0.5,
            "rgb(247,247,247)"
           ],
           [
            0.6,
            "rgb(253,219,199)"
           ],
           [
            0.7,
            "rgb(244,165,130)"
           ],
           [
            0.8,
            "rgb(214,96,77)"
           ],
           [
            0.9,
            "rgb(178,24,43)"
           ],
           [
            1,
            "rgb(103,0,31)"
           ]
          ],
          "size": 4
         },
         "mode": "markers",
         "type": "scatter3d",
         "x": [
          -1.2963442768361892,
          -0.5785277585022172
         ],
         "y": [
          -0.9418492480578461,
          -0.4203250201834757
         ],
         "z": [
          0.30602537157614673,
          0.1365718778771052
         ]
        },
        {
         "line": {
          "cmax": 2,
          "cmin": 0,
          "color": [
           0.84,
           0.84
          ],
          "colorscale": [
           [
            0,
            "rgb(5,48,97)"
           ],
           [
            0.1,
            "rgb(33,102,172)"
           ],
           [
            0.2,
            "rgb(67,147,195)"
           ],
           [
            0.3,
            "rgb(146,197,222)"
           ],
           [
            0.4,
            "rgb(209,229,240)"
           ],
           [
            0.5,
            "rgb(247,247,247)"
           ],
           [
            0.6,
            "rgb(253,219,199)"
           ],
           [
            0.7,
            "rgb(244,165,130)"
           ],
           [
            0.8,
            "rgb(214,96,77)"
           ],
           [
            0.9,
            "rgb(178,24,43)"
           ],
           [
            1,
            "rgb(103,0,31)"
           ]
          ],
          "width": 16
         },
         "marker": {
          "cmax": 2,
          "cmin": 0,
          "color": [
           0.84,
           0.84
          ],
          "colorscale": [
           [
            0,
            "rgb(5,48,97)"
           ],
           [
            0.1,
            "rgb(33,102,172)"
           ],
           [
            0.2,
            "rgb(67,147,195)"
           ],
           [
            0.3,
            "rgb(146,197,222)"
           ],
           [
            0.4,
            "rgb(209,229,240)"
           ],
           [
            0.5,
            "rgb(247,247,247)"
           ],
           [
            0.6,
            "rgb(253,219,199)"
           ],
           [
            0.7,
            "rgb(244,165,130)"
           ],
           [
            0.8,
            "rgb(214,96,77)"
           ],
           [
            0.9,
            "rgb(178,24,43)"
           ],
           [
            1,
            "rgb(103,0,31)"
           ]
          ],
          "size": 3
         },
         "mode": "lines+markers",
         "type": "scatter3d",
         "x": [
          -1.2963442768361892,
          -0.5785277585022172
         ],
         "y": [
          -0.9418492480578461,
          -0.4203250201834757
         ],
         "z": [
          0.30602537157614673,
          0.1365718778771052
         ]
        },
        {
         "marker": {
          "cmax": 2,
          "cmin": 0,
          "color": [
           0.92,
           0.92
          ],
          "colorscale": [
           [
            0,
            "rgb(5,48,97)"
           ],
           [
            0.1,
            "rgb(33,102,172)"
           ],
           [
            0.2,
            "rgb(67,147,195)"
           ],
           [
            0.3,
            "rgb(146,197,222)"
           ],
           [
            0.4,
            "rgb(209,229,240)"
           ],
           [
            0.5,
            "rgb(247,247,247)"
           ],
           [
            0.6,
            "rgb(253,219,199)"
           ],
           [
            0.7,
            "rgb(244,165,130)"
           ],
           [
            0.8,
            "rgb(214,96,77)"
           ],
           [
            0.9,
            "rgb(178,24,43)"
           ],
           [
            1,
            "rgb(103,0,31)"
           ]
          ],
          "size": 4
         },
         "mode": "markers",
         "type": "scatter3d",
         "x": [
          1.3599166346195304,
          0.5785277585022172
         ],
         "y": [
          0.988037269593016,
          0.4203250201834756
         ],
         "z": [
          -0.3210327695029529,
          -0.13657187787710512
         ]
        },
        {
         "line": {
          "cmax": 2,
          "cmin": 0,
          "color": [
           0.92,
           0.92
          ],
          "colorscale": [
           [
            0,
            "rgb(5,48,97)"
           ],
           [
            0.1,
            "rgb(33,102,172)"
           ],
           [
            0.2,
            "rgb(67,147,195)"
           ],
           [
            0.3,
            "rgb(146,197,222)"
           ],
           [
            0.4,
            "rgb(209,229,240)"
           ],
           [
            0.5,
            "rgb(247,247,247)"
           ],
           [
            0.6,
            "rgb(253,219,199)"
           ],
           [
            0.7,
            "rgb(244,165,130)"
           ],
           [
            0.8,
            "rgb(214,96,77)"
           ],
           [
            0.9,
            "rgb(178,24,43)"
           ],
           [
            1,
            "rgb(103,0,31)"
           ]
          ],
          "width": 16
         },
         "marker": {
          "cmax": 2,
          "cmin": 0,
          "color": [
           0.92,
           0.92
          ],
          "colorscale": [
           [
            0,
            "rgb(5,48,97)"
           ],
           [
            0.1,
            "rgb(33,102,172)"
           ],
           [
            0.2,
            "rgb(67,147,195)"
           ],
           [
            0.3,
            "rgb(146,197,222)"
           ],
           [
            0.4,
            "rgb(209,229,240)"
           ],
           [
            0.5,
            "rgb(247,247,247)"
           ],
           [
            0.6,
            "rgb(253,219,199)"
           ],
           [
            0.7,
            "rgb(244,165,130)"
           ],
           [
            0.8,
            "rgb(214,96,77)"
           ],
           [
            0.9,
            "rgb(178,24,43)"
           ],
           [
            1,
            "rgb(103,0,31)"
           ]
          ],
          "size": 3
         },
         "mode": "lines+markers",
         "type": "scatter3d",
         "x": [
          1.3599166346195304,
          0.5785277585022172
         ],
         "y": [
          0.988037269593016,
          0.4203250201834756
         ],
         "z": [
          -0.3210327695029529,
          -0.13657187787710512
         ]
        },
        {
         "marker": {
          "cmax": 2,
          "cmin": 0,
          "color": [
           1.12,
           1.12
          ],
          "colorscale": [
           [
            0,
            "rgb(5,48,97)"
           ],
           [
            0.1,
            "rgb(33,102,172)"
           ],
           [
            0.2,
            "rgb(67,147,195)"
           ],
           [
            0.3,
            "rgb(146,197,222)"
           ],
           [
            0.4,
            "rgb(209,229,240)"
           ],
           [
            0.5,
            "rgb(247,247,247)"
           ],
           [
            0.6,
            "rgb(253,219,199)"
           ],
           [
            0.7,
            "rgb(244,165,130)"
           ],
           [
            0.8,
            "rgb(214,96,77)"
           ],
           [
            0.9,
            "rgb(178,24,43)"
           ],
           [
            1,
            "rgb(103,0,31)"
           ]
          ],
          "size": 4
         },
         "mode": "markers",
         "type": "scatter3d",
         "x": [
          -0.5801481323789575,
          -0.22097794031255602
         ],
         "y": [
          -1.7855123561456863,
          -0.6801001689788493
         ],
         "z": [
          -0.35855126431996887,
          -0.13657187787710512
         ]
        },
        {
         "line": {
          "cmax": 2,
          "cmin": 0,
          "color": [
           1.12,
           1.12
          ],
          "colorscale": [
           [
            0,
            "rgb(5,48,97)"
           ],
           [
            0.1,
            "rgb(33,102,172)"
           ],
           [
            0.2,
            "rgb(67,147,195)"
           ],
           [
            0.3,
            "rgb(146,197,222)"
           ],
           [
            0.4,
            "rgb(209,229,240)"
           ],
           [
            0.5,
            "rgb(247,247,247)"
           ],
           [
            0.6,
            "rgb(253,219,199)"
           ],
           [
            0.7,
            "rgb(244,165,130)"
           ],
           [
            0.8,
            "rgb(214,96,77)"
           ],
           [
            0.9,
            "rgb(178,24,43)"
           ],
           [
            1,
            "rgb(103,0,31)"
           ]
          ],
          "width": 16
         },
         "marker": {
          "cmax": 2,
          "cmin": 0,
          "color": [
           1.12,
           1.12
          ],
          "colorscale": [
           [
            0,
            "rgb(5,48,97)"
           ],
           [
            0.1,
            "rgb(33,102,172)"
           ],
           [
            0.2,
            "rgb(67,147,195)"
           ],
           [
            0.3,
            "rgb(146,197,222)"
           ],
           [
            0.4,
            "rgb(209,229,240)"
           ],
           [
            0.5,
            "rgb(247,247,247)"
           ],
           [
            0.6,
            "rgb(253,219,199)"
           ],
           [
            0.7,
            "rgb(244,165,130)"
           ],
           [
            0.8,
            "rgb(214,96,77)"
           ],
           [
            0.9,
            "rgb(178,24,43)"
           ],
           [
            1,
            "rgb(103,0,31)"
           ]
          ],
          "size": 3
         },
         "mode": "lines+markers",
         "type": "scatter3d",
         "x": [
          -0.5801481323789575,
          -0.22097794031255602
         ],
         "y": [
          -1.7855123561456863,
          -0.6801001689788493
         ],
         "z": [
          -0.35855126431996887,
          -0.13657187787710512
         ]
        },
        {
         "marker": {
          "cmax": 2,
          "cmin": 0,
          "color": [
           0.96,
           0.96
          ],
          "colorscale": [
           [
            0,
            "rgb(5,48,97)"
           ],
           [
            0.1,
            "rgb(33,102,172)"
           ],
           [
            0.2,
            "rgb(67,147,195)"
           ],
           [
            0.3,
            "rgb(146,197,222)"
           ],
           [
            0.4,
            "rgb(209,229,240)"
           ],
           [
            0.5,
            "rgb(247,247,247)"
           ],
           [
            0.6,
            "rgb(253,219,199)"
           ],
           [
            0.7,
            "rgb(244,165,130)"
           ],
           [
            0.8,
            "rgb(214,96,77)"
           ],
           [
            0.9,
            "rgb(178,24,43)"
           ],
           [
            1,
            "rgb(103,0,31)"
           ]
          ],
          "size": 4
         },
         "mode": "markers",
         "type": "scatter3d",
         "x": [
          1.720239281977557,
          0.7150996363793222
         ],
         "y": [
          -2.4249675415969687e-16,
          -1.0080536035859895e-16
         ],
         "z": [
          0.3285364684663563,
          0.1365718778771052
         ]
        },
        {
         "line": {
          "cmax": 2,
          "cmin": 0,
          "color": [
           0.96,
           0.96
          ],
          "colorscale": [
           [
            0,
            "rgb(5,48,97)"
           ],
           [
            0.1,
            "rgb(33,102,172)"
           ],
           [
            0.2,
            "rgb(67,147,195)"
           ],
           [
            0.3,
            "rgb(146,197,222)"
           ],
           [
            0.4,
            "rgb(209,229,240)"
           ],
           [
            0.5,
            "rgb(247,247,247)"
           ],
           [
            0.6,
            "rgb(253,219,199)"
           ],
           [
            0.7,
            "rgb(244,165,130)"
           ],
           [
            0.8,
            "rgb(214,96,77)"
           ],
           [
            0.9,
            "rgb(178,24,43)"
           ],
           [
            1,
            "rgb(103,0,31)"
           ]
          ],
          "width": 16
         },
         "marker": {
          "cmax": 2,
          "cmin": 0,
          "color": [
           0.96,
           0.96
          ],
          "colorscale": [
           [
            0,
            "rgb(5,48,97)"
           ],
           [
            0.1,
            "rgb(33,102,172)"
           ],
           [
            0.2,
            "rgb(67,147,195)"
           ],
           [
            0.3,
            "rgb(146,197,222)"
           ],
           [
            0.4,
            "rgb(209,229,240)"
           ],
           [
            0.5,
            "rgb(247,247,247)"
           ],
           [
            0.6,
            "rgb(253,219,199)"
           ],
           [
            0.7,
            "rgb(244,165,130)"
           ],
           [
            0.8,
            "rgb(214,96,77)"
           ],
           [
            0.9,
            "rgb(178,24,43)"
           ],
           [
            1,
            "rgb(103,0,31)"
           ]
          ],
          "size": 3
         },
         "mode": "lines+markers",
         "type": "scatter3d",
         "x": [
          1.720239281977557,
          0.7150996363793222
         ],
         "y": [
          -2.4249675415969687e-16,
          -1.0080536035859895e-16
         ],
         "z": [
          0.3285364684663563,
          0.1365718778771052
         ]
        },
        {
         "marker": {
          "cmax": 2,
          "cmin": 0,
          "color": [
           0.84,
           0.84
          ],
          "colorscale": [
           [
            0,
            "rgb(5,48,97)"
           ],
           [
            0.1,
            "rgb(33,102,172)"
           ],
           [
            0.2,
            "rgb(67,147,195)"
           ],
           [
            0.3,
            "rgb(146,197,222)"
           ],
           [
            0.4,
            "rgb(209,229,240)"
           ],
           [
            0.5,
            "rgb(247,247,247)"
           ],
           [
            0.6,
            "rgb(253,219,199)"
           ],
           [
            0.7,
            "rgb(244,165,130)"
           ],
           [
            0.8,
            "rgb(214,96,77)"
           ],
           [
            0.9,
            "rgb(178,24,43)"
           ],
           [
            1,
            "rgb(103,0,31)"
           ]
          ],
          "size": 4
         },
         "mode": "markers",
         "type": "scatter3d",
         "x": [
          -0.30602537157614645,
          -0.13657187787710506
         ],
         "y": [
          0.9418492480578463,
          0.4203250201834758
         ],
         "z": [
          -1.296344276836189,
          -0.5785277585022172
         ]
        },
        {
         "line": {
          "cmax": 2,
          "cmin": 0,
          "color": [
           0.84,
           0.84
          ],
          "colorscale": [
           [
            0,
            "rgb(5,48,97)"
           ],
           [
            0.1,
            "rgb(33,102,172)"
           ],
           [
            0.2,
            "rgb(67,147,195)"
           ],
           [
            0.3,
            "rgb(146,197,222)"
           ],
           [
            0.4,
            "rgb(209,229,240)"
           ],
           [
            0.5,
            "rgb(247,247,247)"
           ],
           [
            0.6,
            "rgb(253,219,199)"
           ],
           [
            0.7,
            "rgb(244,165,130)"
           ],
           [
            0.8,
            "rgb(214,96,77)"
           ],
           [
            0.9,
            "rgb(178,24,43)"
           ],
           [
            1,
            "rgb(103,0,31)"
           ]
          ],
          "width": 16
         },
         "marker": {
          "cmax": 2,
          "cmin": 0,
          "color": [
           0.84,
           0.84
          ],
          "colorscale": [
           [
            0,
            "rgb(5,48,97)"
           ],
           [
            0.1,
            "rgb(33,102,172)"
           ],
           [
            0.2,
            "rgb(67,147,195)"
           ],
           [
            0.3,
            "rgb(146,197,222)"
           ],
           [
            0.4,
            "rgb(209,229,240)"
           ],
           [
            0.5,
            "rgb(247,247,247)"
           ],
           [
            0.6,
            "rgb(253,219,199)"
           ],
           [
            0.7,
            "rgb(244,165,130)"
           ],
           [
            0.8,
            "rgb(214,96,77)"
           ],
           [
            0.9,
            "rgb(178,24,43)"
           ],
           [
            1,
            "rgb(103,0,31)"
           ]
          ],
          "size": 3
         },
         "mode": "lines+markers",
         "type": "scatter3d",
         "x": [
          -0.30602537157614645,
          -0.13657187787710506
         ],
         "y": [
          0.9418492480578463,
          0.4203250201834758
         ],
         "z": [
          -1.296344276836189,
          -0.5785277585022172
         ]
        },
        {
         "marker": {
          "cmax": 2,
          "cmin": 0,
          "color": [
           0.64,
           0.64
          ],
          "colorscale": [
           [
            0,
            "rgb(5,48,97)"
           ],
           [
            0.1,
            "rgb(33,102,172)"
           ],
           [
            0.2,
            "rgb(67,147,195)"
           ],
           [
            0.3,
            "rgb(146,197,222)"
           ],
           [
            0.4,
            "rgb(209,229,240)"
           ],
           [
            0.5,
            "rgb(247,247,247)"
           ],
           [
            0.6,
            "rgb(253,219,199)"
           ],
           [
            0.7,
            "rgb(244,165,130)"
           ],
           [
            0.8,
            "rgb(214,96,77)"
           ],
           [
            0.9,
            "rgb(178,24,43)"
           ],
           [
            1,
            "rgb(103,0,31)"
           ]
          ],
          "size": 4
         },
         "mode": "markers",
         "type": "scatter3d",
         "x": [
          0.4344532528093523,
          0.22097794031255583
         ],
         "y": [
          -1.337109623843583,
          -0.6801001689788494
         ],
         "z": [
          0.26850687675913076,
          0.1365718778771052
         ]
        },
        {
         "line": {
          "cmax": 2,
          "cmin": 0,
          "color": [
           0.64,
           0.64
          ],
          "colorscale": [
           [
            0,
            "rgb(5,48,97)"
           ],
           [
            0.1,
            "rgb(33,102,172)"
           ],
           [
            0.2,
            "rgb(67,147,195)"
           ],
           [
            0.3,
            "rgb(146,197,222)"
           ],
           [
            0.4,
            "rgb(209,229,240)"
           ],
           [
            0.5,
            "rgb(247,247,247)"
           ],
           [
            0.6,
            "rgb(253,219,199)"
           ],
           [
            0.7,
            "rgb(244,165,130)"
           ],
           [
            0.8,
            "rgb(214,96,77)"
           ],
           [
            0.9,
            "rgb(178,24,43)"
           ],
           [
            1,
            "rgb(103,0,31)"
           ]
          ],
          "width": 16
         },
         "marker": {
          "cmax": 2,
          "cmin": 0,
          "color": [
           0.64,
           0.64
          ],
          "colorscale": [
           [
            0,
            "rgb(5,48,97)"
           ],
           [
            0.1,
            "rgb(33,102,172)"
           ],
           [
            0.2,
            "rgb(67,147,195)"
           ],
           [
            0.3,
            "rgb(146,197,222)"
           ],
           [
            0.4,
            "rgb(209,229,240)"
           ],
           [
            0.5,
            "rgb(247,247,247)"
           ],
           [
            0.6,
            "rgb(253,219,199)"
           ],
           [
            0.7,
            "rgb(244,165,130)"
           ],
           [
            0.8,
            "rgb(214,96,77)"
           ],
           [
            0.9,
            "rgb(178,24,43)"
           ],
           [
            1,
            "rgb(103,0,31)"
           ]
          ],
          "size": 3
         },
         "mode": "lines+markers",
         "type": "scatter3d",
         "x": [
          0.4344532528093523,
          0.22097794031255583
         ],
         "y": [
          -1.337109623843583,
          -0.6801001689788494
         ],
         "z": [
          0.26850687675913076,
          0.1365718778771052
         ]
        },
        {
         "marker": {
          "cmax": 2,
          "cmin": 0,
          "color": [
           0.76,
           0.76
          ],
          "colorscale": [
           [
            0,
            "rgb(5,48,97)"
           ],
           [
            0.1,
            "rgb(33,102,172)"
           ],
           [
            0.2,
            "rgb(67,147,195)"
           ],
           [
            0.3,
            "rgb(146,197,222)"
           ],
           [
            0.4,
            "rgb(209,229,240)"
           ],
           [
            0.5,
            "rgb(247,247,247)"
           ],
           [
            0.6,
            "rgb(253,219,199)"
           ],
           [
            0.7,
            "rgb(244,165,130)"
           ],
           [
            0.8,
            "rgb(214,96,77)"
           ],
           [
            0.9,
            "rgb(178,24,43)"
           ],
           [
            1,
            "rgb(103,0,31)"
           ]
          ],
          "size": 4
         },
         "mode": "markers",
         "type": "scatter3d",
         "x": [
          -1.2327719190528479,
          -0.5785277585022172
         ],
         "y": [
          0.8956612265226763,
          0.4203250201834758
         ],
         "z": [
          0.2910179736493404,
          0.1365718778771052
         ]
        },
        {
         "line": {
          "cmax": 2,
          "cmin": 0,
          "color": [
           0.76,
           0.76
          ],
          "colorscale": [
           [
            0,
            "rgb(5,48,97)"
           ],
           [
            0.1,
            "rgb(33,102,172)"
           ],
           [
            0.2,
            "rgb(67,147,195)"
           ],
           [
            0.3,
            "rgb(146,197,222)"
           ],
           [
            0.4,
            "rgb(209,229,240)"
           ],
           [
            0.5,
            "rgb(247,247,247)"
           ],
           [
            0.6,
            "rgb(253,219,199)"
           ],
           [
            0.7,
            "rgb(244,165,130)"
           ],
           [
            0.8,
            "rgb(214,96,77)"
           ],
           [
            0.9,
            "rgb(178,24,43)"
           ],
           [
            1,
            "rgb(103,0,31)"
           ]
          ],
          "width": 16
         },
         "marker": {
          "cmax": 2,
          "cmin": 0,
          "color": [
           0.76,
           0.76
          ],
          "colorscale": [
           [
            0,
            "rgb(5,48,97)"
           ],
           [
            0.1,
            "rgb(33,102,172)"
           ],
           [
            0.2,
            "rgb(67,147,195)"
           ],
           [
            0.3,
            "rgb(146,197,222)"
           ],
           [
            0.4,
            "rgb(209,229,240)"
           ],
           [
            0.5,
            "rgb(247,247,247)"
           ],
           [
            0.6,
            "rgb(253,219,199)"
           ],
           [
            0.7,
            "rgb(244,165,130)"
           ],
           [
            0.8,
            "rgb(214,96,77)"
           ],
           [
            0.9,
            "rgb(178,24,43)"
           ],
           [
            1,
            "rgb(103,0,31)"
           ]
          ],
          "size": 3
         },
         "mode": "lines+markers",
         "type": "scatter3d",
         "x": [
          -1.2327719190528479,
          -0.5785277585022172
         ],
         "y": [
          0.8956612265226763,
          0.4203250201834758
         ],
         "z": [
          0.2910179736493404,
          0.1365718778771052
         ]
        },
        {
         "marker": {
          "cmax": 2,
          "cmin": 0,
          "color": [
           1,
           1
          ],
          "colorscale": [
           [
            0,
            "rgb(5,48,97)"
           ],
           [
            0.1,
            "rgb(33,102,172)"
           ],
           [
            0.2,
            "rgb(67,147,195)"
           ],
           [
            0.3,
            "rgb(146,197,222)"
           ],
           [
            0.4,
            "rgb(209,229,240)"
           ],
           [
            0.5,
            "rgb(247,247,247)"
           ],
           [
            0.6,
            "rgb(253,219,199)"
           ],
           [
            0.7,
            "rgb(244,165,130)"
           ],
           [
            0.8,
            "rgb(214,96,77)"
           ],
           [
            0.9,
            "rgb(178,24,43)"
           ],
           [
            1,
            "rgb(103,0,31)"
           ]
          ],
          "size": 4
         },
         "mode": "markers",
         "type": "scatter3d",
         "x": [
          -0.8797645799163156,
          -0.35754981818966114
         ],
         "y": [
          -0.6391863819419741,
          -0.2597751487953735
         ],
         "z": [
          1.4234889924028717,
          0.5785277585022172
         ]
        },
        {
         "line": {
          "cmax": 2,
          "cmin": 0,
          "color": [
           1,
           1
          ],
          "colorscale": [
           [
            0,
            "rgb(5,48,97)"
           ],
           [
            0.1,
            "rgb(33,102,172)"
           ],
           [
            0.2,
            "rgb(67,147,195)"
           ],
           [
            0.3,
            "rgb(146,197,222)"
           ],
           [
            0.4,
            "rgb(209,229,240)"
           ],
           [
            0.5,
            "rgb(247,247,247)"
           ],
           [
            0.6,
            "rgb(253,219,199)"
           ],
           [
            0.7,
            "rgb(244,165,130)"
           ],
           [
            0.8,
            "rgb(214,96,77)"
           ],
           [
            0.9,
            "rgb(178,24,43)"
           ],
           [
            1,
            "rgb(103,0,31)"
           ]
          ],
          "width": 16
         },
         "marker": {
          "cmax": 2,
          "cmin": 0,
          "color": [
           1,
           1
          ],
          "colorscale": [
           [
            0,
            "rgb(5,48,97)"
           ],
           [
            0.1,
            "rgb(33,102,172)"
           ],
           [
            0.2,
            "rgb(67,147,195)"
           ],
           [
            0.3,
            "rgb(146,197,222)"
           ],
           [
            0.4,
            "rgb(209,229,240)"
           ],
           [
            0.5,
            "rgb(247,247,247)"
           ],
           [
            0.6,
            "rgb(253,219,199)"
           ],
           [
            0.7,
            "rgb(244,165,130)"
           ],
           [
            0.8,
            "rgb(214,96,77)"
           ],
           [
            0.9,
            "rgb(178,24,43)"
           ],
           [
            1,
            "rgb(103,0,31)"
           ]
          ],
          "size": 3
         },
         "mode": "lines+markers",
         "type": "scatter3d",
         "x": [
          -0.8797645799163156,
          -0.35754981818966114
         ],
         "y": [
          -0.6391863819419741,
          -0.2597751487953735
         ],
         "z": [
          1.4234889924028717,
          0.5785277585022172
         ]
        },
        {
         "marker": {
          "cmax": 2,
          "cmin": 0,
          "color": [
           1.2,
           1.2
          ],
          "colorscale": [
           [
            0,
            "rgb(5,48,97)"
           ],
           [
            0.1,
            "rgb(33,102,172)"
           ],
           [
            0.2,
            "rgb(67,147,195)"
           ],
           [
            0.3,
            "rgb(146,197,222)"
           ],
           [
            0.4,
            "rgb(209,229,240)"
           ],
           [
            0.5,
            "rgb(247,247,247)"
           ],
           [
            0.6,
            "rgb(253,219,199)"
           ],
           [
            0.7,
            "rgb(244,165,130)"
           ],
           [
            0.8,
            "rgb(214,96,77)"
           ],
           [
            0.9,
            "rgb(178,24,43)"
           ],
           [
            1,
            "rgb(103,0,31)"
           ]
          ],
          "size": 4
         },
         "mode": "markers",
         "type": "scatter3d",
         "x": [
          0.9779892745540001,
          0.3575498181896611
         ],
         "y": [
          -0.7105507998965924,
          -0.2597751487953736
         ],
         "z": [
          -1.582419886861225,
          -0.5785277585022172
         ]
        },
        {
         "line": {
          "cmax": 2,
          "cmin": 0,
          "color": [
           1.2,
           1.2
          ],
          "colorscale": [
           [
            0,
            "rgb(5,48,97)"
           ],
           [
            0.1,
            "rgb(33,102,172)"
           ],
           [
            0.2,
            "rgb(67,147,195)"
           ],
           [
            0.3,
            "rgb(146,197,222)"
           ],
           [
            0.4,
            "rgb(209,229,240)"
           ],
           [
            0.5,
            "rgb(247,247,247)"
           ],
           [
            0.6,
            "rgb(253,219,199)"
           ],
           [
            0.7,
            "rgb(244,165,130)"
           ],
           [
            0.8,
            "rgb(214,96,77)"
           ],
           [
            0.9,
            "rgb(178,24,43)"
           ],
           [
            1,
            "rgb(103,0,31)"
           ]
          ],
          "width": 16
         },
         "marker": {
          "cmax": 2,
          "cmin": 0,
          "color": [
           1.2,
           1.2
          ],
          "colorscale": [
           [
            0,
            "rgb(5,48,97)"
           ],
           [
            0.1,
            "rgb(33,102,172)"
           ],
           [
            0.2,
            "rgb(67,147,195)"
           ],
           [
            0.3,
            "rgb(146,197,222)"
           ],
           [
            0.4,
            "rgb(209,229,240)"
           ],
           [
            0.5,
            "rgb(247,247,247)"
           ],
           [
            0.6,
            "rgb(253,219,199)"
           ],
           [
            0.7,
            "rgb(244,165,130)"
           ],
           [
            0.8,
            "rgb(214,96,77)"
           ],
           [
            0.9,
            "rgb(178,24,43)"
           ],
           [
            1,
            "rgb(103,0,31)"
           ]
          ],
          "size": 3
         },
         "mode": "lines+markers",
         "type": "scatter3d",
         "x": [
          0.9779892745540001,
          0.3575498181896611
         ],
         "y": [
          -0.7105507998965924,
          -0.2597751487953736
         ],
         "z": [
          -1.582419886861225,
          -0.5785277585022172
         ]
        },
        {
         "marker": {
          "cmax": 2,
          "cmin": 0,
          "color": [
           1.4000000000000001,
           1.4000000000000001
          ],
          "colorscale": [
           [
            0,
            "rgb(5,48,97)"
           ],
           [
            0.1,
            "rgb(33,102,172)"
           ],
           [
            0.2,
            "rgb(67,147,195)"
           ],
           [
            0.3,
            "rgb(146,197,222)"
           ],
           [
            0.4,
            "rgb(209,229,240)"
           ],
           [
            0.5,
            "rgb(247,247,247)"
           ],
           [
            0.6,
            "rgb(253,219,199)"
           ],
           [
            0.7,
            "rgb(244,165,130)"
           ],
           [
            0.8,
            "rgb(214,96,77)"
           ],
           [
            0.9,
            "rgb(178,24,43)"
           ],
           [
            1,
            "rgb(103,0,31)"
           ]
          ],
          "size": 4
         },
         "mode": "markers",
         "type": "scatter3d",
         "x": [
          0.41107715706379144,
          0.13657187787710517
         ],
         "y": [
          1.265165398804037,
          0.4203250201834758
         ],
         "z": [
          1.7413507813195785,
          0.5785277585022172
         ]
        },
        {
         "line": {
          "cmax": 2,
          "cmin": 0,
          "color": [
           1.4000000000000001,
           1.4000000000000001
          ],
          "colorscale": [
           [
            0,
            "rgb(5,48,97)"
           ],
           [
            0.1,
            "rgb(33,102,172)"
           ],
           [
            0.2,
            "rgb(67,147,195)"
           ],
           [
            0.3,
            "rgb(146,197,222)"
           ],
           [
            0.4,
            "rgb(209,229,240)"
           ],
           [
            0.5,
            "rgb(247,247,247)"
           ],
           [
            0.6,
            "rgb(253,219,199)"
           ],
           [
            0.7,
            "rgb(244,165,130)"
           ],
           [
            0.8,
            "rgb(214,96,77)"
           ],
           [
            0.9,
            "rgb(178,24,43)"
           ],
           [
            1,
            "rgb(103,0,31)"
           ]
          ],
          "width": 16
         },
         "marker": {
          "cmax": 2,
          "cmin": 0,
          "color": [
           1.4000000000000001,
           1.4000000000000001
          ],
          "colorscale": [
           [
            0,
            "rgb(5,48,97)"
           ],
           [
            0.1,
            "rgb(33,102,172)"
           ],
           [
            0.2,
            "rgb(67,147,195)"
           ],
           [
            0.3,
            "rgb(146,197,222)"
           ],
           [
            0.4,
            "rgb(209,229,240)"
           ],
           [
            0.5,
            "rgb(247,247,247)"
           ],
           [
            0.6,
            "rgb(253,219,199)"
           ],
           [
            0.7,
            "rgb(244,165,130)"
           ],
           [
            0.8,
            "rgb(214,96,77)"
           ],
           [
            0.9,
            "rgb(178,24,43)"
           ],
           [
            1,
            "rgb(103,0,31)"
           ]
          ],
          "size": 3
         },
         "mode": "lines+markers",
         "type": "scatter3d",
         "x": [
          0.41107715706379144,
          0.13657187787710517
         ],
         "y": [
          1.265165398804037,
          0.4203250201834758
         ],
         "z": [
          1.7413507813195785,
          0.5785277585022172
         ]
        },
        {
         "marker": {
          "cmax": 2,
          "cmin": 0,
          "color": [
           0.56,
           0.56
          ],
          "colorscale": [
           [
            0,
            "rgb(5,48,97)"
           ],
           [
            0.1,
            "rgb(33,102,172)"
           ],
           [
            0.2,
            "rgb(67,147,195)"
           ],
           [
            0.3,
            "rgb(146,197,222)"
           ],
           [
            0.4,
            "rgb(209,229,240)"
           ],
           [
            0.5,
            "rgb(247,247,247)"
           ],
           [
            0.6,
            "rgb(253,219,199)"
           ],
           [
            0.7,
            "rgb(244,165,130)"
           ],
           [
            0.8,
            "rgb(214,96,77)"
           ],
           [
            0.9,
            "rgb(178,24,43)"
           ],
           [
            1,
            "rgb(103,0,31)"
           ]
          ],
          "size": 4
         },
         "mode": "markers",
         "type": "scatter3d",
         "x": [
          -0.8203415457621701,
          -0.44195588062511193
         ],
         "y": [
          1.258642228063258e-16,
          6.780887024060584e-17
         ],
         "z": [
          -1.0738410245944945,
          -0.5785277585022172
         ]
        },
        {
         "line": {
          "cmax": 2,
          "cmin": 0,
          "color": [
           0.56,
           0.56
          ],
          "colorscale": [
           [
            0,
            "rgb(5,48,97)"
           ],
           [
            0.1,
            "rgb(33,102,172)"
           ],
           [
            0.2,
            "rgb(67,147,195)"
           ],
           [
            0.3,
            "rgb(146,197,222)"
           ],
           [
            0.4,
            "rgb(209,229,240)"
           ],
           [
            0.5,
            "rgb(247,247,247)"
           ],
           [
            0.6,
            "rgb(253,219,199)"
           ],
           [
            0.7,
            "rgb(244,165,130)"
           ],
           [
            0.8,
            "rgb(214,96,77)"
           ],
           [
            0.9,
            "rgb(178,24,43)"
           ],
           [
            1,
            "rgb(103,0,31)"
           ]
          ],
          "width": 16
         },
         "marker": {
          "cmax": 2,
          "cmin": 0,
          "color": [
           0.56,
           0.56
          ],
          "colorscale": [
           [
            0,
            "rgb(5,48,97)"
           ],
           [
            0.1,
            "rgb(33,102,172)"
           ],
           [
            0.2,
            "rgb(67,147,195)"
           ],
           [
            0.3,
            "rgb(146,197,222)"
           ],
           [
            0.4,
            "rgb(209,229,240)"
           ],
           [
            0.5,
            "rgb(247,247,247)"
           ],
           [
            0.6,
            "rgb(253,219,199)"
           ],
           [
            0.7,
            "rgb(244,165,130)"
           ],
           [
            0.8,
            "rgb(214,96,77)"
           ],
           [
            0.9,
            "rgb(178,24,43)"
           ],
           [
            1,
            "rgb(103,0,31)"
           ]
          ],
          "size": 3
         },
         "mode": "lines+markers",
         "type": "scatter3d",
         "x": [
          -0.8203415457621701,
          -0.44195588062511193
         ],
         "y": [
          1.258642228063258e-16,
          6.780887024060584e-17
         ],
         "z": [
          -1.0738410245944945,
          -0.5785277585022172
         ]
        },
        {
         "mode": "text",
         "text": [
          "1",
          "2",
          "3",
          "4",
          "5",
          "6",
          "7",
          "8",
          "9",
          "10",
          "11",
          "12",
          "13",
          "14",
          "15",
          "16",
          "17",
          "18",
          "19",
          "20"
         ],
         "textfont": {
          "color": "darkblue",
          "family": "sans serif",
          "size": 20
         },
         "textposition": "middle center",
         "type": "scatter3d",
         "x": [
          1.4274035439688564,
          -0.49361784566122663,
          -1.0958589081192214,
          0.9779892745540004,
          1.5824198868612247,
          -0.6044306123072246,
          0.3735586622467752,
          -1.9559785491080002,
          0.7622667318409633,
          -1.5824198868612251,
          1.582419886861225,
          -0.6408543321996262,
          1.9559785491080002,
          -0.37355866224677514,
          0.6044306123072244,
          -1.582419886861225,
          -0.9779892745540003,
          1.0762139691916845,
          0.4485956518808074,
          -1.2088612246144494
         ],
         "y": [
          -1.0950258378399938e-16,
          -1.519199517247472,
          0.7961881014421338,
          0.710550799896592,
          -1.1496953449661118,
          1.860246144862704,
          -1.1496953449661116,
          2.782116411806948e-16,
          2.346015771523316,
          -1.1496953449661114,
          1.1496953449661111,
          -1.9723468279382297,
          -2.757281817326106e-16,
          1.1496953449661116,
          -1.860246144862704,
          1.1496953449661116,
          -0.7105507998965921,
          -0.7819152178512103,
          1.380635452641962,
          1.8547442745379652e-16
         ],
         "z": [
          1.8684954968862608,
          -2.090998749127955,
          1.7731369602112488,
          -1.582419886861225,
          -0.37355866224677525,
          -0.37355866224677525,
          1.5824198868612251,
          -0.37355866224677525,
          0.47110674877101716,
          0.37355866224677553,
          -0.37355866224677525,
          -0.3960697591369849,
          0.37355866224677553,
          -1.582419886861225,
          0.37355866224677553,
          0.37355866224677553,
          1.5824198868612251,
          -1.7413507813195779,
          1.9002816757779315,
          -1.582419886861225
         ]
        }
       ],
       "layout": {
        "showlegend": false,
        "template": {
         "data": {
          "bar": [
           {
            "error_x": {
             "color": "#2a3f5f"
            },
            "error_y": {
             "color": "#2a3f5f"
            },
            "marker": {
             "line": {
              "color": "#E5ECF6",
              "width": 0.5
             }
            },
            "type": "bar"
           }
          ],
          "barpolar": [
           {
            "marker": {
             "line": {
              "color": "#E5ECF6",
              "width": 0.5
             }
            },
            "type": "barpolar"
           }
          ],
          "carpet": [
           {
            "aaxis": {
             "endlinecolor": "#2a3f5f",
             "gridcolor": "white",
             "linecolor": "white",
             "minorgridcolor": "white",
             "startlinecolor": "#2a3f5f"
            },
            "baxis": {
             "endlinecolor": "#2a3f5f",
             "gridcolor": "white",
             "linecolor": "white",
             "minorgridcolor": "white",
             "startlinecolor": "#2a3f5f"
            },
            "type": "carpet"
           }
          ],
          "choropleth": [
           {
            "colorbar": {
             "outlinewidth": 0,
             "ticks": ""
            },
            "type": "choropleth"
           }
          ],
          "contour": [
           {
            "colorbar": {
             "outlinewidth": 0,
             "ticks": ""
            },
            "colorscale": [
             [
              0,
              "#0d0887"
             ],
             [
              0.1111111111111111,
              "#46039f"
             ],
             [
              0.2222222222222222,
              "#7201a8"
             ],
             [
              0.3333333333333333,
              "#9c179e"
             ],
             [
              0.4444444444444444,
              "#bd3786"
             ],
             [
              0.5555555555555556,
              "#d8576b"
             ],
             [
              0.6666666666666666,
              "#ed7953"
             ],
             [
              0.7777777777777778,
              "#fb9f3a"
             ],
             [
              0.8888888888888888,
              "#fdca26"
             ],
             [
              1,
              "#f0f921"
             ]
            ],
            "type": "contour"
           }
          ],
          "contourcarpet": [
           {
            "colorbar": {
             "outlinewidth": 0,
             "ticks": ""
            },
            "type": "contourcarpet"
           }
          ],
          "heatmap": [
           {
            "colorbar": {
             "outlinewidth": 0,
             "ticks": ""
            },
            "colorscale": [
             [
              0,
              "#0d0887"
             ],
             [
              0.1111111111111111,
              "#46039f"
             ],
             [
              0.2222222222222222,
              "#7201a8"
             ],
             [
              0.3333333333333333,
              "#9c179e"
             ],
             [
              0.4444444444444444,
              "#bd3786"
             ],
             [
              0.5555555555555556,
              "#d8576b"
             ],
             [
              0.6666666666666666,
              "#ed7953"
             ],
             [
              0.7777777777777778,
              "#fb9f3a"
             ],
             [
              0.8888888888888888,
              "#fdca26"
             ],
             [
              1,
              "#f0f921"
             ]
            ],
            "type": "heatmap"
           }
          ],
          "heatmapgl": [
           {
            "colorbar": {
             "outlinewidth": 0,
             "ticks": ""
            },
            "colorscale": [
             [
              0,
              "#0d0887"
             ],
             [
              0.1111111111111111,
              "#46039f"
             ],
             [
              0.2222222222222222,
              "#7201a8"
             ],
             [
              0.3333333333333333,
              "#9c179e"
             ],
             [
              0.4444444444444444,
              "#bd3786"
             ],
             [
              0.5555555555555556,
              "#d8576b"
             ],
             [
              0.6666666666666666,
              "#ed7953"
             ],
             [
              0.7777777777777778,
              "#fb9f3a"
             ],
             [
              0.8888888888888888,
              "#fdca26"
             ],
             [
              1,
              "#f0f921"
             ]
            ],
            "type": "heatmapgl"
           }
          ],
          "histogram": [
           {
            "marker": {
             "colorbar": {
              "outlinewidth": 0,
              "ticks": ""
             }
            },
            "type": "histogram"
           }
          ],
          "histogram2d": [
           {
            "colorbar": {
             "outlinewidth": 0,
             "ticks": ""
            },
            "colorscale": [
             [
              0,
              "#0d0887"
             ],
             [
              0.1111111111111111,
              "#46039f"
             ],
             [
              0.2222222222222222,
              "#7201a8"
             ],
             [
              0.3333333333333333,
              "#9c179e"
             ],
             [
              0.4444444444444444,
              "#bd3786"
             ],
             [
              0.5555555555555556,
              "#d8576b"
             ],
             [
              0.6666666666666666,
              "#ed7953"
             ],
             [
              0.7777777777777778,
              "#fb9f3a"
             ],
             [
              0.8888888888888888,
              "#fdca26"
             ],
             [
              1,
              "#f0f921"
             ]
            ],
            "type": "histogram2d"
           }
          ],
          "histogram2dcontour": [
           {
            "colorbar": {
             "outlinewidth": 0,
             "ticks": ""
            },
            "colorscale": [
             [
              0,
              "#0d0887"
             ],
             [
              0.1111111111111111,
              "#46039f"
             ],
             [
              0.2222222222222222,
              "#7201a8"
             ],
             [
              0.3333333333333333,
              "#9c179e"
             ],
             [
              0.4444444444444444,
              "#bd3786"
             ],
             [
              0.5555555555555556,
              "#d8576b"
             ],
             [
              0.6666666666666666,
              "#ed7953"
             ],
             [
              0.7777777777777778,
              "#fb9f3a"
             ],
             [
              0.8888888888888888,
              "#fdca26"
             ],
             [
              1,
              "#f0f921"
             ]
            ],
            "type": "histogram2dcontour"
           }
          ],
          "mesh3d": [
           {
            "colorbar": {
             "outlinewidth": 0,
             "ticks": ""
            },
            "type": "mesh3d"
           }
          ],
          "parcoords": [
           {
            "line": {
             "colorbar": {
              "outlinewidth": 0,
              "ticks": ""
             }
            },
            "type": "parcoords"
           }
          ],
          "pie": [
           {
            "automargin": true,
            "type": "pie"
           }
          ],
          "scatter": [
           {
            "marker": {
             "colorbar": {
              "outlinewidth": 0,
              "ticks": ""
             }
            },
            "type": "scatter"
           }
          ],
          "scatter3d": [
           {
            "line": {
             "colorbar": {
              "outlinewidth": 0,
              "ticks": ""
             }
            },
            "marker": {
             "colorbar": {
              "outlinewidth": 0,
              "ticks": ""
             }
            },
            "type": "scatter3d"
           }
          ],
          "scattercarpet": [
           {
            "marker": {
             "colorbar": {
              "outlinewidth": 0,
              "ticks": ""
             }
            },
            "type": "scattercarpet"
           }
          ],
          "scattergeo": [
           {
            "marker": {
             "colorbar": {
              "outlinewidth": 0,
              "ticks": ""
             }
            },
            "type": "scattergeo"
           }
          ],
          "scattergl": [
           {
            "marker": {
             "colorbar": {
              "outlinewidth": 0,
              "ticks": ""
             }
            },
            "type": "scattergl"
           }
          ],
          "scattermapbox": [
           {
            "marker": {
             "colorbar": {
              "outlinewidth": 0,
              "ticks": ""
             }
            },
            "type": "scattermapbox"
           }
          ],
          "scatterpolar": [
           {
            "marker": {
             "colorbar": {
              "outlinewidth": 0,
              "ticks": ""
             }
            },
            "type": "scatterpolar"
           }
          ],
          "scatterpolargl": [
           {
            "marker": {
             "colorbar": {
              "outlinewidth": 0,
              "ticks": ""
             }
            },
            "type": "scatterpolargl"
           }
          ],
          "scatterternary": [
           {
            "marker": {
             "colorbar": {
              "outlinewidth": 0,
              "ticks": ""
             }
            },
            "type": "scatterternary"
           }
          ],
          "surface": [
           {
            "colorbar": {
             "outlinewidth": 0,
             "ticks": ""
            },
            "colorscale": [
             [
              0,
              "#0d0887"
             ],
             [
              0.1111111111111111,
              "#46039f"
             ],
             [
              0.2222222222222222,
              "#7201a8"
             ],
             [
              0.3333333333333333,
              "#9c179e"
             ],
             [
              0.4444444444444444,
              "#bd3786"
             ],
             [
              0.5555555555555556,
              "#d8576b"
             ],
             [
              0.6666666666666666,
              "#ed7953"
             ],
             [
              0.7777777777777778,
              "#fb9f3a"
             ],
             [
              0.8888888888888888,
              "#fdca26"
             ],
             [
              1,
              "#f0f921"
             ]
            ],
            "type": "surface"
           }
          ],
          "table": [
           {
            "cells": {
             "fill": {
              "color": "#EBF0F8"
             },
             "line": {
              "color": "white"
             }
            },
            "header": {
             "fill": {
              "color": "#C8D4E3"
             },
             "line": {
              "color": "white"
             }
            },
            "type": "table"
           }
          ]
         },
         "layout": {
          "annotationdefaults": {
           "arrowcolor": "#2a3f5f",
           "arrowhead": 0,
           "arrowwidth": 1
          },
          "coloraxis": {
           "colorbar": {
            "outlinewidth": 0,
            "ticks": ""
           }
          },
          "colorscale": {
           "diverging": [
            [
             0,
             "#8e0152"
            ],
            [
             0.1,
             "#c51b7d"
            ],
            [
             0.2,
             "#de77ae"
            ],
            [
             0.3,
             "#f1b6da"
            ],
            [
             0.4,
             "#fde0ef"
            ],
            [
             0.5,
             "#f7f7f7"
            ],
            [
             0.6,
             "#e6f5d0"
            ],
            [
             0.7,
             "#b8e186"
            ],
            [
             0.8,
             "#7fbc41"
            ],
            [
             0.9,
             "#4d9221"
            ],
            [
             1,
             "#276419"
            ]
           ],
           "sequential": [
            [
             0,
             "#0d0887"
            ],
            [
             0.1111111111111111,
             "#46039f"
            ],
            [
             0.2222222222222222,
             "#7201a8"
            ],
            [
             0.3333333333333333,
             "#9c179e"
            ],
            [
             0.4444444444444444,
             "#bd3786"
            ],
            [
             0.5555555555555556,
             "#d8576b"
            ],
            [
             0.6666666666666666,
             "#ed7953"
            ],
            [
             0.7777777777777778,
             "#fb9f3a"
            ],
            [
             0.8888888888888888,
             "#fdca26"
            ],
            [
             1,
             "#f0f921"
            ]
           ],
           "sequentialminus": [
            [
             0,
             "#0d0887"
            ],
            [
             0.1111111111111111,
             "#46039f"
            ],
            [
             0.2222222222222222,
             "#7201a8"
            ],
            [
             0.3333333333333333,
             "#9c179e"
            ],
            [
             0.4444444444444444,
             "#bd3786"
            ],
            [
             0.5555555555555556,
             "#d8576b"
            ],
            [
             0.6666666666666666,
             "#ed7953"
            ],
            [
             0.7777777777777778,
             "#fb9f3a"
            ],
            [
             0.8888888888888888,
             "#fdca26"
            ],
            [
             1,
             "#f0f921"
            ]
           ]
          },
          "colorway": [
           "#636efa",
           "#EF553B",
           "#00cc96",
           "#ab63fa",
           "#FFA15A",
           "#19d3f3",
           "#FF6692",
           "#B6E880",
           "#FF97FF",
           "#FECB52"
          ],
          "font": {
           "color": "#2a3f5f"
          },
          "geo": {
           "bgcolor": "white",
           "lakecolor": "white",
           "landcolor": "#E5ECF6",
           "showlakes": true,
           "showland": true,
           "subunitcolor": "white"
          },
          "hoverlabel": {
           "align": "left"
          },
          "hovermode": "closest",
          "mapbox": {
           "style": "light"
          },
          "paper_bgcolor": "white",
          "plot_bgcolor": "#E5ECF6",
          "polar": {
           "angularaxis": {
            "gridcolor": "white",
            "linecolor": "white",
            "ticks": ""
           },
           "bgcolor": "#E5ECF6",
           "radialaxis": {
            "gridcolor": "white",
            "linecolor": "white",
            "ticks": ""
           }
          },
          "scene": {
           "xaxis": {
            "backgroundcolor": "#E5ECF6",
            "gridcolor": "white",
            "gridwidth": 2,
            "linecolor": "white",
            "showbackground": true,
            "ticks": "",
            "zerolinecolor": "white"
           },
           "yaxis": {
            "backgroundcolor": "#E5ECF6",
            "gridcolor": "white",
            "gridwidth": 2,
            "linecolor": "white",
            "showbackground": true,
            "ticks": "",
            "zerolinecolor": "white"
           },
           "zaxis": {
            "backgroundcolor": "#E5ECF6",
            "gridcolor": "white",
            "gridwidth": 2,
            "linecolor": "white",
            "showbackground": true,
            "ticks": "",
            "zerolinecolor": "white"
           }
          },
          "shapedefaults": {
           "line": {
            "color": "#2a3f5f"
           }
          },
          "ternary": {
           "aaxis": {
            "gridcolor": "white",
            "linecolor": "white",
            "ticks": ""
           },
           "baxis": {
            "gridcolor": "white",
            "linecolor": "white",
            "ticks": ""
           },
           "bgcolor": "#E5ECF6",
           "caxis": {
            "gridcolor": "white",
            "linecolor": "white",
            "ticks": ""
           }
          },
          "title": {
           "x": 0.05
          },
          "xaxis": {
           "automargin": true,
           "gridcolor": "white",
           "linecolor": "white",
           "ticks": "",
           "title": {
            "standoff": 15
           },
           "zerolinecolor": "white",
           "zerolinewidth": 2
          },
          "yaxis": {
           "automargin": true,
           "gridcolor": "white",
           "linecolor": "white",
           "ticks": "",
           "title": {
            "standoff": 15
           },
           "zerolinecolor": "white",
           "zerolinewidth": 2
          }
         }
        }
       }
      },
      "text/html": [
       "<div>                            <div id=\"c9bffb87-8feb-4863-a83a-99d459150276\" class=\"plotly-graph-div\" style=\"height:525px; width:100%;\"></div>            <script type=\"text/javascript\">                require([\"plotly\"], function(Plotly) {                    window.PLOTLYENV=window.PLOTLYENV || {};                                    if (document.getElementById(\"c9bffb87-8feb-4863-a83a-99d459150276\")) {                    Plotly.newPlot(                        \"c9bffb87-8feb-4863-a83a-99d459150276\",                        [{\"cmax\": 50.0, \"cmin\": 0, \"colorscale\": [[0.0, \"rgb(5,48,97)\"], [0.1, \"rgb(33,102,172)\"], [0.2, \"rgb(67,147,195)\"], [0.3, \"rgb(146,197,222)\"], [0.4, \"rgb(209,229,240)\"], [0.5, \"rgb(247,247,247)\"], [0.6, \"rgb(253,219,199)\"], [0.7, \"rgb(244,165,130)\"], [0.8, \"rgb(214,96,77)\"], [0.9, \"rgb(178,24,43)\"], [1.0, \"rgb(103,0,31)\"]], \"i\": [0, 6, 0, 2, 8, 2, 0, 4, 1, 5, 1, 6, 1, 2, 7, 3, 0, 8, 0, 4], \"intensity\": [34, 41, 31, 16, 21, 15, 25, 23, 38, 21, 23, 28, 24, 21, 16, 19, 25, 30, 35, 14], \"intensitymode\": \"cell\", \"j\": [1, 8, 3, 10, 9, 3, 7, 5, 2, 6, 2, 7, 9, 4, 8, 4, 5, 10, 1, 6], \"k\": [9, 11, 5, 11, 10, 4, 9, 6, 3, 7, 10, 8, 10, 11, 9, 5, 7, 11, 3, 11], \"lighting\": {\"ambient\": 1}, \"type\": \"mesh3d\", \"x\": [-0.0, 0.7236067977499789, 0.27639320225002106, -0.27639320225002095, -0.7236067977499788, -0.8944271909999159, -0.7236067977499789, -0.2763932022500211, 0.27639320225002084, 0.7236067977499788, 0.8944271909999159, 1.2246467991473532e-16], \"y\": [-0.0, 0.5257311121191336, 0.8506508083520399, 0.85065080835204, 0.5257311121191337, 1.0953573965284052e-16, -0.5257311121191335, -0.8506508083520399, -0.85065080835204, -0.5257311121191337, -2.1907147930568105e-16, 0.0], \"z\": [1.0, 0.44721359549995804, -0.4472135954999579, 0.44721359549995804, -0.4472135954999579, 0.44721359549995804, -0.4472135954999579, 0.44721359549995804, -0.4472135954999579, 0.44721359549995804, -0.4472135954999579, -1.0]}, {\"marker\": {\"color\": \"darkgray\", \"size\": 6, \"symbol\": \"circle\"}, \"mode\": \"markers\", \"type\": \"scatter3d\", \"x\": [1.087448824973112, -0.33604016742975945, -0.8797645799163154, 0.8797645799163157, 1.4234889924028713, -0.5437244124865559, 0.33604016742975923, -1.7595291598326308, 0.5437244124865561, -1.4234889924028717, 1.4234889924028715, -0.5437244124865562, 1.7595291598326308, -0.3360401674297592, 0.5437244124865557, -1.4234889924028715, -0.8797645799163156, 0.8797645799163154, 0.33604016742975945, -1.087448824973112], \"y\": [-8.342311925073095e-17, -1.0342252911281862, 0.6391863819419743, 0.639186381941974, -1.0342252911281866, 1.6734116730701605, -1.0342252911281864, 2.502693577521929e-16, 1.6734116730701603, -1.0342252911281862, 1.034225291128186, -1.6734116730701603, -2.4803532542184917e-16, 1.0342252911281864, -1.6734116730701605, 1.0342252911281864, -0.6391863819419741, -0.6391863819419744, 1.0342252911281864, 1.668462385014619e-16], \"z\": [1.4234889924028717, -1.4234889924028715, 1.4234889924028717, -1.4234889924028715, -0.3360401674297593, -0.3360401674297593, 1.4234889924028717, -0.3360401674297593, 0.3360401674297595, 0.3360401674297595, -0.3360401674297593, -0.3360401674297593, 0.3360401674297595, -1.4234889924028715, 0.3360401674297595, 0.3360401674297595, 1.4234889924028717, -1.4234889924028715, 1.4234889924028717, -1.4234889924028715]}, {\"marker\": {\"color\": 1, \"opacity\": 1, \"size\": 12}, \"mode\": \"lines\", \"name\": \"vertices\", \"type\": \"scatter3d\", \"x\": [-0.0, 0.7236067977499789, -0.27639320225002095, -0.0, -0.8944271909999159, -0.27639320225002095, 0.27639320225002106, -0.7236067977499788, -0.27639320225002095, -0.8944271909999159, -0.7236067977499788, -0.7236067977499789, -0.8944271909999159, -0.2763932022500211, -0.7236067977499789, 0.27639320225002084, -0.2763932022500211, -0.0, 0.7236067977499788, -0.2763932022500211, 0.27639320225002084, 0.7236067977499788, 0.7236067977499789, 0.8944271909999159, 0.27639320225002084, 1.2246467991473532e-16, 0.8944271909999159, 0.27639320225002106, 1.2246467991473532e-16, -0.7236067977499788, -0.7236067977499789, 1.2246467991473532e-16, 0.8944271909999159, 0.7236067977499788, 0.7236067977499789, 0.27639320225002106], \"y\": [-0.0, 0.5257311121191336, 0.85065080835204, -0.0, 1.0953573965284052e-16, 0.85065080835204, 0.8506508083520399, 0.5257311121191337, 0.85065080835204, 1.0953573965284052e-16, 0.5257311121191337, -0.5257311121191335, 1.0953573965284052e-16, -0.8506508083520399, -0.5257311121191335, -0.85065080835204, -0.8506508083520399, -0.0, -0.5257311121191337, -0.8506508083520399, -0.85065080835204, -0.5257311121191337, 0.5257311121191336, -2.1907147930568105e-16, -0.85065080835204, 0.0, -2.1907147930568105e-16, 0.8506508083520399, 0.0, 0.5257311121191337, -0.5257311121191335, 0.0, -2.1907147930568105e-16, -0.5257311121191337, 0.5257311121191336, 0.8506508083520399], \"z\": [1.0, 0.44721359549995804, 0.44721359549995804, 1.0, 0.44721359549995804, 0.44721359549995804, -0.4472135954999579, -0.4472135954999579, 0.44721359549995804, 0.44721359549995804, -0.4472135954999579, -0.4472135954999579, 0.44721359549995804, 0.44721359549995804, -0.4472135954999579, -0.4472135954999579, 0.44721359549995804, 1.0, 0.44721359549995804, 0.44721359549995804, -0.4472135954999579, 0.44721359549995804, 0.44721359549995804, -0.4472135954999579, -0.4472135954999579, -1.0, -0.4472135954999579, -0.4472135954999579, -1.0, -0.4472135954999579, -0.4472135954999579, -1.0, -0.4472135954999579, 0.44721359549995804, 0.44721359549995804, -0.4472135954999579]}, {\"marker\": {\"cmax\": 2, \"cmin\": 0, \"color\": [1.36, 1.36], \"colorscale\": [[0.0, \"rgb(5,48,97)\"], [0.1, \"rgb(33,102,172)\"], [0.2, \"rgb(67,147,195)\"], [0.3, \"rgb(146,197,222)\"], [0.4, \"rgb(209,229,240)\"], [0.5, \"rgb(247,247,247)\"], [0.6, \"rgb(253,219,199)\"], [0.7, \"rgb(244,165,130)\"], [0.8, \"rgb(214,96,77)\"], [0.9, \"rgb(178,24,43)\"], [1.0, \"rgb(103,0,31)\"]], \"size\": 4}, \"mode\": \"markers\", \"type\": \"scatter3d\", \"x\": [1.3059911443275192, 0.44195588062511193], \"y\": [-1.001884893078321e-16, -3.390443512030292e-17], \"z\": [1.7095646024279079, 0.5785277585022172]}, {\"line\": {\"cmax\": 2, \"cmin\": 0, \"color\": [1.36, 1.36], \"colorscale\": [[0.0, \"rgb(5,48,97)\"], [0.1, \"rgb(33,102,172)\"], [0.2, \"rgb(67,147,195)\"], [0.3, \"rgb(146,197,222)\"], [0.4, \"rgb(209,229,240)\"], [0.5, \"rgb(247,247,247)\"], [0.6, \"rgb(253,219,199)\"], [0.7, \"rgb(244,165,130)\"], [0.8, \"rgb(214,96,77)\"], [0.9, \"rgb(178,24,43)\"], [1.0, \"rgb(103,0,31)\"]], \"width\": 16}, \"marker\": {\"cmax\": 2, \"cmin\": 0, \"color\": [1.36, 1.36], \"colorscale\": [[0.0, \"rgb(5,48,97)\"], [0.1, \"rgb(33,102,172)\"], [0.2, \"rgb(67,147,195)\"], [0.3, \"rgb(146,197,222)\"], [0.4, \"rgb(209,229,240)\"], [0.5, \"rgb(247,247,247)\"], [0.6, \"rgb(253,219,199)\"], [0.7, \"rgb(244,165,130)\"], [0.8, \"rgb(214,96,77)\"], [0.9, \"rgb(178,24,43)\"], [1.0, \"rgb(103,0,31)\"]], \"size\": 3}, \"mode\": \"lines+markers\", \"type\": \"scatter3d\", \"x\": [1.3059911443275192, 0.44195588062511193], \"y\": [-1.001884893078321e-16, -3.390443512030292e-17], \"z\": [1.7095646024279079, 0.5785277585022172]}, {\"marker\": {\"cmax\": 2, \"cmin\": 0, \"color\": [1.6400000000000001, 1.6400000000000001], \"colorscale\": [[0.0, \"rgb(5,48,97)\"], [0.1, \"rgb(33,102,172)\"], [0.2, \"rgb(67,147,195)\"], [0.3, \"rgb(146,197,222)\"], [0.4, \"rgb(209,229,240)\"], [0.5, \"rgb(247,247,247)\"], [0.6, \"rgb(253,219,199)\"], [0.7, \"rgb(244,165,130)\"], [0.8, \"rgb(214,96,77)\"], [0.9, \"rgb(178,24,43)\"], [1.0, \"rgb(103,0,31)\"]], \"size\": 4}, \"mode\": \"markers\", \"type\": \"scatter3d\", \"x\": [-0.4560993508442106, -0.13657187787710517], \"y\": [-1.4037294634095467, -0.4203250201834757], \"z\": [-1.932067854669602, -0.5785277585022172]}, {\"line\": {\"cmax\": 2, \"cmin\": 0, \"color\": [1.6400000000000001, 1.6400000000000001], \"colorscale\": [[0.0, \"rgb(5,48,97)\"], [0.1, \"rgb(33,102,172)\"], [0.2, \"rgb(67,147,195)\"], [0.3, \"rgb(146,197,222)\"], [0.4, \"rgb(209,229,240)\"], [0.5, \"rgb(247,247,247)\"], [0.6, \"rgb(253,219,199)\"], [0.7, \"rgb(244,165,130)\"], [0.8, \"rgb(214,96,77)\"], [0.9, \"rgb(178,24,43)\"], [1.0, \"rgb(103,0,31)\"]], \"width\": 16}, \"marker\": {\"cmax\": 2, \"cmin\": 0, \"color\": [1.6400000000000001, 1.6400000000000001], \"colorscale\": [[0.0, \"rgb(5,48,97)\"], [0.1, \"rgb(33,102,172)\"], [0.2, \"rgb(67,147,195)\"], [0.3, \"rgb(146,197,222)\"], [0.4, \"rgb(209,229,240)\"], [0.5, \"rgb(247,247,247)\"], [0.6, \"rgb(253,219,199)\"], [0.7, \"rgb(244,165,130)\"], [0.8, \"rgb(214,96,77)\"], [0.9, \"rgb(178,24,43)\"], [1.0, \"rgb(103,0,31)\"]], \"size\": 3}, \"mode\": \"lines+markers\", \"type\": \"scatter3d\", \"x\": [-0.4560993508442106, -0.13657187787710517], \"y\": [-1.4037294634095467, -0.4203250201834757], \"z\": [-1.932067854669602, -0.5785277585022172]}, {\"marker\": {\"cmax\": 2, \"cmin\": 0, \"color\": [1.24, 1.24], \"colorscale\": [[0.0, \"rgb(5,48,97)\"], [0.1, \"rgb(33,102,172)\"], [0.2, \"rgb(67,147,195)\"], [0.3, \"rgb(146,197,222)\"], [0.4, \"rgb(209,229,240)\"], [0.5, \"rgb(247,247,247)\"], [0.6, \"rgb(253,219,199)\"], [0.7, \"rgb(244,165,130)\"], [0.8, \"rgb(214,96,77)\"], [0.9, \"rgb(178,24,43)\"], [1.0, \"rgb(103,0,31)\"]], \"size\": 4}, \"mode\": \"markers\", \"type\": \"scatter3d\", \"x\": [-0.997634213481537, -0.3575498181896611], \"y\": [0.7248236834875159, 0.25977514879537356], \"z\": [1.6142060657528958, 0.5785277585022172]}, {\"line\": {\"cmax\": 2, \"cmin\": 0, \"color\": [1.24, 1.24], \"colorscale\": [[0.0, \"rgb(5,48,97)\"], [0.1, \"rgb(33,102,172)\"], [0.2, \"rgb(67,147,195)\"], [0.3, \"rgb(146,197,222)\"], [0.4, \"rgb(209,229,240)\"], [0.5, \"rgb(247,247,247)\"], [0.6, \"rgb(253,219,199)\"], [0.7, \"rgb(244,165,130)\"], [0.8, \"rgb(214,96,77)\"], [0.9, \"rgb(178,24,43)\"], [1.0, \"rgb(103,0,31)\"]], \"width\": 16}, \"marker\": {\"cmax\": 2, \"cmin\": 0, \"color\": [1.24, 1.24], \"colorscale\": [[0.0, \"rgb(5,48,97)\"], [0.1, \"rgb(33,102,172)\"], [0.2, \"rgb(67,147,195)\"], [0.3, \"rgb(146,197,222)\"], [0.4, \"rgb(209,229,240)\"], [0.5, \"rgb(247,247,247)\"], [0.6, \"rgb(253,219,199)\"], [0.7, \"rgb(244,165,130)\"], [0.8, \"rgb(214,96,77)\"], [0.9, \"rgb(178,24,43)\"], [1.0, \"rgb(103,0,31)\"]], \"size\": 3}, \"mode\": \"lines+markers\", \"type\": \"scatter3d\", \"x\": [-0.997634213481537, -0.3575498181896611], \"y\": [0.7248236834875159, 0.25977514879537356], \"z\": [1.6142060657528958, 0.5785277585022172]}, {\"marker\": {\"cmax\": 2, \"cmin\": 0, \"color\": [0.64, 0.64], \"colorscale\": [[0.0, \"rgb(5,48,97)\"], [0.1, \"rgb(33,102,172)\"], [0.2, \"rgb(67,147,195)\"], [0.3, \"rgb(146,197,222)\"], [0.4, \"rgb(209,229,240)\"], [0.5, \"rgb(247,247,247)\"], [0.6, \"rgb(253,219,199)\"], [0.7, \"rgb(244,165,130)\"], [0.8, \"rgb(214,96,77)\"], [0.9, \"rgb(178,24,43)\"], [1.0, \"rgb(103,0,31)\"]], \"size\": 4}, \"mode\": \"markers\", \"type\": \"scatter3d\", \"x\": [0.7029601295684834, 0.3575498181896612], \"y\": [0.5107304296236617, 0.2597751487953735], \"z\": [-1.1374133823778358, -0.5785277585022172]}, {\"line\": {\"cmax\": 2, \"cmin\": 0, \"color\": [0.64, 0.64], \"colorscale\": [[0.0, \"rgb(5,48,97)\"], [0.1, \"rgb(33,102,172)\"], [0.2, \"rgb(67,147,195)\"], [0.3, \"rgb(146,197,222)\"], [0.4, \"rgb(209,229,240)\"], [0.5, \"rgb(247,247,247)\"], [0.6, \"rgb(253,219,199)\"], [0.7, \"rgb(244,165,130)\"], [0.8, \"rgb(214,96,77)\"], [0.9, \"rgb(178,24,43)\"], [1.0, \"rgb(103,0,31)\"]], \"width\": 16}, \"marker\": {\"cmax\": 2, \"cmin\": 0, \"color\": [0.64, 0.64], \"colorscale\": [[0.0, \"rgb(5,48,97)\"], [0.1, \"rgb(33,102,172)\"], [0.2, \"rgb(67,147,195)\"], [0.3, \"rgb(146,197,222)\"], [0.4, \"rgb(209,229,240)\"], [0.5, \"rgb(247,247,247)\"], [0.6, \"rgb(253,219,199)\"], [0.7, \"rgb(244,165,130)\"], [0.8, \"rgb(214,96,77)\"], [0.9, \"rgb(178,24,43)\"], [1.0, \"rgb(103,0,31)\"]], \"size\": 3}, \"mode\": \"lines+markers\", \"type\": \"scatter3d\", \"x\": [0.7029601295684834, 0.3575498181896612], \"y\": [0.5107304296236617, 0.2597751487953735], \"z\": [-1.1374133823778358, -0.5785277585022172]}, {\"marker\": {\"cmax\": 2, \"cmin\": 0, \"color\": [0.84, 0.84], \"colorscale\": [[0.0, \"rgb(5,48,97)\"], [0.1, \"rgb(33,102,172)\"], [0.2, \"rgb(67,147,195)\"], [0.3, \"rgb(146,197,222)\"], [0.4, \"rgb(209,229,240)\"], [0.5, \"rgb(247,247,247)\"], [0.6, \"rgb(253,219,199)\"], [0.7, \"rgb(244,165,130)\"], [0.8, \"rgb(214,96,77)\"], [0.9, \"rgb(178,24,43)\"], [1.0, \"rgb(103,0,31)\"]], \"size\": 4}, \"mode\": \"markers\", \"type\": \"scatter3d\", \"x\": [1.2963442768361888, 0.578527758502217], \"y\": [-0.9418492480578464, -0.42032502018347584], \"z\": [-0.3060253715761465, -0.13657187787710512]}, {\"line\": {\"cmax\": 2, \"cmin\": 0, \"color\": [0.84, 0.84], \"colorscale\": [[0.0, \"rgb(5,48,97)\"], [0.1, \"rgb(33,102,172)\"], [0.2, \"rgb(67,147,195)\"], [0.3, \"rgb(146,197,222)\"], [0.4, \"rgb(209,229,240)\"], [0.5, \"rgb(247,247,247)\"], [0.6, \"rgb(253,219,199)\"], [0.7, \"rgb(244,165,130)\"], [0.8, \"rgb(214,96,77)\"], [0.9, \"rgb(178,24,43)\"], [1.0, \"rgb(103,0,31)\"]], \"width\": 16}, \"marker\": {\"cmax\": 2, \"cmin\": 0, \"color\": [0.84, 0.84], \"colorscale\": [[0.0, \"rgb(5,48,97)\"], [0.1, \"rgb(33,102,172)\"], [0.2, \"rgb(67,147,195)\"], [0.3, \"rgb(146,197,222)\"], [0.4, \"rgb(209,229,240)\"], [0.5, \"rgb(247,247,247)\"], [0.6, \"rgb(253,219,199)\"], [0.7, \"rgb(244,165,130)\"], [0.8, \"rgb(214,96,77)\"], [0.9, \"rgb(178,24,43)\"], [1.0, \"rgb(103,0,31)\"]], \"size\": 3}, \"mode\": \"lines+markers\", \"type\": \"scatter3d\", \"x\": [1.2963442768361888, 0.578527758502217], \"y\": [-0.9418492480578464, -0.42032502018347584], \"z\": [-0.3060253715761465, -0.13657187787710512]}, {\"marker\": {\"cmax\": 2, \"cmin\": 0, \"color\": [0.6, 0.6], \"colorscale\": [[0.0, \"rgb(5,48,97)\"], [0.1, \"rgb(33,102,172)\"], [0.2, \"rgb(67,147,195)\"], [0.3, \"rgb(146,197,222)\"], [0.4, \"rgb(209,229,240)\"], [0.5, \"rgb(247,247,247)\"], [0.6, \"rgb(253,219,199)\"], [0.7, \"rgb(244,165,130)\"], [0.8, \"rgb(214,96,77)\"], [0.9, \"rgb(178,24,43)\"], [1.0, \"rgb(103,0,31)\"]], \"size\": 4}, \"mode\": \"markers\", \"type\": \"scatter3d\", \"x\": [-0.42231201284521874, -0.2209779403125559], \"y\": [1.2997427294850743, 0.6801001689788494], \"z\": [-0.26100317779572735, -0.13657187787710512]}, {\"line\": {\"cmax\": 2, \"cmin\": 0, \"color\": [0.6, 0.6], \"colorscale\": [[0.0, \"rgb(5,48,97)\"], [0.1, \"rgb(33,102,172)\"], [0.2, \"rgb(67,147,195)\"], [0.3, \"rgb(146,197,222)\"], [0.4, \"rgb(209,229,240)\"], [0.5, \"rgb(247,247,247)\"], [0.6, \"rgb(253,219,199)\"], [0.7, \"rgb(244,165,130)\"], [0.8, \"rgb(214,96,77)\"], [0.9, \"rgb(178,24,43)\"], [1.0, \"rgb(103,0,31)\"]], \"width\": 16}, \"marker\": {\"cmax\": 2, \"cmin\": 0, \"color\": [0.6, 0.6], \"colorscale\": [[0.0, \"rgb(5,48,97)\"], [0.1, \"rgb(33,102,172)\"], [0.2, \"rgb(67,147,195)\"], [0.3, \"rgb(146,197,222)\"], [0.4, \"rgb(209,229,240)\"], [0.5, \"rgb(247,247,247)\"], [0.6, \"rgb(253,219,199)\"], [0.7, \"rgb(244,165,130)\"], [0.8, \"rgb(214,96,77)\"], [0.9, \"rgb(178,24,43)\"], [1.0, \"rgb(103,0,31)\"]], \"size\": 3}, \"mode\": \"lines+markers\", \"type\": \"scatter3d\", \"x\": [-0.42231201284521874, -0.2209779403125559], \"y\": [1.2997427294850743, 0.6801001689788494], \"z\": [-0.26100317779572735, -0.13657187787710512]}, {\"marker\": {\"cmax\": 2, \"cmin\": 0, \"color\": [1.0, 1.0], \"colorscale\": [[0.0, \"rgb(5,48,97)\"], [0.1, \"rgb(33,102,172)\"], [0.2, \"rgb(67,147,195)\"], [0.3, \"rgb(146,197,222)\"], [0.4, \"rgb(209,229,240)\"], [0.5, \"rgb(247,247,247)\"], [0.6, \"rgb(253,219,199)\"], [0.7, \"rgb(244,165,130)\"], [0.8, \"rgb(214,96,77)\"], [0.9, \"rgb(178,24,43)\"], [1.0, \"rgb(103,0,31)\"]], \"size\": 4}, \"mode\": \"markers\", \"type\": \"scatter3d\", \"x\": [0.33604016742975923, 0.1365718778771051], \"y\": [-1.0342252911281864, -0.4203250201834758], \"z\": [1.4234889924028717, 0.5785277585022172]}, {\"line\": {\"cmax\": 2, \"cmin\": 0, \"color\": [1.0, 1.0], \"colorscale\": [[0.0, \"rgb(5,48,97)\"], [0.1, \"rgb(33,102,172)\"], [0.2, \"rgb(67,147,195)\"], [0.3, \"rgb(146,197,222)\"], [0.4, \"rgb(209,229,240)\"], [0.5, \"rgb(247,247,247)\"], [0.6, \"rgb(253,219,199)\"], [0.7, \"rgb(244,165,130)\"], [0.8, \"rgb(214,96,77)\"], [0.9, \"rgb(178,24,43)\"], [1.0, \"rgb(103,0,31)\"]], \"width\": 16}, \"marker\": {\"cmax\": 2, \"cmin\": 0, \"color\": [1.0, 1.0], \"colorscale\": [[0.0, \"rgb(5,48,97)\"], [0.1, \"rgb(33,102,172)\"], [0.2, \"rgb(67,147,195)\"], [0.3, \"rgb(146,197,222)\"], [0.4, \"rgb(209,229,240)\"], [0.5, \"rgb(247,247,247)\"], [0.6, \"rgb(253,219,199)\"], [0.7, \"rgb(244,165,130)\"], [0.8, \"rgb(214,96,77)\"], [0.9, \"rgb(178,24,43)\"], [1.0, \"rgb(103,0,31)\"]], \"size\": 3}, \"mode\": \"lines+markers\", \"type\": \"scatter3d\", \"x\": [0.33604016742975923, 0.1365718778771051], \"y\": [-1.0342252911281864, -0.4203250201834758], \"z\": [1.4234889924028717, 0.5785277585022172]}, {\"marker\": {\"cmax\": 2, \"cmin\": 0, \"color\": [0.92, 0.92], \"colorscale\": [[0.0, \"rgb(5,48,97)\"], [0.1, \"rgb(33,102,172)\"], [0.2, \"rgb(67,147,195)\"], [0.3, \"rgb(146,197,222)\"], [0.4, \"rgb(209,229,240)\"], [0.5, \"rgb(247,247,247)\"], [0.6, \"rgb(253,219,199)\"], [0.7, \"rgb(244,165,130)\"], [0.8, \"rgb(214,96,77)\"], [0.9, \"rgb(178,24,43)\"], [1.0, \"rgb(103,0,31)\"]], \"size\": 4}, \"mode\": \"markers\", \"type\": \"scatter3d\", \"x\": [-1.6809494041224833, -0.7150996363793222], \"y\": [2.3909244438079217e-16, 1.0171330536090877e-16], \"z\": [-0.3210327695029529, -0.13657187787710512]}, {\"line\": {\"cmax\": 2, \"cmin\": 0, \"color\": [0.92, 0.92], \"colorscale\": [[0.0, \"rgb(5,48,97)\"], [0.1, \"rgb(33,102,172)\"], [0.2, \"rgb(67,147,195)\"], [0.3, \"rgb(146,197,222)\"], [0.4, \"rgb(209,229,240)\"], [0.5, \"rgb(247,247,247)\"], [0.6, \"rgb(253,219,199)\"], [0.7, \"rgb(244,165,130)\"], [0.8, \"rgb(214,96,77)\"], [0.9, \"rgb(178,24,43)\"], [1.0, \"rgb(103,0,31)\"]], \"width\": 16}, \"marker\": {\"cmax\": 2, \"cmin\": 0, \"color\": [0.92, 0.92], \"colorscale\": [[0.0, \"rgb(5,48,97)\"], [0.1, \"rgb(33,102,172)\"], [0.2, \"rgb(67,147,195)\"], [0.3, \"rgb(146,197,222)\"], [0.4, \"rgb(209,229,240)\"], [0.5, \"rgb(247,247,247)\"], [0.6, \"rgb(253,219,199)\"], [0.7, \"rgb(244,165,130)\"], [0.8, \"rgb(214,96,77)\"], [0.9, \"rgb(178,24,43)\"], [1.0, \"rgb(103,0,31)\"]], \"size\": 3}, \"mode\": \"lines+markers\", \"type\": \"scatter3d\", \"x\": [-1.6809494041224833, -0.7150996363793222], \"y\": [2.3909244438079217e-16, 1.0171330536090877e-16], \"z\": [-0.3210327695029529, -0.13657187787710512]}, {\"marker\": {\"cmax\": 2, \"cmin\": 0, \"color\": [1.52, 1.52], \"colorscale\": [[0.0, \"rgb(5,48,97)\"], [0.1, \"rgb(33,102,172)\"], [0.2, \"rgb(67,147,195)\"], [0.3, \"rgb(146,197,222)\"], [0.4, \"rgb(209,229,240)\"], [0.5, \"rgb(247,247,247)\"], [0.6, \"rgb(253,219,199)\"], [0.7, \"rgb(244,165,130)\"], [0.8, \"rgb(214,96,77)\"], [0.9, \"rgb(178,24,43)\"], [1.0, \"rgb(103,0,31)\"]], \"size\": 4}, \"mode\": \"markers\", \"type\": \"scatter3d\", \"x\": [0.7015605320202946, 0.220977940312556], \"y\": [2.1591812997307724, 0.6801001689788493], \"z\": [0.43358825395400113, 0.1365718778771052]}, {\"line\": {\"cmax\": 2, \"cmin\": 0, \"color\": [1.52, 1.52], \"colorscale\": [[0.0, \"rgb(5,48,97)\"], [0.1, \"rgb(33,102,172)\"], [0.2, \"rgb(67,147,195)\"], [0.3, \"rgb(146,197,222)\"], [0.4, \"rgb(209,229,240)\"], [0.5, \"rgb(247,247,247)\"], [0.6, \"rgb(253,219,199)\"], [0.7, \"rgb(244,165,130)\"], [0.8, \"rgb(214,96,77)\"], [0.9, \"rgb(178,24,43)\"], [1.0, \"rgb(103,0,31)\"]], \"width\": 16}, \"marker\": {\"cmax\": 2, \"cmin\": 0, \"color\": [1.52, 1.52], \"colorscale\": [[0.0, \"rgb(5,48,97)\"], [0.1, \"rgb(33,102,172)\"], [0.2, \"rgb(67,147,195)\"], [0.3, \"rgb(146,197,222)\"], [0.4, \"rgb(209,229,240)\"], [0.5, \"rgb(247,247,247)\"], [0.6, \"rgb(253,219,199)\"], [0.7, \"rgb(244,165,130)\"], [0.8, \"rgb(214,96,77)\"], [0.9, \"rgb(178,24,43)\"], [1.0, \"rgb(103,0,31)\"]], \"size\": 3}, \"mode\": \"lines+markers\", \"type\": \"scatter3d\", \"x\": [0.7015605320202946, 0.220977940312556], \"y\": [2.1591812997307724, 0.6801001689788493], \"z\": [0.43358825395400113, 0.1365718778771052]}, {\"marker\": {\"cmax\": 2, \"cmin\": 0, \"color\": [0.84, 0.84], \"colorscale\": [[0.0, \"rgb(5,48,97)\"], [0.1, \"rgb(33,102,172)\"], [0.2, \"rgb(67,147,195)\"], [0.3, \"rgb(146,197,222)\"], [0.4, \"rgb(209,229,240)\"], [0.5, \"rgb(247,247,247)\"], [0.6, \"rgb(253,219,199)\"], [0.7, \"rgb(244,165,130)\"], [0.8, \"rgb(214,96,77)\"], [0.9, \"rgb(178,24,43)\"], [1.0, \"rgb(103,0,31)\"]], \"size\": 4}, \"mode\": \"markers\", \"type\": \"scatter3d\", \"x\": [-1.2963442768361892, -0.5785277585022172], \"y\": [-0.9418492480578461, -0.4203250201834757], \"z\": [0.30602537157614673, 0.1365718778771052]}, {\"line\": {\"cmax\": 2, \"cmin\": 0, \"color\": [0.84, 0.84], \"colorscale\": [[0.0, \"rgb(5,48,97)\"], [0.1, \"rgb(33,102,172)\"], [0.2, \"rgb(67,147,195)\"], [0.3, \"rgb(146,197,222)\"], [0.4, \"rgb(209,229,240)\"], [0.5, \"rgb(247,247,247)\"], [0.6, \"rgb(253,219,199)\"], [0.7, \"rgb(244,165,130)\"], [0.8, \"rgb(214,96,77)\"], [0.9, \"rgb(178,24,43)\"], [1.0, \"rgb(103,0,31)\"]], \"width\": 16}, \"marker\": {\"cmax\": 2, \"cmin\": 0, \"color\": [0.84, 0.84], \"colorscale\": [[0.0, \"rgb(5,48,97)\"], [0.1, \"rgb(33,102,172)\"], [0.2, \"rgb(67,147,195)\"], [0.3, \"rgb(146,197,222)\"], [0.4, \"rgb(209,229,240)\"], [0.5, \"rgb(247,247,247)\"], [0.6, \"rgb(253,219,199)\"], [0.7, \"rgb(244,165,130)\"], [0.8, \"rgb(214,96,77)\"], [0.9, \"rgb(178,24,43)\"], [1.0, \"rgb(103,0,31)\"]], \"size\": 3}, \"mode\": \"lines+markers\", \"type\": \"scatter3d\", \"x\": [-1.2963442768361892, -0.5785277585022172], \"y\": [-0.9418492480578461, -0.4203250201834757], \"z\": [0.30602537157614673, 0.1365718778771052]}, {\"marker\": {\"cmax\": 2, \"cmin\": 0, \"color\": [0.92, 0.92], \"colorscale\": [[0.0, \"rgb(5,48,97)\"], [0.1, \"rgb(33,102,172)\"], [0.2, \"rgb(67,147,195)\"], [0.3, \"rgb(146,197,222)\"], [0.4, \"rgb(209,229,240)\"], [0.5, \"rgb(247,247,247)\"], [0.6, \"rgb(253,219,199)\"], [0.7, \"rgb(244,165,130)\"], [0.8, \"rgb(214,96,77)\"], [0.9, \"rgb(178,24,43)\"], [1.0, \"rgb(103,0,31)\"]], \"size\": 4}, \"mode\": \"markers\", \"type\": \"scatter3d\", \"x\": [1.3599166346195304, 0.5785277585022172], \"y\": [0.988037269593016, 0.4203250201834756], \"z\": [-0.3210327695029529, -0.13657187787710512]}, {\"line\": {\"cmax\": 2, \"cmin\": 0, \"color\": [0.92, 0.92], \"colorscale\": [[0.0, \"rgb(5,48,97)\"], [0.1, \"rgb(33,102,172)\"], [0.2, \"rgb(67,147,195)\"], [0.3, \"rgb(146,197,222)\"], [0.4, \"rgb(209,229,240)\"], [0.5, \"rgb(247,247,247)\"], [0.6, \"rgb(253,219,199)\"], [0.7, \"rgb(244,165,130)\"], [0.8, \"rgb(214,96,77)\"], [0.9, \"rgb(178,24,43)\"], [1.0, \"rgb(103,0,31)\"]], \"width\": 16}, \"marker\": {\"cmax\": 2, \"cmin\": 0, \"color\": [0.92, 0.92], \"colorscale\": [[0.0, \"rgb(5,48,97)\"], [0.1, \"rgb(33,102,172)\"], [0.2, \"rgb(67,147,195)\"], [0.3, \"rgb(146,197,222)\"], [0.4, \"rgb(209,229,240)\"], [0.5, \"rgb(247,247,247)\"], [0.6, \"rgb(253,219,199)\"], [0.7, \"rgb(244,165,130)\"], [0.8, \"rgb(214,96,77)\"], [0.9, \"rgb(178,24,43)\"], [1.0, \"rgb(103,0,31)\"]], \"size\": 3}, \"mode\": \"lines+markers\", \"type\": \"scatter3d\", \"x\": [1.3599166346195304, 0.5785277585022172], \"y\": [0.988037269593016, 0.4203250201834756], \"z\": [-0.3210327695029529, -0.13657187787710512]}, {\"marker\": {\"cmax\": 2, \"cmin\": 0, \"color\": [1.12, 1.12], \"colorscale\": [[0.0, \"rgb(5,48,97)\"], [0.1, \"rgb(33,102,172)\"], [0.2, \"rgb(67,147,195)\"], [0.3, \"rgb(146,197,222)\"], [0.4, \"rgb(209,229,240)\"], [0.5, \"rgb(247,247,247)\"], [0.6, \"rgb(253,219,199)\"], [0.7, \"rgb(244,165,130)\"], [0.8, \"rgb(214,96,77)\"], [0.9, \"rgb(178,24,43)\"], [1.0, \"rgb(103,0,31)\"]], \"size\": 4}, \"mode\": \"markers\", \"type\": \"scatter3d\", \"x\": [-0.5801481323789575, -0.22097794031255602], \"y\": [-1.7855123561456863, -0.6801001689788493], \"z\": [-0.35855126431996887, -0.13657187787710512]}, {\"line\": {\"cmax\": 2, \"cmin\": 0, \"color\": [1.12, 1.12], \"colorscale\": [[0.0, \"rgb(5,48,97)\"], [0.1, \"rgb(33,102,172)\"], [0.2, \"rgb(67,147,195)\"], [0.3, \"rgb(146,197,222)\"], [0.4, \"rgb(209,229,240)\"], [0.5, \"rgb(247,247,247)\"], [0.6, \"rgb(253,219,199)\"], [0.7, \"rgb(244,165,130)\"], [0.8, \"rgb(214,96,77)\"], [0.9, \"rgb(178,24,43)\"], [1.0, \"rgb(103,0,31)\"]], \"width\": 16}, \"marker\": {\"cmax\": 2, \"cmin\": 0, \"color\": [1.12, 1.12], \"colorscale\": [[0.0, \"rgb(5,48,97)\"], [0.1, \"rgb(33,102,172)\"], [0.2, \"rgb(67,147,195)\"], [0.3, \"rgb(146,197,222)\"], [0.4, \"rgb(209,229,240)\"], [0.5, \"rgb(247,247,247)\"], [0.6, \"rgb(253,219,199)\"], [0.7, \"rgb(244,165,130)\"], [0.8, \"rgb(214,96,77)\"], [0.9, \"rgb(178,24,43)\"], [1.0, \"rgb(103,0,31)\"]], \"size\": 3}, \"mode\": \"lines+markers\", \"type\": \"scatter3d\", \"x\": [-0.5801481323789575, -0.22097794031255602], \"y\": [-1.7855123561456863, -0.6801001689788493], \"z\": [-0.35855126431996887, -0.13657187787710512]}, {\"marker\": {\"cmax\": 2, \"cmin\": 0, \"color\": [0.96, 0.96], \"colorscale\": [[0.0, \"rgb(5,48,97)\"], [0.1, \"rgb(33,102,172)\"], [0.2, \"rgb(67,147,195)\"], [0.3, \"rgb(146,197,222)\"], [0.4, \"rgb(209,229,240)\"], [0.5, \"rgb(247,247,247)\"], [0.6, \"rgb(253,219,199)\"], [0.7, \"rgb(244,165,130)\"], [0.8, \"rgb(214,96,77)\"], [0.9, \"rgb(178,24,43)\"], [1.0, \"rgb(103,0,31)\"]], \"size\": 4}, \"mode\": \"markers\", \"type\": \"scatter3d\", \"x\": [1.720239281977557, 0.7150996363793222], \"y\": [-2.4249675415969687e-16, -1.0080536035859895e-16], \"z\": [0.3285364684663563, 0.1365718778771052]}, {\"line\": {\"cmax\": 2, \"cmin\": 0, \"color\": [0.96, 0.96], \"colorscale\": [[0.0, \"rgb(5,48,97)\"], [0.1, \"rgb(33,102,172)\"], [0.2, \"rgb(67,147,195)\"], [0.3, \"rgb(146,197,222)\"], [0.4, \"rgb(209,229,240)\"], [0.5, \"rgb(247,247,247)\"], [0.6, \"rgb(253,219,199)\"], [0.7, \"rgb(244,165,130)\"], [0.8, \"rgb(214,96,77)\"], [0.9, \"rgb(178,24,43)\"], [1.0, \"rgb(103,0,31)\"]], \"width\": 16}, \"marker\": {\"cmax\": 2, \"cmin\": 0, \"color\": [0.96, 0.96], \"colorscale\": [[0.0, \"rgb(5,48,97)\"], [0.1, \"rgb(33,102,172)\"], [0.2, \"rgb(67,147,195)\"], [0.3, \"rgb(146,197,222)\"], [0.4, \"rgb(209,229,240)\"], [0.5, \"rgb(247,247,247)\"], [0.6, \"rgb(253,219,199)\"], [0.7, \"rgb(244,165,130)\"], [0.8, \"rgb(214,96,77)\"], [0.9, \"rgb(178,24,43)\"], [1.0, \"rgb(103,0,31)\"]], \"size\": 3}, \"mode\": \"lines+markers\", \"type\": \"scatter3d\", \"x\": [1.720239281977557, 0.7150996363793222], \"y\": [-2.4249675415969687e-16, -1.0080536035859895e-16], \"z\": [0.3285364684663563, 0.1365718778771052]}, {\"marker\": {\"cmax\": 2, \"cmin\": 0, \"color\": [0.84, 0.84], \"colorscale\": [[0.0, \"rgb(5,48,97)\"], [0.1, \"rgb(33,102,172)\"], [0.2, \"rgb(67,147,195)\"], [0.3, \"rgb(146,197,222)\"], [0.4, \"rgb(209,229,240)\"], [0.5, \"rgb(247,247,247)\"], [0.6, \"rgb(253,219,199)\"], [0.7, \"rgb(244,165,130)\"], [0.8, \"rgb(214,96,77)\"], [0.9, \"rgb(178,24,43)\"], [1.0, \"rgb(103,0,31)\"]], \"size\": 4}, \"mode\": \"markers\", \"type\": \"scatter3d\", \"x\": [-0.30602537157614645, -0.13657187787710506], \"y\": [0.9418492480578463, 0.4203250201834758], \"z\": [-1.296344276836189, -0.5785277585022172]}, {\"line\": {\"cmax\": 2, \"cmin\": 0, \"color\": [0.84, 0.84], \"colorscale\": [[0.0, \"rgb(5,48,97)\"], [0.1, \"rgb(33,102,172)\"], [0.2, \"rgb(67,147,195)\"], [0.3, \"rgb(146,197,222)\"], [0.4, \"rgb(209,229,240)\"], [0.5, \"rgb(247,247,247)\"], [0.6, \"rgb(253,219,199)\"], [0.7, \"rgb(244,165,130)\"], [0.8, \"rgb(214,96,77)\"], [0.9, \"rgb(178,24,43)\"], [1.0, \"rgb(103,0,31)\"]], \"width\": 16}, \"marker\": {\"cmax\": 2, \"cmin\": 0, \"color\": [0.84, 0.84], \"colorscale\": [[0.0, \"rgb(5,48,97)\"], [0.1, \"rgb(33,102,172)\"], [0.2, \"rgb(67,147,195)\"], [0.3, \"rgb(146,197,222)\"], [0.4, \"rgb(209,229,240)\"], [0.5, \"rgb(247,247,247)\"], [0.6, \"rgb(253,219,199)\"], [0.7, \"rgb(244,165,130)\"], [0.8, \"rgb(214,96,77)\"], [0.9, \"rgb(178,24,43)\"], [1.0, \"rgb(103,0,31)\"]], \"size\": 3}, \"mode\": \"lines+markers\", \"type\": \"scatter3d\", \"x\": [-0.30602537157614645, -0.13657187787710506], \"y\": [0.9418492480578463, 0.4203250201834758], \"z\": [-1.296344276836189, -0.5785277585022172]}, {\"marker\": {\"cmax\": 2, \"cmin\": 0, \"color\": [0.64, 0.64], \"colorscale\": [[0.0, \"rgb(5,48,97)\"], [0.1, \"rgb(33,102,172)\"], [0.2, \"rgb(67,147,195)\"], [0.3, \"rgb(146,197,222)\"], [0.4, \"rgb(209,229,240)\"], [0.5, \"rgb(247,247,247)\"], [0.6, \"rgb(253,219,199)\"], [0.7, \"rgb(244,165,130)\"], [0.8, \"rgb(214,96,77)\"], [0.9, \"rgb(178,24,43)\"], [1.0, \"rgb(103,0,31)\"]], \"size\": 4}, \"mode\": \"markers\", \"type\": \"scatter3d\", \"x\": [0.4344532528093523, 0.22097794031255583], \"y\": [-1.337109623843583, -0.6801001689788494], \"z\": [0.26850687675913076, 0.1365718778771052]}, {\"line\": {\"cmax\": 2, \"cmin\": 0, \"color\": [0.64, 0.64], \"colorscale\": [[0.0, \"rgb(5,48,97)\"], [0.1, \"rgb(33,102,172)\"], [0.2, \"rgb(67,147,195)\"], [0.3, \"rgb(146,197,222)\"], [0.4, \"rgb(209,229,240)\"], [0.5, \"rgb(247,247,247)\"], [0.6, \"rgb(253,219,199)\"], [0.7, \"rgb(244,165,130)\"], [0.8, \"rgb(214,96,77)\"], [0.9, \"rgb(178,24,43)\"], [1.0, \"rgb(103,0,31)\"]], \"width\": 16}, \"marker\": {\"cmax\": 2, \"cmin\": 0, \"color\": [0.64, 0.64], \"colorscale\": [[0.0, \"rgb(5,48,97)\"], [0.1, \"rgb(33,102,172)\"], [0.2, \"rgb(67,147,195)\"], [0.3, \"rgb(146,197,222)\"], [0.4, \"rgb(209,229,240)\"], [0.5, \"rgb(247,247,247)\"], [0.6, \"rgb(253,219,199)\"], [0.7, \"rgb(244,165,130)\"], [0.8, \"rgb(214,96,77)\"], [0.9, \"rgb(178,24,43)\"], [1.0, \"rgb(103,0,31)\"]], \"size\": 3}, \"mode\": \"lines+markers\", \"type\": \"scatter3d\", \"x\": [0.4344532528093523, 0.22097794031255583], \"y\": [-1.337109623843583, -0.6801001689788494], \"z\": [0.26850687675913076, 0.1365718778771052]}, {\"marker\": {\"cmax\": 2, \"cmin\": 0, \"color\": [0.76, 0.76], \"colorscale\": [[0.0, \"rgb(5,48,97)\"], [0.1, \"rgb(33,102,172)\"], [0.2, \"rgb(67,147,195)\"], [0.3, \"rgb(146,197,222)\"], [0.4, \"rgb(209,229,240)\"], [0.5, \"rgb(247,247,247)\"], [0.6, \"rgb(253,219,199)\"], [0.7, \"rgb(244,165,130)\"], [0.8, \"rgb(214,96,77)\"], [0.9, \"rgb(178,24,43)\"], [1.0, \"rgb(103,0,31)\"]], \"size\": 4}, \"mode\": \"markers\", \"type\": \"scatter3d\", \"x\": [-1.2327719190528479, -0.5785277585022172], \"y\": [0.8956612265226763, 0.4203250201834758], \"z\": [0.2910179736493404, 0.1365718778771052]}, {\"line\": {\"cmax\": 2, \"cmin\": 0, \"color\": [0.76, 0.76], \"colorscale\": [[0.0, \"rgb(5,48,97)\"], [0.1, \"rgb(33,102,172)\"], [0.2, \"rgb(67,147,195)\"], [0.3, \"rgb(146,197,222)\"], [0.4, \"rgb(209,229,240)\"], [0.5, \"rgb(247,247,247)\"], [0.6, \"rgb(253,219,199)\"], [0.7, \"rgb(244,165,130)\"], [0.8, \"rgb(214,96,77)\"], [0.9, \"rgb(178,24,43)\"], [1.0, \"rgb(103,0,31)\"]], \"width\": 16}, \"marker\": {\"cmax\": 2, \"cmin\": 0, \"color\": [0.76, 0.76], \"colorscale\": [[0.0, \"rgb(5,48,97)\"], [0.1, \"rgb(33,102,172)\"], [0.2, \"rgb(67,147,195)\"], [0.3, \"rgb(146,197,222)\"], [0.4, \"rgb(209,229,240)\"], [0.5, \"rgb(247,247,247)\"], [0.6, \"rgb(253,219,199)\"], [0.7, \"rgb(244,165,130)\"], [0.8, \"rgb(214,96,77)\"], [0.9, \"rgb(178,24,43)\"], [1.0, \"rgb(103,0,31)\"]], \"size\": 3}, \"mode\": \"lines+markers\", \"type\": \"scatter3d\", \"x\": [-1.2327719190528479, -0.5785277585022172], \"y\": [0.8956612265226763, 0.4203250201834758], \"z\": [0.2910179736493404, 0.1365718778771052]}, {\"marker\": {\"cmax\": 2, \"cmin\": 0, \"color\": [1.0, 1.0], \"colorscale\": [[0.0, \"rgb(5,48,97)\"], [0.1, \"rgb(33,102,172)\"], [0.2, \"rgb(67,147,195)\"], [0.3, \"rgb(146,197,222)\"], [0.4, \"rgb(209,229,240)\"], [0.5, \"rgb(247,247,247)\"], [0.6, \"rgb(253,219,199)\"], [0.7, \"rgb(244,165,130)\"], [0.8, \"rgb(214,96,77)\"], [0.9, \"rgb(178,24,43)\"], [1.0, \"rgb(103,0,31)\"]], \"size\": 4}, \"mode\": \"markers\", \"type\": \"scatter3d\", \"x\": [-0.8797645799163156, -0.35754981818966114], \"y\": [-0.6391863819419741, -0.2597751487953735], \"z\": [1.4234889924028717, 0.5785277585022172]}, {\"line\": {\"cmax\": 2, \"cmin\": 0, \"color\": [1.0, 1.0], \"colorscale\": [[0.0, \"rgb(5,48,97)\"], [0.1, \"rgb(33,102,172)\"], [0.2, \"rgb(67,147,195)\"], [0.3, \"rgb(146,197,222)\"], [0.4, \"rgb(209,229,240)\"], [0.5, \"rgb(247,247,247)\"], [0.6, \"rgb(253,219,199)\"], [0.7, \"rgb(244,165,130)\"], [0.8, \"rgb(214,96,77)\"], [0.9, \"rgb(178,24,43)\"], [1.0, \"rgb(103,0,31)\"]], \"width\": 16}, \"marker\": {\"cmax\": 2, \"cmin\": 0, \"color\": [1.0, 1.0], \"colorscale\": [[0.0, \"rgb(5,48,97)\"], [0.1, \"rgb(33,102,172)\"], [0.2, \"rgb(67,147,195)\"], [0.3, \"rgb(146,197,222)\"], [0.4, \"rgb(209,229,240)\"], [0.5, \"rgb(247,247,247)\"], [0.6, \"rgb(253,219,199)\"], [0.7, \"rgb(244,165,130)\"], [0.8, \"rgb(214,96,77)\"], [0.9, \"rgb(178,24,43)\"], [1.0, \"rgb(103,0,31)\"]], \"size\": 3}, \"mode\": \"lines+markers\", \"type\": \"scatter3d\", \"x\": [-0.8797645799163156, -0.35754981818966114], \"y\": [-0.6391863819419741, -0.2597751487953735], \"z\": [1.4234889924028717, 0.5785277585022172]}, {\"marker\": {\"cmax\": 2, \"cmin\": 0, \"color\": [1.2, 1.2], \"colorscale\": [[0.0, \"rgb(5,48,97)\"], [0.1, \"rgb(33,102,172)\"], [0.2, \"rgb(67,147,195)\"], [0.3, \"rgb(146,197,222)\"], [0.4, \"rgb(209,229,240)\"], [0.5, \"rgb(247,247,247)\"], [0.6, \"rgb(253,219,199)\"], [0.7, \"rgb(244,165,130)\"], [0.8, \"rgb(214,96,77)\"], [0.9, \"rgb(178,24,43)\"], [1.0, \"rgb(103,0,31)\"]], \"size\": 4}, \"mode\": \"markers\", \"type\": \"scatter3d\", \"x\": [0.9779892745540001, 0.3575498181896611], \"y\": [-0.7105507998965924, -0.2597751487953736], \"z\": [-1.582419886861225, -0.5785277585022172]}, {\"line\": {\"cmax\": 2, \"cmin\": 0, \"color\": [1.2, 1.2], \"colorscale\": [[0.0, \"rgb(5,48,97)\"], [0.1, \"rgb(33,102,172)\"], [0.2, \"rgb(67,147,195)\"], [0.3, \"rgb(146,197,222)\"], [0.4, \"rgb(209,229,240)\"], [0.5, \"rgb(247,247,247)\"], [0.6, \"rgb(253,219,199)\"], [0.7, \"rgb(244,165,130)\"], [0.8, \"rgb(214,96,77)\"], [0.9, \"rgb(178,24,43)\"], [1.0, \"rgb(103,0,31)\"]], \"width\": 16}, \"marker\": {\"cmax\": 2, \"cmin\": 0, \"color\": [1.2, 1.2], \"colorscale\": [[0.0, \"rgb(5,48,97)\"], [0.1, \"rgb(33,102,172)\"], [0.2, \"rgb(67,147,195)\"], [0.3, \"rgb(146,197,222)\"], [0.4, \"rgb(209,229,240)\"], [0.5, \"rgb(247,247,247)\"], [0.6, \"rgb(253,219,199)\"], [0.7, \"rgb(244,165,130)\"], [0.8, \"rgb(214,96,77)\"], [0.9, \"rgb(178,24,43)\"], [1.0, \"rgb(103,0,31)\"]], \"size\": 3}, \"mode\": \"lines+markers\", \"type\": \"scatter3d\", \"x\": [0.9779892745540001, 0.3575498181896611], \"y\": [-0.7105507998965924, -0.2597751487953736], \"z\": [-1.582419886861225, -0.5785277585022172]}, {\"marker\": {\"cmax\": 2, \"cmin\": 0, \"color\": [1.4000000000000001, 1.4000000000000001], \"colorscale\": [[0.0, \"rgb(5,48,97)\"], [0.1, \"rgb(33,102,172)\"], [0.2, \"rgb(67,147,195)\"], [0.3, \"rgb(146,197,222)\"], [0.4, \"rgb(209,229,240)\"], [0.5, \"rgb(247,247,247)\"], [0.6, \"rgb(253,219,199)\"], [0.7, \"rgb(244,165,130)\"], [0.8, \"rgb(214,96,77)\"], [0.9, \"rgb(178,24,43)\"], [1.0, \"rgb(103,0,31)\"]], \"size\": 4}, \"mode\": \"markers\", \"type\": \"scatter3d\", \"x\": [0.41107715706379144, 0.13657187787710517], \"y\": [1.265165398804037, 0.4203250201834758], \"z\": [1.7413507813195785, 0.5785277585022172]}, {\"line\": {\"cmax\": 2, \"cmin\": 0, \"color\": [1.4000000000000001, 1.4000000000000001], \"colorscale\": [[0.0, \"rgb(5,48,97)\"], [0.1, \"rgb(33,102,172)\"], [0.2, \"rgb(67,147,195)\"], [0.3, \"rgb(146,197,222)\"], [0.4, \"rgb(209,229,240)\"], [0.5, \"rgb(247,247,247)\"], [0.6, \"rgb(253,219,199)\"], [0.7, \"rgb(244,165,130)\"], [0.8, \"rgb(214,96,77)\"], [0.9, \"rgb(178,24,43)\"], [1.0, \"rgb(103,0,31)\"]], \"width\": 16}, \"marker\": {\"cmax\": 2, \"cmin\": 0, \"color\": [1.4000000000000001, 1.4000000000000001], \"colorscale\": [[0.0, \"rgb(5,48,97)\"], [0.1, \"rgb(33,102,172)\"], [0.2, \"rgb(67,147,195)\"], [0.3, \"rgb(146,197,222)\"], [0.4, \"rgb(209,229,240)\"], [0.5, \"rgb(247,247,247)\"], [0.6, \"rgb(253,219,199)\"], [0.7, \"rgb(244,165,130)\"], [0.8, \"rgb(214,96,77)\"], [0.9, \"rgb(178,24,43)\"], [1.0, \"rgb(103,0,31)\"]], \"size\": 3}, \"mode\": \"lines+markers\", \"type\": \"scatter3d\", \"x\": [0.41107715706379144, 0.13657187787710517], \"y\": [1.265165398804037, 0.4203250201834758], \"z\": [1.7413507813195785, 0.5785277585022172]}, {\"marker\": {\"cmax\": 2, \"cmin\": 0, \"color\": [0.56, 0.56], \"colorscale\": [[0.0, \"rgb(5,48,97)\"], [0.1, \"rgb(33,102,172)\"], [0.2, \"rgb(67,147,195)\"], [0.3, \"rgb(146,197,222)\"], [0.4, \"rgb(209,229,240)\"], [0.5, \"rgb(247,247,247)\"], [0.6, \"rgb(253,219,199)\"], [0.7, \"rgb(244,165,130)\"], [0.8, \"rgb(214,96,77)\"], [0.9, \"rgb(178,24,43)\"], [1.0, \"rgb(103,0,31)\"]], \"size\": 4}, \"mode\": \"markers\", \"type\": \"scatter3d\", \"x\": [-0.8203415457621701, -0.44195588062511193], \"y\": [1.258642228063258e-16, 6.780887024060584e-17], \"z\": [-1.0738410245944945, -0.5785277585022172]}, {\"line\": {\"cmax\": 2, \"cmin\": 0, \"color\": [0.56, 0.56], \"colorscale\": [[0.0, \"rgb(5,48,97)\"], [0.1, \"rgb(33,102,172)\"], [0.2, \"rgb(67,147,195)\"], [0.3, \"rgb(146,197,222)\"], [0.4, \"rgb(209,229,240)\"], [0.5, \"rgb(247,247,247)\"], [0.6, \"rgb(253,219,199)\"], [0.7, \"rgb(244,165,130)\"], [0.8, \"rgb(214,96,77)\"], [0.9, \"rgb(178,24,43)\"], [1.0, \"rgb(103,0,31)\"]], \"width\": 16}, \"marker\": {\"cmax\": 2, \"cmin\": 0, \"color\": [0.56, 0.56], \"colorscale\": [[0.0, \"rgb(5,48,97)\"], [0.1, \"rgb(33,102,172)\"], [0.2, \"rgb(67,147,195)\"], [0.3, \"rgb(146,197,222)\"], [0.4, \"rgb(209,229,240)\"], [0.5, \"rgb(247,247,247)\"], [0.6, \"rgb(253,219,199)\"], [0.7, \"rgb(244,165,130)\"], [0.8, \"rgb(214,96,77)\"], [0.9, \"rgb(178,24,43)\"], [1.0, \"rgb(103,0,31)\"]], \"size\": 3}, \"mode\": \"lines+markers\", \"type\": \"scatter3d\", \"x\": [-0.8203415457621701, -0.44195588062511193], \"y\": [1.258642228063258e-16, 6.780887024060584e-17], \"z\": [-1.0738410245944945, -0.5785277585022172]}, {\"mode\": \"text\", \"text\": [\"1\", \"2\", \"3\", \"4\", \"5\", \"6\", \"7\", \"8\", \"9\", \"10\", \"11\", \"12\", \"13\", \"14\", \"15\", \"16\", \"17\", \"18\", \"19\", \"20\"], \"textfont\": {\"color\": \"darkblue\", \"family\": \"sans serif\", \"size\": 20}, \"textposition\": \"middle center\", \"type\": \"scatter3d\", \"x\": [1.4274035439688564, -0.49361784566122663, -1.0958589081192214, 0.9779892745540004, 1.5824198868612247, -0.6044306123072246, 0.3735586622467752, -1.9559785491080002, 0.7622667318409633, -1.5824198868612251, 1.582419886861225, -0.6408543321996262, 1.9559785491080002, -0.37355866224677514, 0.6044306123072244, -1.582419886861225, -0.9779892745540003, 1.0762139691916845, 0.4485956518808074, -1.2088612246144494], \"y\": [-1.0950258378399938e-16, -1.519199517247472, 0.7961881014421338, 0.710550799896592, -1.1496953449661118, 1.860246144862704, -1.1496953449661116, 2.782116411806948e-16, 2.346015771523316, -1.1496953449661114, 1.1496953449661111, -1.9723468279382297, -2.757281817326106e-16, 1.1496953449661116, -1.860246144862704, 1.1496953449661116, -0.7105507998965921, -0.7819152178512103, 1.380635452641962, 1.8547442745379652e-16], \"z\": [1.8684954968862608, -2.090998749127955, 1.7731369602112488, -1.582419886861225, -0.37355866224677525, -0.37355866224677525, 1.5824198868612251, -0.37355866224677525, 0.47110674877101716, 0.37355866224677553, -0.37355866224677525, -0.3960697591369849, 0.37355866224677553, -1.582419886861225, 0.37355866224677553, 0.37355866224677553, 1.5824198868612251, -1.7413507813195779, 1.9002816757779315, -1.582419886861225]}],                        {\"showlegend\": false, \"template\": {\"data\": {\"bar\": [{\"error_x\": {\"color\": \"#2a3f5f\"}, \"error_y\": {\"color\": \"#2a3f5f\"}, \"marker\": {\"line\": {\"color\": \"#E5ECF6\", \"width\": 0.5}}, \"type\": \"bar\"}], \"barpolar\": [{\"marker\": {\"line\": {\"color\": \"#E5ECF6\", \"width\": 0.5}}, \"type\": \"barpolar\"}], \"carpet\": [{\"aaxis\": {\"endlinecolor\": \"#2a3f5f\", \"gridcolor\": \"white\", \"linecolor\": \"white\", \"minorgridcolor\": \"white\", \"startlinecolor\": \"#2a3f5f\"}, \"baxis\": {\"endlinecolor\": \"#2a3f5f\", \"gridcolor\": \"white\", \"linecolor\": \"white\", \"minorgridcolor\": \"white\", \"startlinecolor\": \"#2a3f5f\"}, \"type\": \"carpet\"}], \"choropleth\": [{\"colorbar\": {\"outlinewidth\": 0, \"ticks\": \"\"}, \"type\": \"choropleth\"}], \"contour\": [{\"colorbar\": {\"outlinewidth\": 0, \"ticks\": \"\"}, \"colorscale\": [[0.0, \"#0d0887\"], [0.1111111111111111, \"#46039f\"], [0.2222222222222222, \"#7201a8\"], [0.3333333333333333, \"#9c179e\"], [0.4444444444444444, \"#bd3786\"], [0.5555555555555556, \"#d8576b\"], [0.6666666666666666, \"#ed7953\"], [0.7777777777777778, \"#fb9f3a\"], [0.8888888888888888, \"#fdca26\"], [1.0, \"#f0f921\"]], \"type\": \"contour\"}], \"contourcarpet\": [{\"colorbar\": {\"outlinewidth\": 0, \"ticks\": \"\"}, \"type\": \"contourcarpet\"}], \"heatmap\": [{\"colorbar\": {\"outlinewidth\": 0, \"ticks\": \"\"}, \"colorscale\": [[0.0, \"#0d0887\"], [0.1111111111111111, \"#46039f\"], [0.2222222222222222, \"#7201a8\"], [0.3333333333333333, \"#9c179e\"], [0.4444444444444444, \"#bd3786\"], [0.5555555555555556, \"#d8576b\"], [0.6666666666666666, \"#ed7953\"], [0.7777777777777778, \"#fb9f3a\"], [0.8888888888888888, \"#fdca26\"], [1.0, \"#f0f921\"]], \"type\": \"heatmap\"}], \"heatmapgl\": [{\"colorbar\": {\"outlinewidth\": 0, \"ticks\": \"\"}, \"colorscale\": [[0.0, \"#0d0887\"], [0.1111111111111111, \"#46039f\"], [0.2222222222222222, \"#7201a8\"], [0.3333333333333333, \"#9c179e\"], [0.4444444444444444, \"#bd3786\"], [0.5555555555555556, \"#d8576b\"], [0.6666666666666666, \"#ed7953\"], [0.7777777777777778, \"#fb9f3a\"], [0.8888888888888888, \"#fdca26\"], [1.0, \"#f0f921\"]], \"type\": \"heatmapgl\"}], \"histogram\": [{\"marker\": {\"colorbar\": {\"outlinewidth\": 0, \"ticks\": \"\"}}, \"type\": \"histogram\"}], \"histogram2d\": [{\"colorbar\": {\"outlinewidth\": 0, \"ticks\": \"\"}, \"colorscale\": [[0.0, \"#0d0887\"], [0.1111111111111111, \"#46039f\"], [0.2222222222222222, \"#7201a8\"], [0.3333333333333333, \"#9c179e\"], [0.4444444444444444, \"#bd3786\"], [0.5555555555555556, \"#d8576b\"], [0.6666666666666666, \"#ed7953\"], [0.7777777777777778, \"#fb9f3a\"], [0.8888888888888888, \"#fdca26\"], [1.0, \"#f0f921\"]], \"type\": \"histogram2d\"}], \"histogram2dcontour\": [{\"colorbar\": {\"outlinewidth\": 0, \"ticks\": \"\"}, \"colorscale\": [[0.0, \"#0d0887\"], [0.1111111111111111, \"#46039f\"], [0.2222222222222222, \"#7201a8\"], [0.3333333333333333, \"#9c179e\"], [0.4444444444444444, \"#bd3786\"], [0.5555555555555556, \"#d8576b\"], [0.6666666666666666, \"#ed7953\"], [0.7777777777777778, \"#fb9f3a\"], [0.8888888888888888, \"#fdca26\"], [1.0, \"#f0f921\"]], \"type\": \"histogram2dcontour\"}], \"mesh3d\": [{\"colorbar\": {\"outlinewidth\": 0, \"ticks\": \"\"}, \"type\": \"mesh3d\"}], \"parcoords\": [{\"line\": {\"colorbar\": {\"outlinewidth\": 0, \"ticks\": \"\"}}, \"type\": \"parcoords\"}], \"pie\": [{\"automargin\": true, \"type\": \"pie\"}], \"scatter\": [{\"marker\": {\"colorbar\": {\"outlinewidth\": 0, \"ticks\": \"\"}}, \"type\": \"scatter\"}], \"scatter3d\": [{\"line\": {\"colorbar\": {\"outlinewidth\": 0, \"ticks\": \"\"}}, \"marker\": {\"colorbar\": {\"outlinewidth\": 0, \"ticks\": \"\"}}, \"type\": \"scatter3d\"}], \"scattercarpet\": [{\"marker\": {\"colorbar\": {\"outlinewidth\": 0, \"ticks\": \"\"}}, \"type\": \"scattercarpet\"}], \"scattergeo\": [{\"marker\": {\"colorbar\": {\"outlinewidth\": 0, \"ticks\": \"\"}}, \"type\": \"scattergeo\"}], \"scattergl\": [{\"marker\": {\"colorbar\": {\"outlinewidth\": 0, \"ticks\": \"\"}}, \"type\": \"scattergl\"}], \"scattermapbox\": [{\"marker\": {\"colorbar\": {\"outlinewidth\": 0, \"ticks\": \"\"}}, \"type\": \"scattermapbox\"}], \"scatterpolar\": [{\"marker\": {\"colorbar\": {\"outlinewidth\": 0, \"ticks\": \"\"}}, \"type\": \"scatterpolar\"}], \"scatterpolargl\": [{\"marker\": {\"colorbar\": {\"outlinewidth\": 0, \"ticks\": \"\"}}, \"type\": \"scatterpolargl\"}], \"scatterternary\": [{\"marker\": {\"colorbar\": {\"outlinewidth\": 0, \"ticks\": \"\"}}, \"type\": \"scatterternary\"}], \"surface\": [{\"colorbar\": {\"outlinewidth\": 0, \"ticks\": \"\"}, \"colorscale\": [[0.0, \"#0d0887\"], [0.1111111111111111, \"#46039f\"], [0.2222222222222222, \"#7201a8\"], [0.3333333333333333, \"#9c179e\"], [0.4444444444444444, \"#bd3786\"], [0.5555555555555556, \"#d8576b\"], [0.6666666666666666, \"#ed7953\"], [0.7777777777777778, \"#fb9f3a\"], [0.8888888888888888, \"#fdca26\"], [1.0, \"#f0f921\"]], \"type\": \"surface\"}], \"table\": [{\"cells\": {\"fill\": {\"color\": \"#EBF0F8\"}, \"line\": {\"color\": \"white\"}}, \"header\": {\"fill\": {\"color\": \"#C8D4E3\"}, \"line\": {\"color\": \"white\"}}, \"type\": \"table\"}]}, \"layout\": {\"annotationdefaults\": {\"arrowcolor\": \"#2a3f5f\", \"arrowhead\": 0, \"arrowwidth\": 1}, \"coloraxis\": {\"colorbar\": {\"outlinewidth\": 0, \"ticks\": \"\"}}, \"colorscale\": {\"diverging\": [[0, \"#8e0152\"], [0.1, \"#c51b7d\"], [0.2, \"#de77ae\"], [0.3, \"#f1b6da\"], [0.4, \"#fde0ef\"], [0.5, \"#f7f7f7\"], [0.6, \"#e6f5d0\"], [0.7, \"#b8e186\"], [0.8, \"#7fbc41\"], [0.9, \"#4d9221\"], [1, \"#276419\"]], \"sequential\": [[0.0, \"#0d0887\"], [0.1111111111111111, \"#46039f\"], [0.2222222222222222, \"#7201a8\"], [0.3333333333333333, \"#9c179e\"], [0.4444444444444444, \"#bd3786\"], [0.5555555555555556, \"#d8576b\"], [0.6666666666666666, \"#ed7953\"], [0.7777777777777778, \"#fb9f3a\"], [0.8888888888888888, \"#fdca26\"], [1.0, \"#f0f921\"]], \"sequentialminus\": [[0.0, \"#0d0887\"], [0.1111111111111111, \"#46039f\"], [0.2222222222222222, \"#7201a8\"], [0.3333333333333333, \"#9c179e\"], [0.4444444444444444, \"#bd3786\"], [0.5555555555555556, \"#d8576b\"], [0.6666666666666666, \"#ed7953\"], [0.7777777777777778, \"#fb9f3a\"], [0.8888888888888888, \"#fdca26\"], [1.0, \"#f0f921\"]]}, \"colorway\": [\"#636efa\", \"#EF553B\", \"#00cc96\", \"#ab63fa\", \"#FFA15A\", \"#19d3f3\", \"#FF6692\", \"#B6E880\", \"#FF97FF\", \"#FECB52\"], \"font\": {\"color\": \"#2a3f5f\"}, \"geo\": {\"bgcolor\": \"white\", \"lakecolor\": \"white\", \"landcolor\": \"#E5ECF6\", \"showlakes\": true, \"showland\": true, \"subunitcolor\": \"white\"}, \"hoverlabel\": {\"align\": \"left\"}, \"hovermode\": \"closest\", \"mapbox\": {\"style\": \"light\"}, \"paper_bgcolor\": \"white\", \"plot_bgcolor\": \"#E5ECF6\", \"polar\": {\"angularaxis\": {\"gridcolor\": \"white\", \"linecolor\": \"white\", \"ticks\": \"\"}, \"bgcolor\": \"#E5ECF6\", \"radialaxis\": {\"gridcolor\": \"white\", \"linecolor\": \"white\", \"ticks\": \"\"}}, \"scene\": {\"xaxis\": {\"backgroundcolor\": \"#E5ECF6\", \"gridcolor\": \"white\", \"gridwidth\": 2, \"linecolor\": \"white\", \"showbackground\": true, \"ticks\": \"\", \"zerolinecolor\": \"white\"}, \"yaxis\": {\"backgroundcolor\": \"#E5ECF6\", \"gridcolor\": \"white\", \"gridwidth\": 2, \"linecolor\": \"white\", \"showbackground\": true, \"ticks\": \"\", \"zerolinecolor\": \"white\"}, \"zaxis\": {\"backgroundcolor\": \"#E5ECF6\", \"gridcolor\": \"white\", \"gridwidth\": 2, \"linecolor\": \"white\", \"showbackground\": true, \"ticks\": \"\", \"zerolinecolor\": \"white\"}}, \"shapedefaults\": {\"line\": {\"color\": \"#2a3f5f\"}}, \"ternary\": {\"aaxis\": {\"gridcolor\": \"white\", \"linecolor\": \"white\", \"ticks\": \"\"}, \"baxis\": {\"gridcolor\": \"white\", \"linecolor\": \"white\", \"ticks\": \"\"}, \"bgcolor\": \"#E5ECF6\", \"caxis\": {\"gridcolor\": \"white\", \"linecolor\": \"white\", \"ticks\": \"\"}}, \"title\": {\"x\": 0.05}, \"xaxis\": {\"automargin\": true, \"gridcolor\": \"white\", \"linecolor\": \"white\", \"ticks\": \"\", \"title\": {\"standoff\": 15}, \"zerolinecolor\": \"white\", \"zerolinewidth\": 2}, \"yaxis\": {\"automargin\": true, \"gridcolor\": \"white\", \"linecolor\": \"white\", \"ticks\": \"\", \"title\": {\"standoff\": 15}, \"zerolinecolor\": \"white\", \"zerolinewidth\": 2}}}},                        {\"responsive\": true}                    ).then(function(){\n",
       "                            \n",
       "var gd = document.getElementById('c9bffb87-8feb-4863-a83a-99d459150276');\n",
       "var x = new MutationObserver(function (mutations, observer) {{\n",
       "        var display = window.getComputedStyle(gd).display;\n",
       "        if (!display || display === 'none') {{\n",
       "            console.log([gd, 'removed!']);\n",
       "            Plotly.purge(gd);\n",
       "            observer.disconnect();\n",
       "        }}\n",
       "}});\n",
       "\n",
       "// Listen for the removal of the full notebook cells\n",
       "var notebookContainer = gd.closest('#notebook-container');\n",
       "if (notebookContainer) {{\n",
       "    x.observe(notebookContainer, {childList: true});\n",
       "}}\n",
       "\n",
       "// Listen for the clearing of the current output cell\n",
       "var outputEl = gd.closest('.output');\n",
       "if (outputEl) {{\n",
       "    x.observe(outputEl, {childList: true});\n",
       "}}\n",
       "\n",
       "                        })                };                });            </script>        </div>"
      ]
     },
     "metadata": {},
     "output_type": "display_data"
    },
    {
     "data": {
      "image/png": "[encoded data removed]",
      "text/plain": [
       "<Figure size 720x720 with 1 Axes>"
      ]
     },
     "metadata": {
      "needs_background": "light"
     },
     "output_type": "display_data"
    },
    {
     "data": {
      "image/png": "[encoded data removed]",
      "text/plain": [
       "<Figure size 720x720 with 1 Axes>"
      ]
     },
     "metadata": {
      "needs_background": "light"
     },
     "output_type": "display_data"
    }
   ],
   "source": [
    "#CALL THE DISPLAY FUNCTIONS:\n",
    "\n",
    "#Only rerun if you want to change the selection\n",
    "nrolls = 500\n",
    "%matplotlib inline\n",
    "\n",
    "if True:\n",
    "    dice_set = rng.choice(test_dice.iloc[:,0], nrolls, shuffle=False)\n",
    "    #dice_set = test_dice.iloc[:,0]\n",
    "\n",
    "display_dice_v2(dice_set)\n",
    "dice_hist, test_hist, test_sets, numsets = plot_dice_stats_v2(dice_set, numsets=20000)\n",
    "test_err1, test_err2, dice_err1, dice_err2 = get_adjacency_likelihood(dice_set, test_sets)"
   ]
  },
  {
   "cell_type": "code",
   "execution_count": null,
   "metadata": {},
   "outputs": [],
   "source": [
    "#TESTING\n",
    "\n",
    "\n",
    "face_err1_set = np.zeros([test_sets.shape[0], 20])\n",
    "face_err2_set = np.zeros([test_sets.shape[0], 20])\n",
    "face_err3_set = np.zeros([test_sets.shape[0], 20])\n",
    "for n in range(test_sets.shape[0]):\n",
    "    face_err1_set[n,:], face_err2_set[n,:], face_err3_set[n,:] = calculate_adjacency_mat(test_sets[n,:])\n",
    "\n",
    "test_err1 = np.sqrt(np.sum(np.square(face_err1_set), axis=1))\n",
    "test_err2 = np.sqrt(np.sum(np.square(face_err2_set), axis=1))\n",
    "test_err3 = np.sqrt(np.sum(np.square(face_err3_set), axis=1))\n",
    "\n",
    "test_errs = np.vstack([test_err1, test_err2, test_err3]).T\n",
    "\n",
    "\n",
    "#Test set of \"contamination\" results:\n",
    "dice_dims = []\n",
    "for n in range(200):\n",
    "    tempset = rng.choice(test_dice.iloc[:,0], nrolls, shuffle=False)\n",
    "    dice_err1_pre, dice_err2_pre, dice_err3_pre = calculate_adjacency_mat(tempset)\n",
    "    dice_dims.append([np.sqrt(np.sum(np.square(dice_err1_pre))),\n",
    "                      np.sqrt(np.sum(np.square(dice_err2_pre))),\n",
    "                      np.sqrt(np.sum(np.square(dice_err3_pre)))])\n",
    "dice_dims = np.array(dice_dims)\n",
    "\n",
    "\n",
    "#Test out an appropriately-fitted EllipticEnveloped and MinCovDet,\n",
    "#assuming that our dice 0 should be excluded. \n",
    "EllEnv = EllipticEnvelope(support_fraction=0.98, contamination=0.02)\n",
    "EllEnv.fit(test_errs)\n",
    "dice_preds = EllEnv.predict(dice_dims)\n",
    "test_preds = EllEnv.predict(test_errs)"
   ]
  },
  {
   "cell_type": "code",
   "execution_count": null,
   "metadata": {},
   "outputs": [],
   "source": [
    "set1 = dice_preds == 1\n",
    "set2 = dice_preds == -1\n",
    "\n",
    "print('Non-separable:',sum(set1), ', separable:', sum(set2))\n",
    "\n",
    "%matplotlib notebook\n",
    "\n",
    "fig = plt.figure()\n",
    "ax = fig.add_subplot(projection='3d')\n",
    "ax.plot(test_errs[:500,0], test_errs[:500,1], test_errs[:500,2], 'r+')\n",
    "ax.plot(dice_dims[set1,0], dice_dims[set1,1], dice_dims[set1,2], 'rx')\n",
    "ax.plot(dice_dims[set2,0], dice_dims[set2,1], dice_dims[set2,2], 'bx')"
   ]
  },
  {
   "cell_type": "code",
   "execution_count": null,
   "metadata": {},
   "outputs": [],
   "source": [
    "# 0.30463092423455634 1.58290871499275 1.3740451229854136\n",
    "\n",
    "np.linspace(min( [.305, 1.374-2] )-1,\n",
    "            max( [1.583, 1.374+2] )+2,num=20)"
   ]
  },
  {
   "cell_type": "code",
   "execution_count": null,
   "metadata": {},
   "outputs": [],
   "source": [
    "face_err1_set = np.zeros([test_sets.shape[0], 20])\n",
    "face_err2_set = np.zeros([test_sets.shape[0], 20])\n",
    "face_err3_set = np.zeros([test_sets.shape[0], 20])\n",
    "\n",
    "for n in range(test_sets.shape[0]):\n",
    "\n",
    "    face_err1_set[n,:], face_err2_set[n,:], face_err3_set[n,:] = calculate_adjacency(test_sets[n,:])"
   ]
  },
  {
   "cell_type": "code",
   "execution_count": null,
   "metadata": {},
   "outputs": [],
   "source": [
    "face_err3_set.shape"
   ]
  },
  {
   "cell_type": "code",
   "execution_count": null,
   "metadata": {},
   "outputs": [],
   "source": [
    "#THEORETICAL POWER TESTING:\n",
    "\n",
    "from statsmodels.stats.power import GofChisquarePower\n",
    "\n",
    "vals = GofChisquarePower()\n",
    "\n",
    "vals.power(effect_size=0.25, nobs=400, alpha=.05, n_bins=20)\n",
    "\n",
    "vals.solve_power(effect_size=0.5, alpha=0.01, power=0.95, n_bins=20)"
   ]
  },
  {
   "cell_type": "code",
   "execution_count": null,
   "metadata": {},
   "outputs": [],
   "source": [
    "np.cov(test_errs.T)"
   ]
  },
  {
   "cell_type": "markdown",
   "metadata": {},
   "source": [
    "### DECENT RULES OF THUMB FOR DICE TESTING:\n",
    "\n",
    "\n",
    "#### Q: How many times do I need to roll to be sure my dice is weird?\n",
    "\n",
    "If you roll the dice **200** times,\n",
    "it may be biased (p<0.05) if:\n",
    "- The least common face shows up less than 3 times\n",
    "- The most common face shows up more than 20 times\n",
    "\n",
    "If you roll the dice **250** times,\n",
    "it may be biased if:\n",
    "- The least common face shows up less than 4 times\n",
    "- The most common face shows up more than 23 times\n",
    "\n",
    "If you roll the dice **350** times,\n",
    "it may be biased if:\n",
    "- The least common face shows up less than 7 times\n",
    "- The most common face shows up more than 30 times\n",
    "\n",
    "If you roll the dice **600** times,\n",
    "it may be biased if:\n",
    "- The least common face shows up less than 16 times\n",
    "- The most common face shows up more than 46 times\n",
    "\n",
    "If you roll the dice **1200** times,\n",
    "it may be biased if:\n",
    "- The least common face shows up less than 40 times\n",
    "- The most common face shows up more than 82 times\n",
    "\n",
    "In other words, even if you roll over a thousand times, one of your faces may come up more than twice as often as the least common by completely random chance. That also means that if your dice is biased so that one face comes up twice as often as another, it's difficult to say so reliably. A d20 has a lot of potential values, so doing practical testing for even fairly large biases takes a LOT of data if you want to be sure *how much* bias there is.\n",
    "\n",
    "That said, we can tell that a dice *has bias* much earlier. We can use a chi-squared test to determine whether the distribution of numbers you rolled could feasibly be from an unbiased distribution. Established power tests let us estimate how many times we'd need to roll to see an effect. From the basic chi-squared power test that uses Cohen's \"w\" for power,\\* you can calculate how many rolls you would need to detect: 1) A \"large\" effect size of 0.5, with 2) a probability of 0.05 for false negative, 3) detected 80% of the time (a standard metric for power estimates, for whatever reason). Using those numbers, we get an estimate of a bit over 150 rolls. If your dice is pretty heavily biased for or against one face, that's about how many it takes to be reasonably sure something is there. \n",
    "\n",
    "\\**(Apparently, it's iffy given how many categories we have, but still commonly used for power estimates)*\n",
    "\n",
    "One thing our statistical tools don't take into account very well is that dice are a physical object. The odds that a face will roll depend directly on the odds for *adjacent* faces, because of how a dice rolls. For example, if the edges surrounding the \"1\" face are rounded, the dice will tend to continue rolling, rather than stopping to rest on that face. Therefore, you will be less likely to roll a 20... but perhaps more likely to roll 2, 8, and 14, if the rest of the edges are all less rounded. Similarly, if a dice is weighted, and has its center of mass offset toward 1, it will tend to end up with 20 facing up more often... and the 2, 8, and 14 around it may also be more likely to appear. In each case, there is an order to whether adjacent numbers are similar. Compared to a truly random dice, if you see a difference between adjacent faces that is greater than you'd expect or less than you'd expect, your dice may be biased. "
   ]
  },
  {
   "cell_type": "code",
   "execution_count": null,
   "metadata": {},
   "outputs": [],
   "source": [
    "#Empirical power testing:\n",
    "\n",
    "#For a given number of rolls, how often does the chi-squared test\n",
    "#recognize that the dice is biased?\n",
    "\n",
    "from scipy.stats import chisquare\n",
    "\n",
    "tgt_dice = test_dice.iloc[:,0]\n",
    "\n",
    "#Not worthwhile to do anything over 1000, we're reusing the same 2000 samples\n",
    "ntests = 500 \n",
    "\n",
    "nrolls_set = [50,75,100,125,150,175,200,250,300,350,400,450,500,600,700,800,900,1000,1250,1500,1750,2000]\n",
    "test_chis = np.zeros([len(nrolls_set), ntests])\n",
    "test_ps = np.zeros([len(nrolls_set), ntests])\n",
    "\n",
    "for rolls_n in range(len(nrolls_set)):\n",
    "    for tests_n in np.arange(0,ntests):\n",
    "        dice_set = rng.choice(tgt_dice, nrolls_set[rolls_n], shuffle=False)\n",
    "        dice_hist, dice_bins = np.histogram(dice_set, bins=np.arange(0.5,21.5))\n",
    "        test_chi, test_p = chisquare(dice_hist)\n",
    "        test_chis[rolls_n, tests_n] = test_chi\n",
    "        test_ps[rolls_n, tests_n] = test_p"
   ]
  },
  {
   "cell_type": "code",
   "execution_count": null,
   "metadata": {},
   "outputs": [],
   "source": [
    "fig, axs = plt.subplots(2,1, figsize=[12,10])\n",
    "axs[0].imshow(test_chis, aspect=ntests/50)\n",
    "axs[0].set_yticks(list(range(len(nrolls_set))))\n",
    "axs[0].set_yticklabels([str(item) for item in nrolls_set])\n",
    "axs[1].imshow(test_ps, aspect=ntests/50)\n",
    "axs[1].set_yticks(list(range(len(nrolls_set))))\n",
    "axs[1].set_yticklabels([str(item) for item in nrolls_set])\n",
    "plt.show()\n",
    "\n",
    "print()\n",
    "print('Rolls tested:\\n         Sets that were p<0.05 out of {}'.format(ntests))\n",
    "for item in zip(nrolls_set, np.sum(test_ps < 0.05, axis=1)):\n",
    "    print('{:<4}: {:>10}/{} ({:.3f})'.format(item[0], item[1], ntests, item[1]/ntests))"
   ]
  },
  {
   "cell_type": "code",
   "execution_count": null,
   "metadata": {},
   "outputs": [],
   "source": [
    "from sklearn.covariance import EllipticEnvelope\n",
    "\n",
    "X = np.array([test_err1, test_err2]).T\n",
    "EllEnv = EllipticEnvelope(random_state=0, support_fraction=1)\n",
    "EllEnv.fit(X)\n",
    "Inside_set = EllEnv.predict([[dice_err1, dice_err2]])\n",
    "print(Inside_set)\n",
    "Inside_score = EllEnv.score_samples([[dice_err1, dice_err2]])\n",
    "print(Inside_score)"
   ]
  },
  {
   "cell_type": "code",
   "execution_count": null,
   "metadata": {},
   "outputs": [],
   "source": [
    "plt.hist(test_err1)"
   ]
  },
  {
   "cell_type": "code",
   "execution_count": null,
   "metadata": {},
   "outputs": [],
   "source": [
    "tgt = [[319,500]]\n",
    "print(EllEnv.predict(tgt))\n",
    "print(EllEnv.score_samples(tgt))"
   ]
  },
  {
   "cell_type": "code",
   "execution_count": null,
   "metadata": {},
   "outputs": [],
   "source": [
    "#So I could use these prebuilt tools, or I could implement a\n",
    "#quick "
   ]
  },
  {
   "cell_type": "code",
   "execution_count": null,
   "metadata": {},
   "outputs": [],
   "source": [
    "from sklearn.mixture import GaussianMixture\n",
    "\n",
    "X = np.array([test_err1, test_err2]).T\n",
    "GauMix = GaussianMixture(random_state=0, )"
   ]
  },
  {
   "cell_type": "code",
   "execution_count": null,
   "metadata": {},
   "outputs": [],
   "source": []
  }
 ],
 "metadata": {
  "kernelspec": {
   "display_name": "Python 3",
   "language": "python",
   "name": "python3"
  },
  "language_info": {
   "codemirror_mode": {
    "name": "ipython",
    "version": 3
   },
   "file_extension": ".py",
   "mimetype": "text/x-python",
   "name": "python",
   "nbconvert_exporter": "python",
   "pygments_lexer": "ipython3",
   "version": "3.7.10"
  }
 },
 "nbformat": 4,
 "nbformat_minor": 4
}
